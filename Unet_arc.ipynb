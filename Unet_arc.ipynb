{
  "nbformat": 4,
  "nbformat_minor": 0,
  "metadata": {
    "colab": {
      "name": "Unet_arc",
      "provenance": [],
      "collapsed_sections": [],
      "authorship_tag": "ABX9TyOZvIvYNpV/oQ3UaWjso1uW",
      "include_colab_link": true
    },
    "kernelspec": {
      "name": "python3",
      "display_name": "Python 3"
    },
    "accelerator": "GPU"
  },
  "cells": [
    {
      "cell_type": "markdown",
      "metadata": {
        "id": "view-in-github",
        "colab_type": "text"
      },
      "source": [
        "<a href=\"https://colab.research.google.com/github/mohdrahil7/image-Segmentation/blob/master/Unet_arc.ipynb\" target=\"_parent\"><img src=\"https://colab.research.google.com/assets/colab-badge.svg\" alt=\"Open In Colab\"/></a>"
      ]
    },
    {
      "cell_type": "code",
      "metadata": {
        "id": "_lmu5cASZqwS",
        "colab_type": "code",
        "outputId": "76950100-f2a3-4046-d6b4-afa2a1306217",
        "colab": {
          "base_uri": "https://localhost:8080/",
          "height": 34
        }
      },
      "source": [
        "from google.colab import drive\n",
        "drive.mount('/content/drive/')"
      ],
      "execution_count": 18,
      "outputs": [
        {
          "output_type": "stream",
          "text": [
            "Drive already mounted at /content/drive/; to attempt to forcibly remount, call drive.mount(\"/content/drive/\", force_remount=True).\n"
          ],
          "name": "stdout"
        }
      ]
    },
    {
      "cell_type": "code",
      "metadata": {
        "id": "O-PQmE0Rad4m",
        "colab_type": "code",
        "colab": {}
      },
      "source": [
        "#implementation of fcn-8 code\n",
        "from keras.layers import *\n",
        "from keras import Model\n",
        "from matplotlib import pyplot as plt\n",
        "import cv2\n",
        "import os\n",
        "import numpy as np"
      ],
      "execution_count": 0,
      "outputs": []
    },
    {
      "cell_type": "code",
      "metadata": {
        "id": "Q1mU6D6YapmT",
        "colab_type": "code",
        "colab": {}
      },
      "source": [
        "os.chdir('/content/drive')"
      ],
      "execution_count": 0,
      "outputs": []
    },
    {
      "cell_type": "code",
      "metadata": {
        "id": "E1NZgsx9auMZ",
        "colab_type": "code",
        "colab": {}
      },
      "source": [
        "os.chdir('My Drive')"
      ],
      "execution_count": 0,
      "outputs": []
    },
    {
      "cell_type": "code",
      "metadata": {
        "id": "8ENr-9HFav6R",
        "colab_type": "code",
        "colab": {}
      },
      "source": [
        "os.chdir('dataset')"
      ],
      "execution_count": 0,
      "outputs": []
    },
    {
      "cell_type": "code",
      "metadata": {
        "id": "aurGXSyEay8P",
        "colab_type": "code",
        "colab": {}
      },
      "source": [
        "#reading the training data \n",
        "#reading x and y data\n",
        "x=np.load('Skin_TestX.npy')\n",
        "y=np.load('Skin_TestY.npy')\n",
        "#reading the test_data\n",
        "x_test=np.load('Skin_ValidX.npy')\n",
        "y_test=np.load('Skin_ValidY.npy')"
      ],
      "execution_count": 0,
      "outputs": []
    },
    {
      "cell_type": "code",
      "metadata": {
        "id": "OZ3UyAqba1Rm",
        "colab_type": "code",
        "colab": {
          "base_uri": "https://localhost:8080/",
          "height": 85
        },
        "outputId": "147b6bfc-cc37-4d93-cbc9-57521c59677b"
      },
      "source": [
        "print(x.shape)\n",
        "print(y.shape)\n",
        "print(x_test.shape)\n",
        "print(y_test.shape)"
      ],
      "execution_count": 24,
      "outputs": [
        {
          "output_type": "stream",
          "text": [
            "(600, 192, 256, 3)\n",
            "(600, 192, 256)\n",
            "(150, 192, 256, 3)\n",
            "(150, 192, 256)\n"
          ],
          "name": "stdout"
        }
      ]
    },
    {
      "cell_type": "code",
      "metadata": {
        "id": "2JxGzq3pa4PH",
        "colab_type": "code",
        "colab": {
          "base_uri": "https://localhost:8080/",
          "height": 119
        },
        "outputId": "1a4109bc-012d-43bb-d5ea-185029b8cd3b"
      },
      "source": [
        "#preprocessing of data\n",
        "#converting the data into first gray scale and then reducing dimensions\n",
        "x_gray=[]\n",
        "for i in range(0,len(x)):\n",
        "    x_gray.append(cv2.cvtColor(x[i],cv2.COLOR_BGR2GRAY))\n",
        "x=np.array(x_gray)\n",
        "x_test_gray=[]\n",
        "for i in range(0,len(x_test)):\n",
        "    x_test_gray.append(cv2.cvtColor(x_test[i],cv2.COLOR_BGR2GRAY))\n",
        "x_test=np.array(x_test_gray)\n",
        "\n",
        "del x_gray\n",
        "del x_test_gray\n",
        "\n",
        "#resizing of the array into size of 128, 128 using cv2\n",
        "x_resize=[]\n",
        "for i in range(0,len(x)):\n",
        "    x_resize.append(cv2.resize(x[i],(128,128)))\n",
        "print(len(x_resize))\n",
        "x_tresize=[]\n",
        "for i in range(0,len(x_test)):\n",
        "    x_tresize.append(cv2.resize(x_test[i],(128,128)))\n",
        "print(len(x_tresize))\n",
        "\n",
        "x=np.array(x_resize)\n",
        "print(x.shape)\n",
        "x_test=np.array(x_tresize)\n",
        "print(x_test.shape)\n",
        "\n",
        "#now converting each element into 3 dimension\n",
        "x=x.reshape(-1,128,128,1)\n",
        "print(x.shape)\n",
        "x_test=x_test.reshape(-1,128,128,1)\n",
        "print(x_test.shape)"
      ],
      "execution_count": 25,
      "outputs": [
        {
          "output_type": "stream",
          "text": [
            "600\n",
            "150\n",
            "(600, 128, 128)\n",
            "(150, 128, 128)\n",
            "(600, 128, 128, 1)\n",
            "(150, 128, 128, 1)\n"
          ],
          "name": "stdout"
        }
      ]
    },
    {
      "cell_type": "code",
      "metadata": {
        "id": "jUzWaHi6a7CB",
        "colab_type": "code",
        "colab": {
          "base_uri": "https://localhost:8080/",
          "height": 85
        },
        "outputId": "c4b6bd45-d613-4a36-b7da-69add6333774"
      },
      "source": [
        "#now performing the same operations for the y data\n",
        "y_resize=[]\n",
        "y_tresize=[]\n",
        "for i in range(0,len(y)):\n",
        "    y_resize.append(cv2.resize(y[i],(128,128)))\n",
        "len(y_resize)\n",
        "y=np.array(y_resize)\n",
        "print(y.shape)\n",
        "y=y.reshape(-1,128,128,1)\n",
        "print(y.shape)\n",
        "\n",
        "for i in range(0,len(y_test)):\n",
        "    y_tresize.append(cv2.resize(y_test[i],(128,128)))\n",
        "len(y_tresize)\n",
        "y_test=np.array(y_tresize)\n",
        "print(y_test.shape)\n",
        "y_test=y_test.reshape(-1,128,128,1)\n",
        "print(y_test.shape)\n",
        "\n",
        "del y_resize\n",
        "del y_tresize\n",
        "del x_resize\n",
        "del x_tresize"
      ],
      "execution_count": 26,
      "outputs": [
        {
          "output_type": "stream",
          "text": [
            "(600, 128, 128)\n",
            "(600, 128, 128, 1)\n",
            "(150, 128, 128)\n",
            "(150, 128, 128, 1)\n"
          ],
          "name": "stdout"
        }
      ]
    },
    {
      "cell_type": "code",
      "metadata": {
        "id": "WL-f1dwMa_9I",
        "colab_type": "code",
        "colab": {
          "base_uri": "https://localhost:8080/",
          "height": 85
        },
        "outputId": "6aa6b16f-549b-48b5-8e95-86f579f37f56"
      },
      "source": [
        "#finally after performing the all transformation\n",
        "print(x.shape)\n",
        "print(y.shape)\n",
        "print(x_test.shape)\n",
        "print(y_test.shape)"
      ],
      "execution_count": 27,
      "outputs": [
        {
          "output_type": "stream",
          "text": [
            "(600, 128, 128, 1)\n",
            "(600, 128, 128, 1)\n",
            "(150, 128, 128, 1)\n",
            "(150, 128, 128, 1)\n"
          ],
          "name": "stdout"
        }
      ]
    },
    {
      "cell_type": "code",
      "metadata": {
        "id": "kcpeWPH2bCoi",
        "colab_type": "code",
        "colab": {}
      },
      "source": [
        "#performing the normalization of taking each value between 0 and 1\n",
        "x=x.astype('float32')/255\n",
        "y=y.astype('float32')/255\n",
        "x_test=x_test.astype('float32')/255\n",
        "y_test=y_test.astype('float32')/255"
      ],
      "execution_count": 0,
      "outputs": []
    },
    {
      "cell_type": "code",
      "metadata": {
        "id": "o6xAaJuHbEsR",
        "colab_type": "code",
        "colab": {}
      },
      "source": [
        "#normalizing the training data\n",
        "x_mean=np.mean(x)\n",
        "x_std=np.std(x)\n",
        "x=x-x_mean\n",
        "x=x/x_std"
      ],
      "execution_count": 0,
      "outputs": []
    },
    {
      "cell_type": "code",
      "metadata": {
        "id": "2_q67NLJbHal",
        "colab_type": "code",
        "colab": {}
      },
      "source": [
        "#normalizing test data\n",
        "x_test=x_test-x_mean\n",
        "x_test=x_test/x_std"
      ],
      "execution_count": 0,
      "outputs": []
    },
    {
      "cell_type": "code",
      "metadata": {
        "id": "mJRutH7kbJZv",
        "colab_type": "code",
        "colab": {
          "base_uri": "https://localhost:8080/",
          "height": 833
        },
        "outputId": "1e9a4ccc-e568-4900-8a77-a31de8514bc2"
      },
      "source": [
        "#creating a Unet Network but since we are not creating the sequentail network so we need model API to create model\n",
        "\n",
        "def create_model():\n",
        "  input_img=Input(shape=(128,128,1))\n",
        "  \n",
        "  #block_1\n",
        "  z=Conv2D(32,(3,3),padding='same',input_shape=(128,128,1),activation='relu',name='block1_conv1')(input_img)\n",
        "  conv1=Conv2D(32,(3,3),padding='same',activation='relu',name='block1_conv2')(z)\n",
        "  z=MaxPool2D(pool_size=(2,2),strides=(2,2),name='block1_maxpooling')(conv1)\n",
        "\n",
        "  #block_2\n",
        "  z=Conv2D(64,(3,3),padding='same',activation='relu',name='block2_conv1')(z)\n",
        "  conv2=Conv2D(64,(3,3),padding='same',activation='relu',name='block2_conv2')(z)\n",
        "  z=MaxPool2D(pool_size=(2,2),strides=(2,2),name='block2_maxpooling')(conv2)\n",
        "\n",
        "  #block_3\n",
        "  z=Conv2D(128,(3,3),padding='same',activation='relu',name='block3_conv1')(z)\n",
        "  z=Conv2D(128,(3,3),padding='same',activation='relu',name='block3_conv2')(z)\n",
        "  up1=Conv2DTranspose(128,(2,2),strides=(2,2),activation='relu',padding='same',name='upsampling')(z)\n",
        "\n",
        "  concat1=concatenate([up1,conv2])\n",
        "  #block_4\n",
        "  z=Conv2D(64,(3,3),padding='same',activation='relu',name='block4_conv1')(concat1)\n",
        "  z=Conv2D(64,(3,3),padding='same',activation='relu',name='block4_conv2')(z)\n",
        "  up2=Conv2DTranspose(64,(2,2),strides=(2,2),activation='relu',padding='same',name='upsampling2')(z)\n",
        "  \n",
        "  concat2=concatenate([up2,conv1])\n",
        "  #block_5\n",
        "  z=Conv2D(32,(3,3),padding='same',activation='relu',name='block5_conv1')(concat2)\n",
        "  z=Conv2D(32,(3,3),padding='same',activation='relu',name='block5_conv2')(z)\n",
        "  z=Dropout(0.5)(z)\n",
        "  final=Conv2D(1,(1,1),activation='relu',padding='same' ,name='final')(z)\n",
        "\n",
        "  model1=Model(input_img,final)\n",
        "  return model1\n",
        "\n",
        "model=create_model()\n",
        "model.summary()"
      ],
      "execution_count": 38,
      "outputs": [
        {
          "output_type": "stream",
          "text": [
            "Model: \"model_3\"\n",
            "__________________________________________________________________________________________________\n",
            "Layer (type)                    Output Shape         Param #     Connected to                     \n",
            "==================================================================================================\n",
            "input_5 (InputLayer)            (None, 128, 128, 1)  0                                            \n",
            "__________________________________________________________________________________________________\n",
            "block1_conv1 (Conv2D)           (None, 128, 128, 32) 320         input_5[0][0]                    \n",
            "__________________________________________________________________________________________________\n",
            "block1_conv2 (Conv2D)           (None, 128, 128, 32) 9248        block1_conv1[0][0]               \n",
            "__________________________________________________________________________________________________\n",
            "block1_maxpooling (MaxPooling2D (None, 64, 64, 32)   0           block1_conv2[0][0]               \n",
            "__________________________________________________________________________________________________\n",
            "block2_conv1 (Conv2D)           (None, 64, 64, 64)   18496       block1_maxpooling[0][0]          \n",
            "__________________________________________________________________________________________________\n",
            "block2_conv2 (Conv2D)           (None, 64, 64, 64)   36928       block2_conv1[0][0]               \n",
            "__________________________________________________________________________________________________\n",
            "block2_maxpooling (MaxPooling2D (None, 32, 32, 64)   0           block2_conv2[0][0]               \n",
            "__________________________________________________________________________________________________\n",
            "block3_conv1 (Conv2D)           (None, 32, 32, 128)  73856       block2_maxpooling[0][0]          \n",
            "__________________________________________________________________________________________________\n",
            "block3_conv2 (Conv2D)           (None, 32, 32, 128)  147584      block3_conv1[0][0]               \n",
            "__________________________________________________________________________________________________\n",
            "upsampling (Conv2DTranspose)    (None, 64, 64, 128)  65664       block3_conv2[0][0]               \n",
            "__________________________________________________________________________________________________\n",
            "concatenate_3 (Concatenate)     (None, 64, 64, 192)  0           upsampling[0][0]                 \n",
            "                                                                 block2_conv2[0][0]               \n",
            "__________________________________________________________________________________________________\n",
            "block4_conv1 (Conv2D)           (None, 64, 64, 64)   110656      concatenate_3[0][0]              \n",
            "__________________________________________________________________________________________________\n",
            "block4_conv2 (Conv2D)           (None, 64, 64, 64)   36928       block4_conv1[0][0]               \n",
            "__________________________________________________________________________________________________\n",
            "upsampling2 (Conv2DTranspose)   (None, 128, 128, 64) 16448       block4_conv2[0][0]               \n",
            "__________________________________________________________________________________________________\n",
            "concatenate_4 (Concatenate)     (None, 128, 128, 96) 0           upsampling2[0][0]                \n",
            "                                                                 block1_conv2[0][0]               \n",
            "__________________________________________________________________________________________________\n",
            "block5_conv1 (Conv2D)           (None, 128, 128, 32) 27680       concatenate_4[0][0]              \n",
            "__________________________________________________________________________________________________\n",
            "block5_conv2 (Conv2D)           (None, 128, 128, 32) 9248        block5_conv1[0][0]               \n",
            "__________________________________________________________________________________________________\n",
            "dropout_1 (Dropout)             (None, 128, 128, 32) 0           block5_conv2[0][0]               \n",
            "__________________________________________________________________________________________________\n",
            "final (Conv2D)                  (None, 128, 128, 1)  33          dropout_1[0][0]                  \n",
            "==================================================================================================\n",
            "Total params: 553,089\n",
            "Trainable params: 553,089\n",
            "Non-trainable params: 0\n",
            "__________________________________________________________________________________________________\n"
          ],
          "name": "stdout"
        }
      ]
    },
    {
      "cell_type": "code",
      "metadata": {
        "id": "GJQuDbrLbLi9",
        "colab_type": "code",
        "colab": {}
      },
      "source": [
        "os.chdir('/content/drive/My Drive')"
      ],
      "execution_count": 0,
      "outputs": []
    },
    {
      "cell_type": "code",
      "metadata": {
        "id": "P6dZoBw_bOt9",
        "colab_type": "code",
        "colab": {}
      },
      "source": [
        "model.compile(optimizer='adam',loss='mse',metrics=['accuracy'])"
      ],
      "execution_count": 0,
      "outputs": []
    },
    {
      "cell_type": "code",
      "metadata": {
        "id": "k6T6postbQwq",
        "colab_type": "code",
        "colab": {}
      },
      "source": [
        "#creating callbacks\n",
        "#creating the callbacks and checkpoints to save best model\n",
        "from keras.callbacks import EarlyStopping,ModelCheckpoint\n",
        "es=EarlyStopping(monitor=\"val_loss\",mode='min',patience=10 ,verbose=1)\n",
        "cp=ModelCheckpoint('best_model_FCNN8.h5',monitor=\"val_loss\",mode='min',verbose=1,save_best_only='true')"
      ],
      "execution_count": 0,
      "outputs": []
    },
    {
      "cell_type": "code",
      "metadata": {
        "id": "drgci23VbSxl",
        "colab_type": "code",
        "colab": {
          "base_uri": "https://localhost:8080/",
          "height": 1000
        },
        "outputId": "68aa71d5-6c97-4f3e-848e-1e3d89e7437f"
      },
      "source": [
        "history=model.fit(x,y,verbose=1,batch_size=32,epochs=100,callbacks=([es,cp]),validation_split=(0.2),shuffle='true',class_weight='auto')"
      ],
      "execution_count": 42,
      "outputs": [
        {
          "output_type": "stream",
          "text": [
            "Train on 480 samples, validate on 120 samples\n",
            "Epoch 1/100\n",
            "480/480 [==============================] - 9s 18ms/step - loss: 0.1647 - accuracy: 0.7795 - val_loss: 0.1364 - val_accuracy: 0.8331\n",
            "\n",
            "Epoch 00001: val_loss improved from inf to 0.13638, saving model to best_model_FCNN8.h5\n",
            "Epoch 2/100\n",
            "480/480 [==============================] - 1s 3ms/step - loss: 0.1394 - accuracy: 0.8026 - val_loss: 0.1540 - val_accuracy: 0.8153\n",
            "\n",
            "Epoch 00002: val_loss did not improve from 0.13638\n",
            "Epoch 3/100\n",
            "480/480 [==============================] - 1s 3ms/step - loss: 0.1346 - accuracy: 0.8053 - val_loss: 0.1521 - val_accuracy: 0.8114\n",
            "\n",
            "Epoch 00003: val_loss did not improve from 0.13638\n",
            "Epoch 4/100\n",
            "480/480 [==============================] - 1s 3ms/step - loss: 0.1301 - accuracy: 0.8153 - val_loss: 0.1439 - val_accuracy: 0.8244\n",
            "\n",
            "Epoch 00004: val_loss did not improve from 0.13638\n",
            "Epoch 5/100\n",
            "480/480 [==============================] - 1s 3ms/step - loss: 0.1238 - accuracy: 0.8244 - val_loss: 0.1462 - val_accuracy: 0.8095\n",
            "\n",
            "Epoch 00005: val_loss did not improve from 0.13638\n",
            "Epoch 6/100\n",
            "480/480 [==============================] - 1s 3ms/step - loss: 0.1201 - accuracy: 0.8294 - val_loss: 0.1239 - val_accuracy: 0.8292\n",
            "\n",
            "Epoch 00006: val_loss improved from 0.13638 to 0.12394, saving model to best_model_FCNN8.h5\n",
            "Epoch 7/100\n",
            "480/480 [==============================] - 1s 2ms/step - loss: 0.1124 - accuracy: 0.8423 - val_loss: 0.1155 - val_accuracy: 0.8428\n",
            "\n",
            "Epoch 00007: val_loss improved from 0.12394 to 0.11546, saving model to best_model_FCNN8.h5\n",
            "Epoch 8/100\n",
            "480/480 [==============================] - 1s 3ms/step - loss: 0.1104 - accuracy: 0.8452 - val_loss: 0.1152 - val_accuracy: 0.8421\n",
            "\n",
            "Epoch 00008: val_loss improved from 0.11546 to 0.11515, saving model to best_model_FCNN8.h5\n",
            "Epoch 9/100\n",
            "480/480 [==============================] - 1s 3ms/step - loss: 0.1051 - accuracy: 0.8502 - val_loss: 0.1142 - val_accuracy: 0.8452\n",
            "\n",
            "Epoch 00009: val_loss improved from 0.11515 to 0.11418, saving model to best_model_FCNN8.h5\n",
            "Epoch 10/100\n",
            "480/480 [==============================] - 1s 3ms/step - loss: 0.1034 - accuracy: 0.8519 - val_loss: 0.1153 - val_accuracy: 0.8450\n",
            "\n",
            "Epoch 00010: val_loss did not improve from 0.11418\n",
            "Epoch 11/100\n",
            "480/480 [==============================] - 1s 3ms/step - loss: 0.1027 - accuracy: 0.8525 - val_loss: 0.1129 - val_accuracy: 0.8470\n",
            "\n",
            "Epoch 00011: val_loss improved from 0.11418 to 0.11285, saving model to best_model_FCNN8.h5\n",
            "Epoch 12/100\n",
            "480/480 [==============================] - 1s 3ms/step - loss: 0.0978 - accuracy: 0.8600 - val_loss: 0.1081 - val_accuracy: 0.8531\n",
            "\n",
            "Epoch 00012: val_loss improved from 0.11285 to 0.10814, saving model to best_model_FCNN8.h5\n",
            "Epoch 13/100\n",
            "480/480 [==============================] - 1s 3ms/step - loss: 0.0994 - accuracy: 0.8599 - val_loss: 0.1132 - val_accuracy: 0.8465\n",
            "\n",
            "Epoch 00013: val_loss did not improve from 0.10814\n",
            "Epoch 14/100\n",
            "480/480 [==============================] - 1s 3ms/step - loss: 0.0996 - accuracy: 0.8580 - val_loss: 0.1144 - val_accuracy: 0.8487\n",
            "\n",
            "Epoch 00014: val_loss did not improve from 0.10814\n",
            "Epoch 15/100\n",
            "480/480 [==============================] - 1s 3ms/step - loss: 0.0952 - accuracy: 0.8674 - val_loss: 0.1063 - val_accuracy: 0.8542\n",
            "\n",
            "Epoch 00015: val_loss improved from 0.10814 to 0.10633, saving model to best_model_FCNN8.h5\n",
            "Epoch 16/100\n",
            "480/480 [==============================] - 1s 3ms/step - loss: 0.0942 - accuracy: 0.8680 - val_loss: 0.1125 - val_accuracy: 0.8441\n",
            "\n",
            "Epoch 00016: val_loss did not improve from 0.10633\n",
            "Epoch 17/100\n",
            "480/480 [==============================] - 1s 3ms/step - loss: 0.0914 - accuracy: 0.8724 - val_loss: 0.1090 - val_accuracy: 0.8573\n",
            "\n",
            "Epoch 00017: val_loss did not improve from 0.10633\n",
            "Epoch 18/100\n",
            "480/480 [==============================] - 1s 3ms/step - loss: 0.0912 - accuracy: 0.8716 - val_loss: 0.1106 - val_accuracy: 0.8413\n",
            "\n",
            "Epoch 00018: val_loss did not improve from 0.10633\n",
            "Epoch 19/100\n",
            "480/480 [==============================] - 1s 3ms/step - loss: 0.0919 - accuracy: 0.8707 - val_loss: 0.1145 - val_accuracy: 0.8403\n",
            "\n",
            "Epoch 00019: val_loss did not improve from 0.10633\n",
            "Epoch 20/100\n",
            "480/480 [==============================] - 1s 3ms/step - loss: 0.0903 - accuracy: 0.8717 - val_loss: 0.1100 - val_accuracy: 0.8417\n",
            "\n",
            "Epoch 00020: val_loss did not improve from 0.10633\n",
            "Epoch 21/100\n",
            "480/480 [==============================] - 1s 3ms/step - loss: 0.0895 - accuracy: 0.8732 - val_loss: 0.1038 - val_accuracy: 0.8589\n",
            "\n",
            "Epoch 00021: val_loss improved from 0.10633 to 0.10378, saving model to best_model_FCNN8.h5\n",
            "Epoch 22/100\n",
            "480/480 [==============================] - 1s 3ms/step - loss: 0.0858 - accuracy: 0.8798 - val_loss: 0.0990 - val_accuracy: 0.8643\n",
            "\n",
            "Epoch 00022: val_loss improved from 0.10378 to 0.09903, saving model to best_model_FCNN8.h5\n",
            "Epoch 23/100\n",
            "480/480 [==============================] - 1s 3ms/step - loss: 0.0894 - accuracy: 0.8748 - val_loss: 0.1044 - val_accuracy: 0.8560\n",
            "\n",
            "Epoch 00023: val_loss did not improve from 0.09903\n",
            "Epoch 24/100\n",
            "480/480 [==============================] - 1s 3ms/step - loss: 0.0869 - accuracy: 0.8778 - val_loss: 0.1025 - val_accuracy: 0.8601\n",
            "\n",
            "Epoch 00024: val_loss did not improve from 0.09903\n",
            "Epoch 25/100\n",
            "480/480 [==============================] - 1s 3ms/step - loss: 0.0847 - accuracy: 0.8806 - val_loss: 0.0987 - val_accuracy: 0.8652\n",
            "\n",
            "Epoch 00025: val_loss improved from 0.09903 to 0.09866, saving model to best_model_FCNN8.h5\n",
            "Epoch 26/100\n",
            "480/480 [==============================] - 1s 3ms/step - loss: 0.0837 - accuracy: 0.8827 - val_loss: 0.0973 - val_accuracy: 0.8641\n",
            "\n",
            "Epoch 00026: val_loss improved from 0.09866 to 0.09730, saving model to best_model_FCNN8.h5\n",
            "Epoch 27/100\n",
            "480/480 [==============================] - 1s 3ms/step - loss: 0.0824 - accuracy: 0.8851 - val_loss: 0.0961 - val_accuracy: 0.8671\n",
            "\n",
            "Epoch 00027: val_loss improved from 0.09730 to 0.09612, saving model to best_model_FCNN8.h5\n",
            "Epoch 28/100\n",
            "480/480 [==============================] - 1s 3ms/step - loss: 0.0798 - accuracy: 0.8886 - val_loss: 0.0949 - val_accuracy: 0.8664\n",
            "\n",
            "Epoch 00028: val_loss improved from 0.09612 to 0.09488, saving model to best_model_FCNN8.h5\n",
            "Epoch 29/100\n",
            "480/480 [==============================] - 1s 3ms/step - loss: 0.0795 - accuracy: 0.8896 - val_loss: 0.0959 - val_accuracy: 0.8641\n",
            "\n",
            "Epoch 00029: val_loss did not improve from 0.09488\n",
            "Epoch 30/100\n",
            "480/480 [==============================] - 1s 3ms/step - loss: 0.0789 - accuracy: 0.8891 - val_loss: 0.0955 - val_accuracy: 0.8676\n",
            "\n",
            "Epoch 00030: val_loss did not improve from 0.09488\n",
            "Epoch 31/100\n",
            "480/480 [==============================] - 1s 3ms/step - loss: 0.0786 - accuracy: 0.8911 - val_loss: 0.0954 - val_accuracy: 0.8677\n",
            "\n",
            "Epoch 00031: val_loss did not improve from 0.09488\n",
            "Epoch 32/100\n",
            "480/480 [==============================] - 1s 3ms/step - loss: 0.0768 - accuracy: 0.8925 - val_loss: 0.0971 - val_accuracy: 0.8684\n",
            "\n",
            "Epoch 00032: val_loss did not improve from 0.09488\n",
            "Epoch 33/100\n",
            "480/480 [==============================] - 1s 3ms/step - loss: 0.0760 - accuracy: 0.8942 - val_loss: 0.1008 - val_accuracy: 0.8682\n",
            "\n",
            "Epoch 00033: val_loss did not improve from 0.09488\n",
            "Epoch 34/100\n",
            "480/480 [==============================] - 1s 3ms/step - loss: 0.0764 - accuracy: 0.8936 - val_loss: 0.0990 - val_accuracy: 0.8637\n",
            "\n",
            "Epoch 00034: val_loss did not improve from 0.09488\n",
            "Epoch 35/100\n",
            "480/480 [==============================] - 1s 3ms/step - loss: 0.0759 - accuracy: 0.8940 - val_loss: 0.0962 - val_accuracy: 0.8631\n",
            "\n",
            "Epoch 00035: val_loss did not improve from 0.09488\n",
            "Epoch 36/100\n",
            "480/480 [==============================] - 1s 3ms/step - loss: 0.0791 - accuracy: 0.8892 - val_loss: 0.0974 - val_accuracy: 0.8642\n",
            "\n",
            "Epoch 00036: val_loss did not improve from 0.09488\n",
            "Epoch 37/100\n",
            "480/480 [==============================] - 1s 3ms/step - loss: 0.0797 - accuracy: 0.8883 - val_loss: 0.0993 - val_accuracy: 0.8613\n",
            "\n",
            "Epoch 00037: val_loss did not improve from 0.09488\n",
            "Epoch 38/100\n",
            "480/480 [==============================] - 1s 3ms/step - loss: 0.0763 - accuracy: 0.8941 - val_loss: 0.0964 - val_accuracy: 0.8712\n",
            "\n",
            "Epoch 00038: val_loss did not improve from 0.09488\n",
            "Epoch 00038: early stopping\n"
          ],
          "name": "stdout"
        }
      ]
    },
    {
      "cell_type": "code",
      "metadata": {
        "id": "kSlBeH09G978",
        "colab_type": "code",
        "colab": {
          "base_uri": "https://localhost:8080/",
          "height": 51
        },
        "outputId": "0121db8f-2178-4591-e9a2-73cf0782d68f"
      },
      "source": [
        "#evaluation of unet\n",
        "result=model.evaluate(x_test,y_test)\n",
        "print(result)"
      ],
      "execution_count": 43,
      "outputs": [
        {
          "output_type": "stream",
          "text": [
            "150/150 [==============================] - 0s 2ms/step\n",
            "[0.06427322303255399, 0.91311115026474]\n"
          ],
          "name": "stdout"
        }
      ]
    },
    {
      "cell_type": "code",
      "metadata": {
        "id": "Siz_5bhKHazG",
        "colab_type": "code",
        "colab": {}
      },
      "source": [
        "#plotting the accuracy and loss graph\n",
        "train_loss=history.history['loss']\n",
        "train_acc=history.history['accuracy']\n",
        "val_loss=history.history['val_loss']\n",
        "val_acc=history.history['val_accuracy']\n",
        "epoch=range(len(train_loss))"
      ],
      "execution_count": 0,
      "outputs": []
    },
    {
      "cell_type": "code",
      "metadata": {
        "id": "JqY4z1fNIC5i",
        "colab_type": "code",
        "colab": {
          "base_uri": "https://localhost:8080/",
          "height": 296
        },
        "outputId": "7781e629-e243-4a59-8584-4e93dd857bdd"
      },
      "source": [
        "#plotting the garph of loss\n",
        "plt.plot(epoch,train_loss)\n",
        "plt.plot(epoch,val_loss)\n",
        "plt.xlabel('epochs')\n",
        "plt.ylabel('loss')\n",
        "plt.legend(['training','validation'])"
      ],
      "execution_count": 53,
      "outputs": [
        {
          "output_type": "execute_result",
          "data": {
            "text/plain": [
              "<matplotlib.legend.Legend at 0x7f02074557b8>"
            ]
          },
          "metadata": {
            "tags": []
          },
          "execution_count": 53
        },
        {
          "output_type": "display_data",
          "data": {
            "image/png": "[encoded data removed]",
            "text/plain": [
              "<Figure size 432x288 with 1 Axes>"
            ]
          },
          "metadata": {
            "tags": [],
            "needs_background": "light"
          }
        }
      ]
    },
    {
      "cell_type": "code",
      "metadata": {
        "id": "Ls1U7COIJ_Uu",
        "colab_type": "code",
        "colab": {
          "base_uri": "https://localhost:8080/",
          "height": 296
        },
        "outputId": "2618e2af-1971-4351-9e64-4167680175a8"
      },
      "source": [
        "#graph for accuracy\n",
        "plt.plot(epoch,train_acc)\n",
        "plt.plot(epoch,val_acc)\n",
        "plt.xlabel('epochs')\n",
        "plt.ylabel('accuracy')\n",
        "plt.legend(['training','validation'])"
      ],
      "execution_count": 54,
      "outputs": [
        {
          "output_type": "execute_result",
          "data": {
            "text/plain": [
              "<matplotlib.legend.Legend at 0x7f02073f2da0>"
            ]
          },
          "metadata": {
            "tags": []
          },
          "execution_count": 54
        },
        {
          "output_type": "display_data",
          "data": {
            "image/png": "[encoded data removed]",
            "text/plain": [
              "<Figure size 432x288 with 1 Axes>"
            ]
          },
          "metadata": {
            "tags": [],
            "needs_background": "light"
          }
        }
      ]
    },
    {
      "cell_type": "code",
      "metadata": {
        "id": "HrR3s-05Klwd",
        "colab_type": "code",
        "colab": {}
      },
      "source": [
        "#predictions\n",
        "predict=model.predict(x_test[100].reshape(1,128,128,1))\n",
        "predict=predict >0.5"
      ],
      "execution_count": 0,
      "outputs": []
    },
    {
      "cell_type": "code",
      "metadata": {
        "id": "rLFzwFt2K6i7",
        "colab_type": "code",
        "colab": {
          "base_uri": "https://localhost:8080/",
          "height": 229
        },
        "outputId": "1ffbcd91-d3a7-4240-c1e8-7eb8585645ff"
      },
      "source": [
        "#visualization of results\n",
        "plt.figure(figsize=(10,10))\n",
        "plt.subplot(131).imshow(x_test[100].reshape(128,128),'gray')\n",
        "plt.xlabel('orignal image')\n",
        "plt.subplot(132).imshow(y_test[100].reshape(128,128),'gray')\n",
        "plt.xlabel('ground truth image')\n",
        "plt.subplot(133).imshow(predict.reshape(128,128),'gray')\n",
        "plt.xlabel('output image')\n",
        "plt.show()"
      ],
      "execution_count": 59,
      "outputs": [
        {
          "output_type": "display_data",
          "data": {
            "image/png": "[encoded data removed]",
            "text/plain": [
              "<Figure size 720x720 with 3 Axes>"
            ]
          },
          "metadata": {
            "tags": [],
            "needs_background": "light"
          }
        }
      ]
    },
    {
      "cell_type": "code",
      "metadata": {
        "id": "bu6ueMA3Lklb",
        "colab_type": "code",
        "colab": {}
      },
      "source": [
        ""
      ],
      "execution_count": 0,
      "outputs": []
    }
  ]
}