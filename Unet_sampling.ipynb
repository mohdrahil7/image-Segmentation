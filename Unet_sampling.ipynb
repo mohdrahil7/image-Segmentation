{
  "nbformat": 4,
  "nbformat_minor": 0,
  "metadata": {
    "colab": {
      "name": "Unet_sampling.ipynb",
      "provenance": [],
      "authorship_tag": "ABX9TyNn6eoQQAtScoSbQMQH82r/",
      "include_colab_link": true
    },
    "kernelspec": {
      "name": "python3",
      "display_name": "Python 3"
    },
    "accelerator": "GPU"
  },
  "cells": [
    {
      "cell_type": "markdown",
      "metadata": {
        "id": "view-in-github",
        "colab_type": "text"
      },
      "source": [
        "<a href=\"https://colab.research.google.com/github/mohdrahil7/image-Segmentation/blob/master/Unet_sampling.ipynb\" target=\"_parent\"><img src=\"https://colab.research.google.com/assets/colab-badge.svg\" alt=\"Open In Colab\"/></a>"
      ]
    },
    {
      "cell_type": "code",
      "metadata": {
        "id": "6J78vCM6WW4h",
        "colab_type": "code",
        "outputId": "31822b3b-9b84-4ede-a553-0add6c5dd4f8",
        "colab": {
          "base_uri": "https://localhost:8080/",
          "height": 122
        }
      },
      "source": [
        "from google.colab import drive\n",
        "drive.mount('/content/drive/')"
      ],
      "execution_count": 0,
      "outputs": [
        {
          "output_type": "stream",
          "text": [
            "Go to this URL in a browser: https://accounts.google.com/o/oauth2/auth?client_id=947318989803-6bn6qk8qdgf4n4g3pfee6491hc0brc4i.apps.googleusercontent.com&redirect_uri=urn%3aietf%3awg%3aoauth%3a2.0%3aoob&response_type=code&scope=email%20https%3a%2f%2fwww.googleapis.com%2fauth%2fdocs.test%20https%3a%2f%2fwww.googleapis.com%2fauth%2fdrive%20https%3a%2f%2fwww.googleapis.com%2fauth%2fdrive.photos.readonly%20https%3a%2f%2fwww.googleapis.com%2fauth%2fpeopleapi.readonly\n",
            "\n",
            "Enter your authorization code:\n",
            "··········\n",
            "Mounted at /content/drive/\n"
          ],
          "name": "stdout"
        }
      ]
    },
    {
      "cell_type": "code",
      "metadata": {
        "id": "SEq4arPqW8Sg",
        "colab_type": "code",
        "outputId": "93623d08-1b53-4c00-973d-aa2d9f458e68",
        "colab": {
          "base_uri": "https://localhost:8080/",
          "height": 34
        }
      },
      "source": [
        "#implementation of fcn-8 code\n",
        "from keras.layers import *\n",
        "from keras import Model\n",
        "from matplotlib import pyplot as plt\n",
        "import cv2\n",
        "import os\n",
        "import numpy as np"
      ],
      "execution_count": 0,
      "outputs": [
        {
          "output_type": "stream",
          "text": [
            "Using TensorFlow backend.\n"
          ],
          "name": "stderr"
        }
      ]
    },
    {
      "cell_type": "code",
      "metadata": {
        "id": "9mD0uMR5W-kz",
        "colab_type": "code",
        "colab": {}
      },
      "source": [
        "os.chdir('/content/drive')"
      ],
      "execution_count": 0,
      "outputs": []
    },
    {
      "cell_type": "code",
      "metadata": {
        "id": "tg9WwPSIXRQM",
        "colab_type": "code",
        "colab": {}
      },
      "source": [
        "os.chdir('My Drive')"
      ],
      "execution_count": 0,
      "outputs": []
    },
    {
      "cell_type": "code",
      "metadata": {
        "id": "yy3pO8ZeXUiu",
        "colab_type": "code",
        "colab": {}
      },
      "source": [
        "os.chdir('dataset')"
      ],
      "execution_count": 0,
      "outputs": []
    },
    {
      "cell_type": "code",
      "metadata": {
        "id": "LOYH1FHdXbQo",
        "colab_type": "code",
        "colab": {}
      },
      "source": [
        "#reading the training data \n",
        "#reading x and y data\n",
        "x=np.load('Skin_TestX.npy')\n",
        "y=np.load('Skin_TestY.npy')\n",
        "#reading the test_data\n",
        "x_test=np.load('Skin_ValidX.npy')\n",
        "y_test=np.load('Skin_ValidY.npy')"
      ],
      "execution_count": 0,
      "outputs": []
    },
    {
      "cell_type": "code",
      "metadata": {
        "id": "D6mYpGlBXeWB",
        "colab_type": "code",
        "outputId": "05959759-1909-4150-c345-ed4661728b9c",
        "colab": {
          "base_uri": "https://localhost:8080/",
          "height": 85
        }
      },
      "source": [
        "print(x.shape)\n",
        "print(y.shape)\n",
        "print(x_test.shape)\n",
        "print(y_test.shape)"
      ],
      "execution_count": 0,
      "outputs": [
        {
          "output_type": "stream",
          "text": [
            "(600, 192, 256, 3)\n",
            "(600, 192, 256)\n",
            "(150, 192, 256, 3)\n",
            "(150, 192, 256)\n"
          ],
          "name": "stdout"
        }
      ]
    },
    {
      "cell_type": "code",
      "metadata": {
        "id": "bznJplJ2XiSr",
        "colab_type": "code",
        "outputId": "ccefcaa3-79ae-4234-a925-a8262f2cac72",
        "colab": {
          "base_uri": "https://localhost:8080/",
          "height": 119
        }
      },
      "source": [
        "#preprocessing of data\n",
        "#converting the data into first gray scale and then reducing dimensions\n",
        "x_gray=[]\n",
        "for i in range(0,len(x)):\n",
        "    x_gray.append(cv2.cvtColor(x[i],cv2.COLOR_BGR2GRAY))\n",
        "x=np.array(x_gray)\n",
        "x_test_gray=[]\n",
        "for i in range(0,len(x_test)):\n",
        "    x_test_gray.append(cv2.cvtColor(x_test[i],cv2.COLOR_BGR2GRAY))\n",
        "x_test=np.array(x_test_gray)\n",
        "\n",
        "del x_gray\n",
        "del x_test_gray\n",
        "\n",
        "#resizing of the array into size of 128, 128 using cv2\n",
        "x_resize=[]\n",
        "for i in range(0,len(x)):\n",
        "    x_resize.append(cv2.resize(x[i],(128,128)))\n",
        "print(len(x_resize))\n",
        "x_tresize=[]\n",
        "for i in range(0,len(x_test)):\n",
        "    x_tresize.append(cv2.resize(x_test[i],(128,128)))\n",
        "print(len(x_tresize))\n",
        "\n",
        "x=np.array(x_resize)\n",
        "print(x.shape)\n",
        "x_test=np.array(x_tresize)\n",
        "print(x_test.shape)\n",
        "\n",
        "#now converting each element into 3 dimension\n",
        "x=x.reshape(-1,128,128,1)\n",
        "print(x.shape)\n",
        "x_test=x_test.reshape(-1,128,128,1)\n",
        "print(x_test.shape)"
      ],
      "execution_count": 0,
      "outputs": [
        {
          "output_type": "stream",
          "text": [
            "600\n",
            "150\n",
            "(600, 128, 128)\n",
            "(150, 128, 128)\n",
            "(600, 128, 128, 1)\n",
            "(150, 128, 128, 1)\n"
          ],
          "name": "stdout"
        }
      ]
    },
    {
      "cell_type": "code",
      "metadata": {
        "id": "GKCNi_IoXm7A",
        "colab_type": "code",
        "outputId": "61874b73-989f-4a4c-e191-df809664dfbc",
        "colab": {
          "base_uri": "https://localhost:8080/",
          "height": 85
        }
      },
      "source": [
        "#now performing the same operations for the y data\n",
        "y_resize=[]\n",
        "y_tresize=[]\n",
        "for i in range(0,len(y)):\n",
        "    y_resize.append(cv2.resize(y[i],(128,128)))\n",
        "len(y_resize)\n",
        "y=np.array(y_resize)\n",
        "print(y.shape)\n",
        "y=y.reshape(-1,128,128,1)\n",
        "print(y.shape)\n",
        "\n",
        "for i in range(0,len(y_test)):\n",
        "    y_tresize.append(cv2.resize(y_test[i],(128,128)))\n",
        "len(y_tresize)\n",
        "y_test=np.array(y_tresize)\n",
        "print(y_test.shape)\n",
        "y_test=y_test.reshape(-1,128,128,1)\n",
        "print(y_test.shape)\n",
        "\n",
        "del y_resize\n",
        "del y_tresize\n",
        "del x_resize\n",
        "del x_tresize"
      ],
      "execution_count": 0,
      "outputs": [
        {
          "output_type": "stream",
          "text": [
            "(600, 128, 128)\n",
            "(600, 128, 128, 1)\n",
            "(150, 128, 128)\n",
            "(150, 128, 128, 1)\n"
          ],
          "name": "stdout"
        }
      ]
    },
    {
      "cell_type": "code",
      "metadata": {
        "id": "tuNIcOK9YFrB",
        "colab_type": "code",
        "outputId": "426d5519-a355-4e1a-b1ef-f8b9ff279847",
        "colab": {
          "base_uri": "https://localhost:8080/",
          "height": 85
        }
      },
      "source": [
        "#finally after performing the all transformation\n",
        "print(x.shape)\n",
        "print(y.shape)\n",
        "print(x_test.shape)\n",
        "print(y_test.shape)"
      ],
      "execution_count": 0,
      "outputs": [
        {
          "output_type": "stream",
          "text": [
            "(600, 128, 128, 1)\n",
            "(600, 128, 128, 1)\n",
            "(150, 128, 128, 1)\n",
            "(150, 128, 128, 1)\n"
          ],
          "name": "stdout"
        }
      ]
    },
    {
      "cell_type": "code",
      "metadata": {
        "id": "msjPJNi_YKRw",
        "colab_type": "code",
        "colab": {}
      },
      "source": [
        "#performing the normalization of taking each value between 0 and 1\n",
        "x=x.astype('float32')/255\n",
        "y=y.astype('float32')/255\n",
        "x_test=x_test.astype('float32')/255\n",
        "y_test=y_test.astype('float32')/255"
      ],
      "execution_count": 0,
      "outputs": []
    },
    {
      "cell_type": "code",
      "metadata": {
        "id": "rKmAnkxUYVOw",
        "colab_type": "code",
        "colab": {}
      },
      "source": [
        "#normalizing the training data\n",
        "x_mean=np.mean(x)\n",
        "x_std=np.std(x)\n",
        "x=x-x_mean\n",
        "x=x/x_std"
      ],
      "execution_count": 0,
      "outputs": []
    },
    {
      "cell_type": "code",
      "metadata": {
        "id": "SIDzbC8qdtN6",
        "colab_type": "code",
        "colab": {}
      },
      "source": [
        "#normalizing test data\n",
        "x_test=x_test-x_mean\n",
        "x_test=x_test/x_std"
      ],
      "execution_count": 0,
      "outputs": []
    },
    {
      "cell_type": "code",
      "metadata": {
        "id": "q-g7GI7Ydv2-",
        "colab_type": "code",
        "colab": {
          "base_uri": "https://localhost:8080/",
          "height": 833
        },
        "outputId": "846ed5f5-8735-45a8-8a68-f79511766d6f"
      },
      "source": [
        "#creating a Unet Network but since we are not creating the sequentail network so we need model API to create model\n",
        "\n",
        "def create_model():\n",
        "  input_img=Input(shape=(128,128,1))\n",
        "  \n",
        "  #block_1\n",
        "  z=Conv2D(32,(3,3),padding='same',input_shape=(128,128,1),activation='relu',name='block1_conv1')(input_img)\n",
        "  conv1=Conv2D(32,(3,3),padding='same',activation='relu',name='block1_conv2')(z)\n",
        "  z=MaxPool2D(pool_size=(2,2),strides=(2,2),name='block1_maxpooling')(conv1)\n",
        "\n",
        "  #block_2\n",
        "  z=Conv2D(64,(3,3),padding='same',activation='relu',name='block2_conv1')(z)\n",
        "  conv2=Conv2D(64,(3,3),padding='same',activation='relu',name='block2_conv2')(z)\n",
        "  z=MaxPool2D(pool_size=(2,2),strides=(2,2),name='block2_maxpooling')(conv2)\n",
        "\n",
        "  #block_3\n",
        "  z=Conv2D(128,(3,3),padding='same',activation='relu',name='block3_conv1')(z)\n",
        "  z=Conv2D(128,(3,3),padding='same',activation='relu',name='block3_conv2')(z)\n",
        "  up1=UpSampling2D((2,2),name='upsampling')(z)\n",
        "\n",
        "  concat1=concatenate([up1,conv2])\n",
        "  #block_4\n",
        "  z=Conv2D(64,(3,3),padding='same',activation='relu',name='block4_conv1')(concat1)\n",
        "  z=Conv2D(64,(3,3),padding='same',activation='relu',name='block4_conv2')(z)\n",
        "  up2=UpSampling2D((2,2),name='upsampling2')(z)\n",
        "  \n",
        "  concat2=concatenate([up2,conv1])\n",
        "  #block_5\n",
        "  z=Conv2D(32,(3,3),padding='same',activation='relu',name='block5_conv1')(concat2)\n",
        "  z=Conv2D(32,(3,3),padding='same',activation='relu',name='block5_conv2')(z)\n",
        "  z=Dropout(0.5)(z)\n",
        "  final=Conv2D(1,(1,1),activation='relu',padding='same' ,name='final')(z)\n",
        "\n",
        "  model1=Model(input_img,final)\n",
        "  return model1\n",
        "\n",
        "model=create_model()\n",
        "model.summary()"
      ],
      "execution_count": 14,
      "outputs": [
        {
          "output_type": "stream",
          "text": [
            "Model: \"model_1\"\n",
            "__________________________________________________________________________________________________\n",
            "Layer (type)                    Output Shape         Param #     Connected to                     \n",
            "==================================================================================================\n",
            "input_1 (InputLayer)            (None, 128, 128, 1)  0                                            \n",
            "__________________________________________________________________________________________________\n",
            "block1_conv1 (Conv2D)           (None, 128, 128, 32) 320         input_1[0][0]                    \n",
            "__________________________________________________________________________________________________\n",
            "block1_conv2 (Conv2D)           (None, 128, 128, 32) 9248        block1_conv1[0][0]               \n",
            "__________________________________________________________________________________________________\n",
            "block1_maxpooling (MaxPooling2D (None, 64, 64, 32)   0           block1_conv2[0][0]               \n",
            "__________________________________________________________________________________________________\n",
            "block2_conv1 (Conv2D)           (None, 64, 64, 64)   18496       block1_maxpooling[0][0]          \n",
            "__________________________________________________________________________________________________\n",
            "block2_conv2 (Conv2D)           (None, 64, 64, 64)   36928       block2_conv1[0][0]               \n",
            "__________________________________________________________________________________________________\n",
            "block2_maxpooling (MaxPooling2D (None, 32, 32, 64)   0           block2_conv2[0][0]               \n",
            "__________________________________________________________________________________________________\n",
            "block3_conv1 (Conv2D)           (None, 32, 32, 128)  73856       block2_maxpooling[0][0]          \n",
            "__________________________________________________________________________________________________\n",
            "block3_conv2 (Conv2D)           (None, 32, 32, 128)  147584      block3_conv1[0][0]               \n",
            "__________________________________________________________________________________________________\n",
            "upsampling (UpSampling2D)       (None, 64, 64, 128)  0           block3_conv2[0][0]               \n",
            "__________________________________________________________________________________________________\n",
            "concatenate_1 (Concatenate)     (None, 64, 64, 192)  0           upsampling[0][0]                 \n",
            "                                                                 block2_conv2[0][0]               \n",
            "__________________________________________________________________________________________________\n",
            "block4_conv1 (Conv2D)           (None, 64, 64, 64)   110656      concatenate_1[0][0]              \n",
            "__________________________________________________________________________________________________\n",
            "block4_conv2 (Conv2D)           (None, 64, 64, 64)   36928       block4_conv1[0][0]               \n",
            "__________________________________________________________________________________________________\n",
            "upsampling2 (UpSampling2D)      (None, 128, 128, 64) 0           block4_conv2[0][0]               \n",
            "__________________________________________________________________________________________________\n",
            "concatenate_2 (Concatenate)     (None, 128, 128, 96) 0           upsampling2[0][0]                \n",
            "                                                                 block1_conv2[0][0]               \n",
            "__________________________________________________________________________________________________\n",
            "block5_conv1 (Conv2D)           (None, 128, 128, 32) 27680       concatenate_2[0][0]              \n",
            "__________________________________________________________________________________________________\n",
            "block5_conv2 (Conv2D)           (None, 128, 128, 32) 9248        block5_conv1[0][0]               \n",
            "__________________________________________________________________________________________________\n",
            "dropout_1 (Dropout)             (None, 128, 128, 32) 0           block5_conv2[0][0]               \n",
            "__________________________________________________________________________________________________\n",
            "final (Conv2D)                  (None, 128, 128, 1)  33          dropout_1[0][0]                  \n",
            "==================================================================================================\n",
            "Total params: 470,977\n",
            "Trainable params: 470,977\n",
            "Non-trainable params: 0\n",
            "__________________________________________________________________________________________________\n"
          ],
          "name": "stdout"
        }
      ]
    },
    {
      "cell_type": "code",
      "metadata": {
        "id": "Q8GnBWuneJnS",
        "colab_type": "code",
        "colab": {}
      },
      "source": [
        "os.chdir('/content/drive/My Drive')"
      ],
      "execution_count": 0,
      "outputs": []
    },
    {
      "cell_type": "code",
      "metadata": {
        "id": "VJhSK_QheRER",
        "colab_type": "code",
        "colab": {}
      },
      "source": [
        "model.compile(optimizer='adam',loss='mse',metrics=['accuracy'])"
      ],
      "execution_count": 0,
      "outputs": []
    },
    {
      "cell_type": "code",
      "metadata": {
        "id": "9b4Mbfq3eT4A",
        "colab_type": "code",
        "colab": {}
      },
      "source": [
        "#creating callbacks\n",
        "#creating the callbacks and checkpoints to save best model\n",
        "from keras.callbacks import EarlyStopping,ModelCheckpoint\n",
        "es=EarlyStopping(monitor=\"val_loss\",mode='min',patience=10 ,verbose=1)\n",
        "cp=ModelCheckpoint('best_model_FCNN8.h5',monitor=\"val_loss\",mode='min',verbose=1,save_best_only='true')"
      ],
      "execution_count": 0,
      "outputs": []
    },
    {
      "cell_type": "code",
      "metadata": {
        "id": "5b0tmQhLeWId",
        "colab_type": "code",
        "colab": {
          "base_uri": "https://localhost:8080/",
          "height": 1000
        },
        "outputId": "f132d5a6-b434-42db-a506-c23aec42b69e"
      },
      "source": [
        "history=model.fit(x,y,verbose=1,batch_size=32,epochs=100,callbacks=([es,cp]),validation_split=(0.2),shuffle='true',class_weight='auto')"
      ],
      "execution_count": 18,
      "outputs": [
        {
          "output_type": "stream",
          "text": [
            "Train on 480 samples, validate on 120 samples\n",
            "Epoch 1/100\n",
            "480/480 [==============================] - 13s 27ms/step - loss: 0.1809 - accuracy: 0.7667 - val_loss: 0.1336 - val_accuracy: 0.8334\n",
            "\n",
            "Epoch 00001: val_loss improved from inf to 0.13362, saving model to best_model_FCNN8.h5\n",
            "Epoch 2/100\n",
            "480/480 [==============================] - 4s 8ms/step - loss: 0.1434 - accuracy: 0.7958 - val_loss: 0.1311 - val_accuracy: 0.8356\n",
            "\n",
            "Epoch 00002: val_loss improved from 0.13362 to 0.13114, saving model to best_model_FCNN8.h5\n",
            "Epoch 3/100\n",
            "480/480 [==============================] - 4s 8ms/step - loss: 0.1333 - accuracy: 0.8073 - val_loss: 0.1355 - val_accuracy: 0.8290\n",
            "\n",
            "Epoch 00003: val_loss did not improve from 0.13114\n",
            "Epoch 4/100\n",
            "480/480 [==============================] - 4s 8ms/step - loss: 0.1321 - accuracy: 0.8089 - val_loss: 0.1218 - val_accuracy: 0.8370\n",
            "\n",
            "Epoch 00004: val_loss improved from 0.13114 to 0.12178, saving model to best_model_FCNN8.h5\n",
            "Epoch 5/100\n",
            "480/480 [==============================] - 4s 8ms/step - loss: 0.1206 - accuracy: 0.8261 - val_loss: 0.1269 - val_accuracy: 0.8349\n",
            "\n",
            "Epoch 00005: val_loss did not improve from 0.12178\n",
            "Epoch 6/100\n",
            "480/480 [==============================] - 4s 8ms/step - loss: 0.1244 - accuracy: 0.8219 - val_loss: 0.1236 - val_accuracy: 0.8408\n",
            "\n",
            "Epoch 00006: val_loss did not improve from 0.12178\n",
            "Epoch 7/100\n",
            "480/480 [==============================] - 4s 8ms/step - loss: 0.1178 - accuracy: 0.8293 - val_loss: 0.1276 - val_accuracy: 0.8336\n",
            "\n",
            "Epoch 00007: val_loss did not improve from 0.12178\n",
            "Epoch 8/100\n",
            "480/480 [==============================] - 4s 8ms/step - loss: 0.1142 - accuracy: 0.8331 - val_loss: 0.1249 - val_accuracy: 0.8343\n",
            "\n",
            "Epoch 00008: val_loss did not improve from 0.12178\n",
            "Epoch 9/100\n",
            "480/480 [==============================] - 4s 8ms/step - loss: 0.1111 - accuracy: 0.8395 - val_loss: 0.1126 - val_accuracy: 0.8428\n",
            "\n",
            "Epoch 00009: val_loss improved from 0.12178 to 0.11264, saving model to best_model_FCNN8.h5\n",
            "Epoch 10/100\n",
            "480/480 [==============================] - 4s 8ms/step - loss: 0.1075 - accuracy: 0.8447 - val_loss: 0.1107 - val_accuracy: 0.8443\n",
            "\n",
            "Epoch 00010: val_loss improved from 0.11264 to 0.11069, saving model to best_model_FCNN8.h5\n",
            "Epoch 11/100\n",
            "480/480 [==============================] - 4s 8ms/step - loss: 0.1038 - accuracy: 0.8485 - val_loss: 0.1080 - val_accuracy: 0.8503\n",
            "\n",
            "Epoch 00011: val_loss improved from 0.11069 to 0.10804, saving model to best_model_FCNN8.h5\n",
            "Epoch 12/100\n",
            "480/480 [==============================] - 4s 8ms/step - loss: 0.1051 - accuracy: 0.8472 - val_loss: 0.1084 - val_accuracy: 0.8466\n",
            "\n",
            "Epoch 00012: val_loss did not improve from 0.10804\n",
            "Epoch 13/100\n",
            "480/480 [==============================] - 4s 8ms/step - loss: 0.1009 - accuracy: 0.8540 - val_loss: 0.1088 - val_accuracy: 0.8514\n",
            "\n",
            "Epoch 00013: val_loss did not improve from 0.10804\n",
            "Epoch 14/100\n",
            "480/480 [==============================] - 4s 8ms/step - loss: 0.0988 - accuracy: 0.8582 - val_loss: 0.1031 - val_accuracy: 0.8527\n",
            "\n",
            "Epoch 00014: val_loss improved from 0.10804 to 0.10312, saving model to best_model_FCNN8.h5\n",
            "Epoch 15/100\n",
            "480/480 [==============================] - 4s 8ms/step - loss: 0.1027 - accuracy: 0.8503 - val_loss: 0.1087 - val_accuracy: 0.8512\n",
            "\n",
            "Epoch 00015: val_loss did not improve from 0.10312\n",
            "Epoch 16/100\n",
            "480/480 [==============================] - 4s 8ms/step - loss: 0.0978 - accuracy: 0.8587 - val_loss: 0.1057 - val_accuracy: 0.8504\n",
            "\n",
            "Epoch 00016: val_loss did not improve from 0.10312\n",
            "Epoch 17/100\n",
            "480/480 [==============================] - 4s 8ms/step - loss: 0.0962 - accuracy: 0.8623 - val_loss: 0.1052 - val_accuracy: 0.8523\n",
            "\n",
            "Epoch 00017: val_loss did not improve from 0.10312\n",
            "Epoch 18/100\n",
            "480/480 [==============================] - 4s 8ms/step - loss: 0.0976 - accuracy: 0.8593 - val_loss: 0.1083 - val_accuracy: 0.8477\n",
            "\n",
            "Epoch 00018: val_loss did not improve from 0.10312\n",
            "Epoch 19/100\n",
            "480/480 [==============================] - 4s 8ms/step - loss: 0.0963 - accuracy: 0.8605 - val_loss: 0.1001 - val_accuracy: 0.8588\n",
            "\n",
            "Epoch 00019: val_loss improved from 0.10312 to 0.10007, saving model to best_model_FCNN8.h5\n",
            "Epoch 20/100\n",
            "480/480 [==============================] - 4s 8ms/step - loss: 0.0916 - accuracy: 0.8696 - val_loss: 0.1005 - val_accuracy: 0.8622\n",
            "\n",
            "Epoch 00020: val_loss did not improve from 0.10007\n",
            "Epoch 21/100\n",
            "480/480 [==============================] - 4s 8ms/step - loss: 0.0908 - accuracy: 0.8696 - val_loss: 0.0984 - val_accuracy: 0.8606\n",
            "\n",
            "Epoch 00021: val_loss improved from 0.10007 to 0.09836, saving model to best_model_FCNN8.h5\n",
            "Epoch 22/100\n",
            "480/480 [==============================] - 4s 8ms/step - loss: 0.0964 - accuracy: 0.8629 - val_loss: 0.1133 - val_accuracy: 0.8389\n",
            "\n",
            "Epoch 00022: val_loss did not improve from 0.09836\n",
            "Epoch 23/100\n",
            "480/480 [==============================] - 4s 8ms/step - loss: 0.0918 - accuracy: 0.8687 - val_loss: 0.1111 - val_accuracy: 0.8465\n",
            "\n",
            "Epoch 00023: val_loss did not improve from 0.09836\n",
            "Epoch 24/100\n",
            "480/480 [==============================] - 4s 8ms/step - loss: 0.0932 - accuracy: 0.8671 - val_loss: 0.1084 - val_accuracy: 0.8543\n",
            "\n",
            "Epoch 00024: val_loss did not improve from 0.09836\n",
            "Epoch 25/100\n",
            "480/480 [==============================] - 4s 8ms/step - loss: 0.0873 - accuracy: 0.8757 - val_loss: 0.0984 - val_accuracy: 0.8648\n",
            "\n",
            "Epoch 00025: val_loss improved from 0.09836 to 0.09835, saving model to best_model_FCNN8.h5\n",
            "Epoch 26/100\n",
            "480/480 [==============================] - 4s 8ms/step - loss: 0.0839 - accuracy: 0.8788 - val_loss: 0.0999 - val_accuracy: 0.8629\n",
            "\n",
            "Epoch 00026: val_loss did not improve from 0.09835\n",
            "Epoch 27/100\n",
            "480/480 [==============================] - 4s 8ms/step - loss: 0.0825 - accuracy: 0.8828 - val_loss: 0.1022 - val_accuracy: 0.8573\n",
            "\n",
            "Epoch 00027: val_loss did not improve from 0.09835\n",
            "Epoch 28/100\n",
            "480/480 [==============================] - 4s 8ms/step - loss: 0.0824 - accuracy: 0.8835 - val_loss: 0.1330 - val_accuracy: 0.8032\n",
            "\n",
            "Epoch 00028: val_loss did not improve from 0.09835\n",
            "Epoch 29/100\n",
            "480/480 [==============================] - 4s 8ms/step - loss: 0.0856 - accuracy: 0.8787 - val_loss: 0.1061 - val_accuracy: 0.8563\n",
            "\n",
            "Epoch 00029: val_loss did not improve from 0.09835\n",
            "Epoch 30/100\n",
            "480/480 [==============================] - 4s 8ms/step - loss: 0.0830 - accuracy: 0.8821 - val_loss: 0.1015 - val_accuracy: 0.8627\n",
            "\n",
            "Epoch 00030: val_loss did not improve from 0.09835\n",
            "Epoch 31/100\n",
            "480/480 [==============================] - 4s 8ms/step - loss: 0.0806 - accuracy: 0.8857 - val_loss: 0.0955 - val_accuracy: 0.8694\n",
            "\n",
            "Epoch 00031: val_loss improved from 0.09835 to 0.09549, saving model to best_model_FCNN8.h5\n",
            "Epoch 32/100\n",
            "480/480 [==============================] - 4s 8ms/step - loss: 0.0797 - accuracy: 0.8876 - val_loss: 0.0959 - val_accuracy: 0.8683\n",
            "\n",
            "Epoch 00032: val_loss did not improve from 0.09549\n",
            "Epoch 33/100\n",
            "480/480 [==============================] - 4s 8ms/step - loss: 0.0821 - accuracy: 0.8841 - val_loss: 0.0960 - val_accuracy: 0.8641\n",
            "\n",
            "Epoch 00033: val_loss did not improve from 0.09549\n",
            "Epoch 34/100\n",
            "480/480 [==============================] - 4s 8ms/step - loss: 0.0858 - accuracy: 0.8779 - val_loss: 0.1005 - val_accuracy: 0.8603\n",
            "\n",
            "Epoch 00034: val_loss did not improve from 0.09549\n",
            "Epoch 35/100\n",
            "480/480 [==============================] - 4s 8ms/step - loss: 0.0817 - accuracy: 0.8849 - val_loss: 0.1029 - val_accuracy: 0.8617\n",
            "\n",
            "Epoch 00035: val_loss did not improve from 0.09549\n",
            "Epoch 36/100\n",
            "480/480 [==============================] - 4s 8ms/step - loss: 0.0796 - accuracy: 0.8876 - val_loss: 0.0997 - val_accuracy: 0.8621\n",
            "\n",
            "Epoch 00036: val_loss did not improve from 0.09549\n",
            "Epoch 37/100\n",
            "480/480 [==============================] - 4s 8ms/step - loss: 0.0822 - accuracy: 0.8845 - val_loss: 0.0971 - val_accuracy: 0.8657\n",
            "\n",
            "Epoch 00037: val_loss did not improve from 0.09549\n",
            "Epoch 38/100\n",
            "480/480 [==============================] - 4s 8ms/step - loss: 0.0802 - accuracy: 0.8874 - val_loss: 0.0995 - val_accuracy: 0.8663\n",
            "\n",
            "Epoch 00038: val_loss did not improve from 0.09549\n",
            "Epoch 39/100\n",
            "480/480 [==============================] - 4s 8ms/step - loss: 0.0798 - accuracy: 0.8871 - val_loss: 0.1005 - val_accuracy: 0.8607\n",
            "\n",
            "Epoch 00039: val_loss did not improve from 0.09549\n",
            "Epoch 40/100\n",
            "480/480 [==============================] - 4s 8ms/step - loss: 0.0788 - accuracy: 0.8898 - val_loss: 0.0981 - val_accuracy: 0.8678\n",
            "\n",
            "Epoch 00040: val_loss did not improve from 0.09549\n",
            "Epoch 41/100\n",
            "480/480 [==============================] - 4s 8ms/step - loss: 0.0798 - accuracy: 0.8895 - val_loss: 0.1060 - val_accuracy: 0.8512\n",
            "\n",
            "Epoch 00041: val_loss did not improve from 0.09549\n",
            "Epoch 00041: early stopping\n"
          ],
          "name": "stdout"
        }
      ]
    },
    {
      "cell_type": "code",
      "metadata": {
        "id": "vE-T0ObweaQo",
        "colab_type": "code",
        "colab": {}
      },
      "source": [
        "#plotting the accuracy and loss graph\n",
        "train_loss=history.history['loss']\n",
        "train_acc=history.history['accuracy']\n",
        "val_loss=history.history['val_loss']\n",
        "val_acc=history.history['val_accuracy']\n",
        "epoch=range(len(train_loss))"
      ],
      "execution_count": 0,
      "outputs": []
    },
    {
      "cell_type": "code",
      "metadata": {
        "id": "5RhKaxlNfUDX",
        "colab_type": "code",
        "colab": {
          "base_uri": "https://localhost:8080/",
          "height": 296
        },
        "outputId": "f8021a85-fb12-446c-b54b-90f77f1cca24"
      },
      "source": [
        "#plotting the garph of loss\n",
        "plt.plot(epoch,train_loss)\n",
        "plt.plot(epoch,val_loss)\n",
        "plt.xlabel('epochs')\n",
        "plt.ylabel('loss')\n",
        "plt.legend(['training','validation'])"
      ],
      "execution_count": 20,
      "outputs": [
        {
          "output_type": "execute_result",
          "data": {
            "text/plain": [
              "<matplotlib.legend.Legend at 0x7f4354b8e6a0>"
            ]
          },
          "metadata": {
            "tags": []
          },
          "execution_count": 20
        },
        {
          "output_type": "display_data",
          "data": {
            "image/png": "[encoded data removed]",
            "text/plain": [
              "<Figure size 432x288 with 1 Axes>"
            ]
          },
          "metadata": {
            "tags": [],
            "needs_background": "light"
          }
        }
      ]
    },
    {
      "cell_type": "code",
      "metadata": {
        "id": "3demgNSUfV1I",
        "colab_type": "code",
        "colab": {
          "base_uri": "https://localhost:8080/",
          "height": 296
        },
        "outputId": "bac01103-4b36-435c-fda9-cba7f5ebf69b"
      },
      "source": [
        "#graph for accuracy\n",
        "plt.plot(epoch,train_acc)\n",
        "plt.plot(epoch,val_acc)\n",
        "plt.xlabel('epochs')\n",
        "plt.ylabel('accuracy')\n",
        "plt.legend(['training','validation'])"
      ],
      "execution_count": 21,
      "outputs": [
        {
          "output_type": "execute_result",
          "data": {
            "text/plain": [
              "<matplotlib.legend.Legend at 0x7f4354673b70>"
            ]
          },
          "metadata": {
            "tags": []
          },
          "execution_count": 21
        },
        {
          "output_type": "display_data",
          "data": {
            "image/png": "[encoded data removed]",
            "text/plain": [
              "<Figure size 432x288 with 1 Axes>"
            ]
          },
          "metadata": {
            "tags": [],
            "needs_background": "light"
          }
        }
      ]
    },
    {
      "cell_type": "code",
      "metadata": {
        "id": "PSZgCN1ufaZg",
        "colab_type": "code",
        "colab": {}
      },
      "source": [
        "#predictions\n",
        "predict=model.predict(x_test[100].reshape(1,128,128,1))\n",
        "predict=predict >0.5"
      ],
      "execution_count": 0,
      "outputs": []
    },
    {
      "cell_type": "code",
      "metadata": {
        "id": "ytT6L8PCffXB",
        "colab_type": "code",
        "colab": {
          "base_uri": "https://localhost:8080/",
          "height": 229
        },
        "outputId": "ecd173ce-0693-4f0a-8ac7-9c0bfe51a646"
      },
      "source": [
        "#visualization of results\n",
        "plt.figure(figsize=(10,10))\n",
        "plt.subplot(131).imshow(x_test[100].reshape(128,128),'gray')\n",
        "plt.xlabel('orignal image')\n",
        "plt.subplot(132).imshow(y_test[100].reshape(128,128),'gray')\n",
        "plt.xlabel('ground truth image')\n",
        "plt.subplot(133).imshow(predict.reshape(128,128),'gray')\n",
        "plt.xlabel('output image')\n",
        "plt.show()"
      ],
      "execution_count": 23,
      "outputs": [
        {
          "output_type": "display_data",
          "data": {
            "image/png": "[encoded data removed]",
            "text/plain": [
              "<Figure size 720x720 with 3 Axes>"
            ]
          },
          "metadata": {
            "tags": [],
            "needs_background": "light"
          }
        }
      ]
    },
    {
      "cell_type": "code",
      "metadata": {
        "id": "6DLhs15Ofivw",
        "colab_type": "code",
        "colab": {}
      },
      "source": [
        ""
      ],
      "execution_count": 0,
      "outputs": []
    }
  ]
}