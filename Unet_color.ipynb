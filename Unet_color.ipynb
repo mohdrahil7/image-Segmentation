{
  "nbformat": 4,
  "nbformat_minor": 0,
  "metadata": {
    "colab": {
      "name": "Unet_color.ipynb",
      "provenance": [],
      "authorship_tag": "ABX9TyMktXkWUeYkcBa8GpQviTYW",
      "include_colab_link": true
    },
    "kernelspec": {
      "name": "python3",
      "display_name": "Python 3"
    },
    "accelerator": "GPU"
  },
  "cells": [
    {
      "cell_type": "markdown",
      "metadata": {
        "id": "view-in-github",
        "colab_type": "text"
      },
      "source": [
        "<a href=\"https://colab.research.google.com/github/mohdrahil7/image-Segmentation/blob/master/Unet_color.ipynb\" target=\"_parent\"><img src=\"https://colab.research.google.com/assets/colab-badge.svg\" alt=\"Open In Colab\"/></a>"
      ]
    },
    {
      "cell_type": "code",
      "metadata": {
        "id": "L3FR0Ohjw3GH",
        "colab_type": "code",
        "outputId": "b377070f-36b0-42ff-8884-ae6f0198ce01",
        "colab": {
          "base_uri": "https://localhost:8080/",
          "height": 122
        }
      },
      "source": [
        "#training and testing on color images of real size\n",
        "from google.colab import drive\n",
        "drive.mount('/content/drive/')"
      ],
      "execution_count": 0,
      "outputs": [
        {
          "output_type": "stream",
          "text": [
            "Go to this URL in a browser: https://accounts.google.com/o/oauth2/auth?client_id=947318989803-6bn6qk8qdgf4n4g3pfee6491hc0brc4i.apps.googleusercontent.com&redirect_uri=urn%3aietf%3awg%3aoauth%3a2.0%3aoob&response_type=code&scope=email%20https%3a%2f%2fwww.googleapis.com%2fauth%2fdocs.test%20https%3a%2f%2fwww.googleapis.com%2fauth%2fdrive%20https%3a%2f%2fwww.googleapis.com%2fauth%2fdrive.photos.readonly%20https%3a%2f%2fwww.googleapis.com%2fauth%2fpeopleapi.readonly\n",
            "\n",
            "Enter your authorization code:\n",
            "··········\n",
            "Mounted at /content/drive/\n"
          ],
          "name": "stdout"
        }
      ]
    },
    {
      "cell_type": "code",
      "metadata": {
        "id": "yH0kD0iQx8h6",
        "colab_type": "code",
        "outputId": "7685ca17-a8c6-41fb-e117-8348e11ec926",
        "colab": {
          "base_uri": "https://localhost:8080/",
          "height": 34
        }
      },
      "source": [
        "#implementation of fcn-8 code\n",
        "from keras.layers import *\n",
        "from keras import Model\n",
        "from matplotlib import pyplot as plt\n",
        "import cv2\n",
        "import os\n",
        "import numpy as np"
      ],
      "execution_count": 0,
      "outputs": [
        {
          "output_type": "stream",
          "text": [
            "Using TensorFlow backend.\n"
          ],
          "name": "stderr"
        }
      ]
    },
    {
      "cell_type": "code",
      "metadata": {
        "id": "k1L8KZqnyWoN",
        "colab_type": "code",
        "colab": {}
      },
      "source": [
        "os.chdir('/content/drive')"
      ],
      "execution_count": 0,
      "outputs": []
    },
    {
      "cell_type": "code",
      "metadata": {
        "id": "dDLjz-5SyZLc",
        "colab_type": "code",
        "colab": {}
      },
      "source": [
        "os.chdir('My Drive')"
      ],
      "execution_count": 0,
      "outputs": []
    },
    {
      "cell_type": "code",
      "metadata": {
        "id": "35DE_LvLybQo",
        "colab_type": "code",
        "colab": {}
      },
      "source": [
        "os.chdir('dataset')"
      ],
      "execution_count": 0,
      "outputs": []
    },
    {
      "cell_type": "code",
      "metadata": {
        "id": "whf_Bl7pydMw",
        "colab_type": "code",
        "colab": {}
      },
      "source": [
        "#reading the training data \n",
        "#reading x and y data\n",
        "x=np.load('Skin_TestX.npy')\n",
        "y=np.load('Skin_TestY.npy')\n",
        "#reading the test_data\n",
        "x_test=np.load('Skin_ValidX.npy')\n",
        "y_test=np.load('Skin_ValidY.npy')"
      ],
      "execution_count": 0,
      "outputs": []
    },
    {
      "cell_type": "code",
      "metadata": {
        "id": "SAA3TajiyfKJ",
        "colab_type": "code",
        "outputId": "63fbf52e-5005-4bb2-c4e7-5b20fa2f0c76",
        "colab": {
          "base_uri": "https://localhost:8080/",
          "height": 85
        }
      },
      "source": [
        "print(x.shape)\n",
        "print(y.shape)\n",
        "print(x_test.shape)\n",
        "print(y_test.shape)"
      ],
      "execution_count": 0,
      "outputs": [
        {
          "output_type": "stream",
          "text": [
            "(600, 192, 256, 3)\n",
            "(600, 192, 256)\n",
            "(150, 192, 256, 3)\n",
            "(150, 192, 256)\n"
          ],
          "name": "stdout"
        }
      ]
    },
    {
      "cell_type": "code",
      "metadata": {
        "id": "PdFbMqXNyiM2",
        "colab_type": "code",
        "outputId": "deffcba9-3058-441f-91f0-4869b17c6423",
        "colab": {
          "base_uri": "https://localhost:8080/",
          "height": 51
        }
      },
      "source": [
        "#reshaping\n",
        "y=y.reshape(-1,192,256,1)\n",
        "y_test=y_test.reshape(-1,192,256,1)\n",
        "print(y.shape)\n",
        "print(y_test.shape)"
      ],
      "execution_count": 0,
      "outputs": [
        {
          "output_type": "stream",
          "text": [
            "(600, 192, 256, 1)\n",
            "(150, 192, 256, 1)\n"
          ],
          "name": "stdout"
        }
      ]
    },
    {
      "cell_type": "code",
      "metadata": {
        "id": "Qmwadf4zy-sz",
        "colab_type": "code",
        "colab": {}
      },
      "source": [
        "#performing the normalization of taking each value between 0 and 1\n",
        "x=x.astype('float32')/255\n",
        "y=y.astype('float32')/255\n",
        "x_test=x_test.astype('float32')/255\n",
        "y_test=y_test.astype('float32')/255"
      ],
      "execution_count": 0,
      "outputs": []
    },
    {
      "cell_type": "code",
      "metadata": {
        "id": "HMpVXU0LzCV8",
        "colab_type": "code",
        "colab": {}
      },
      "source": [
        "#normalizing the training data\n",
        "x_mean=np.mean(x)\n",
        "x_std=np.std(x)\n",
        "x=x-x_mean\n",
        "x=x/x_std"
      ],
      "execution_count": 0,
      "outputs": []
    },
    {
      "cell_type": "code",
      "metadata": {
        "id": "nVXV0dfFzMTo",
        "colab_type": "code",
        "colab": {}
      },
      "source": [
        "#normalizing test data\n",
        "x_test=x_test-x_mean\n",
        "x_test=x_test/x_std"
      ],
      "execution_count": 0,
      "outputs": []
    },
    {
      "cell_type": "code",
      "metadata": {
        "id": "hwUhlXe5zOqd",
        "colab_type": "code",
        "outputId": "197f5738-a641-4386-9d9a-f332f2dde70e",
        "colab": {
          "base_uri": "https://localhost:8080/",
          "height": 833
        }
      },
      "source": [
        "#creating a Unet Network but since we are not creating the sequentail network so we need model API to create model\n",
        "\n",
        "def create_model():\n",
        "  input_img=Input(shape=(192,256,3))\n",
        "  \n",
        "  #block_1\n",
        "  z=Conv2D(32,(3,3),padding='same',input_shape=(128,128,1),activation='relu',name='block1_conv1')(input_img)\n",
        "  conv1=Conv2D(32,(3,3),padding='same',activation='relu',name='block1_conv2')(z)\n",
        "  z=MaxPool2D(pool_size=(2,2),strides=(2,2),name='block1_maxpooling')(conv1)\n",
        "\n",
        "  #block_2\n",
        "  z=Conv2D(64,(3,3),padding='same',activation='relu',name='block2_conv1')(z)\n",
        "  conv2=Conv2D(64,(3,3),padding='same',activation='relu',name='block2_conv2')(z)\n",
        "  z=MaxPool2D(pool_size=(2,2),strides=(2,2),name='block2_maxpooling')(conv2)\n",
        "\n",
        "  #block_3\n",
        "  z=Conv2D(128,(3,3),padding='same',activation='relu',name='block3_conv1')(z)\n",
        "  z=Conv2D(128,(3,3),padding='same',activation='relu',name='block3_conv2')(z)\n",
        "  up1=Conv2DTranspose(128,(2,2),strides=(2,2),activation='relu',padding='same',name='upsampling')(z)\n",
        "\n",
        "  concat1=concatenate([up1,conv2])\n",
        "  #block_4\n",
        "  z=Conv2D(64,(3,3),padding='same',activation='relu',name='block4_conv1')(concat1)\n",
        "  z=Conv2D(64,(3,3),padding='same',activation='relu',name='block4_conv2')(z)\n",
        "  up2=Conv2DTranspose(64,(2,2),strides=(2,2),activation='relu',padding='same',name='upsampling2')(z)\n",
        "  \n",
        "  concat2=concatenate([up2,conv1])\n",
        "  #block_5\n",
        "  z=Conv2D(32,(3,3),padding='same',activation='relu',name='block5_conv1')(concat2)\n",
        "  z=Conv2D(32,(3,3),padding='same',activation='relu',name='block5_conv2')(z)\n",
        "  z=Dropout(0.5)(z)\n",
        "  final=Conv2D(1,(1,1),activation='relu',padding='same' ,name='final')(z)\n",
        "\n",
        "  model1=Model(input_img,final)\n",
        "  return model1\n",
        "\n",
        "model=create_model()\n",
        "model.summary()"
      ],
      "execution_count": 0,
      "outputs": [
        {
          "output_type": "stream",
          "text": [
            "Model: \"model_2\"\n",
            "__________________________________________________________________________________________________\n",
            "Layer (type)                    Output Shape         Param #     Connected to                     \n",
            "==================================================================================================\n",
            "input_2 (InputLayer)            (None, 192, 256, 3)  0                                            \n",
            "__________________________________________________________________________________________________\n",
            "block1_conv1 (Conv2D)           (None, 192, 256, 32) 896         input_2[0][0]                    \n",
            "__________________________________________________________________________________________________\n",
            "block1_conv2 (Conv2D)           (None, 192, 256, 32) 9248        block1_conv1[0][0]               \n",
            "__________________________________________________________________________________________________\n",
            "block1_maxpooling (MaxPooling2D (None, 96, 128, 32)  0           block1_conv2[0][0]               \n",
            "__________________________________________________________________________________________________\n",
            "block2_conv1 (Conv2D)           (None, 96, 128, 64)  18496       block1_maxpooling[0][0]          \n",
            "__________________________________________________________________________________________________\n",
            "block2_conv2 (Conv2D)           (None, 96, 128, 64)  36928       block2_conv1[0][0]               \n",
            "__________________________________________________________________________________________________\n",
            "block2_maxpooling (MaxPooling2D (None, 48, 64, 64)   0           block2_conv2[0][0]               \n",
            "__________________________________________________________________________________________________\n",
            "block3_conv1 (Conv2D)           (None, 48, 64, 128)  73856       block2_maxpooling[0][0]          \n",
            "__________________________________________________________________________________________________\n",
            "block3_conv2 (Conv2D)           (None, 48, 64, 128)  147584      block3_conv1[0][0]               \n",
            "__________________________________________________________________________________________________\n",
            "upsampling (Conv2DTranspose)    (None, 96, 128, 128) 65664       block3_conv2[0][0]               \n",
            "__________________________________________________________________________________________________\n",
            "concatenate_3 (Concatenate)     (None, 96, 128, 192) 0           upsampling[0][0]                 \n",
            "                                                                 block2_conv2[0][0]               \n",
            "__________________________________________________________________________________________________\n",
            "block4_conv1 (Conv2D)           (None, 96, 128, 64)  110656      concatenate_3[0][0]              \n",
            "__________________________________________________________________________________________________\n",
            "block4_conv2 (Conv2D)           (None, 96, 128, 64)  36928       block4_conv1[0][0]               \n",
            "__________________________________________________________________________________________________\n",
            "upsampling2 (Conv2DTranspose)   (None, 192, 256, 64) 16448       block4_conv2[0][0]               \n",
            "__________________________________________________________________________________________________\n",
            "concatenate_4 (Concatenate)     (None, 192, 256, 96) 0           upsampling2[0][0]                \n",
            "                                                                 block1_conv2[0][0]               \n",
            "__________________________________________________________________________________________________\n",
            "block5_conv1 (Conv2D)           (None, 192, 256, 32) 27680       concatenate_4[0][0]              \n",
            "__________________________________________________________________________________________________\n",
            "block5_conv2 (Conv2D)           (None, 192, 256, 32) 9248        block5_conv1[0][0]               \n",
            "__________________________________________________________________________________________________\n",
            "dropout_2 (Dropout)             (None, 192, 256, 32) 0           block5_conv2[0][0]               \n",
            "__________________________________________________________________________________________________\n",
            "final (Conv2D)                  (None, 192, 256, 1)  33          dropout_2[0][0]                  \n",
            "==================================================================================================\n",
            "Total params: 553,665\n",
            "Trainable params: 553,665\n",
            "Non-trainable params: 0\n",
            "__________________________________________________________________________________________________\n"
          ],
          "name": "stdout"
        }
      ]
    },
    {
      "cell_type": "code",
      "metadata": {
        "id": "4qRflQEozVrp",
        "colab_type": "code",
        "colab": {}
      },
      "source": [
        "os.chdir('/content/drive/My Drive')"
      ],
      "execution_count": 0,
      "outputs": []
    },
    {
      "cell_type": "code",
      "metadata": {
        "id": "lxgoy3HTzaHP",
        "colab_type": "code",
        "colab": {}
      },
      "source": [
        "model.compile(optimizer='adam',loss='binary_crossentropy',metrics=['accuracy'])"
      ],
      "execution_count": 0,
      "outputs": []
    },
    {
      "cell_type": "code",
      "metadata": {
        "id": "6VOc9upQ0JZy",
        "colab_type": "code",
        "colab": {}
      },
      "source": [
        "#creating callbacks\n",
        "#creating the callbacks and checkpoints to save best model\n",
        "from keras.callbacks import EarlyStopping,ModelCheckpoint\n",
        "es=EarlyStopping(monitor=\"val_loss\",mode='min',patience=10 ,verbose=1)\n",
        "cp=ModelCheckpoint('Unet_color.h5',monitor=\"val_loss\",mode='min',verbose=1,save_best_only='true')"
      ],
      "execution_count": 0,
      "outputs": []
    },
    {
      "cell_type": "code",
      "metadata": {
        "id": "k6GGfk-v0PAO",
        "colab_type": "code",
        "outputId": "aa999a14-91ff-4703-c154-fe1d39cb1909",
        "colab": {
          "base_uri": "https://localhost:8080/",
          "height": 1000
        }
      },
      "source": [
        "history=model.fit(x,y,verbose=1,batch_size=32,epochs=100,callbacks=([es,cp]),validation_split=(0.2),shuffle='true',class_weight='auto')"
      ],
      "execution_count": 0,
      "outputs": [
        {
          "output_type": "stream",
          "text": [
            "Train on 480 samples, validate on 120 samples\n",
            "Epoch 1/100\n",
            "480/480 [==============================] - 19s 41ms/step - loss: 0.5366 - accuracy: 0.7861 - val_loss: 0.4043 - val_accuracy: 0.8459\n",
            "\n",
            "Epoch 00001: val_loss improved from inf to 0.40431, saving model to Unet_color.h5\n",
            "Epoch 2/100\n",
            "480/480 [==============================] - 9s 18ms/step - loss: 0.4249 - accuracy: 0.8172 - val_loss: 0.4277 - val_accuracy: 0.8433\n",
            "\n",
            "Epoch 00002: val_loss did not improve from 0.40431\n",
            "Epoch 3/100\n",
            "480/480 [==============================] - 9s 18ms/step - loss: 0.4113 - accuracy: 0.8247 - val_loss: 0.4157 - val_accuracy: 0.8500\n",
            "\n",
            "Epoch 00003: val_loss did not improve from 0.40431\n",
            "Epoch 4/100\n",
            "480/480 [==============================] - 9s 18ms/step - loss: 0.4096 - accuracy: 0.8282 - val_loss: 0.4277 - val_accuracy: 0.8480\n",
            "\n",
            "Epoch 00004: val_loss did not improve from 0.40431\n",
            "Epoch 5/100\n",
            "480/480 [==============================] - 8s 18ms/step - loss: 0.4047 - accuracy: 0.8280 - val_loss: 0.4088 - val_accuracy: 0.8423\n",
            "\n",
            "Epoch 00005: val_loss did not improve from 0.40431\n",
            "Epoch 6/100\n",
            "480/480 [==============================] - 8s 18ms/step - loss: 0.4193 - accuracy: 0.8206 - val_loss: 0.4059 - val_accuracy: 0.8460\n",
            "\n",
            "Epoch 00006: val_loss did not improve from 0.40431\n",
            "Epoch 7/100\n",
            "480/480 [==============================] - 9s 18ms/step - loss: 0.4074 - accuracy: 0.8257 - val_loss: 0.4226 - val_accuracy: 0.8476\n",
            "\n",
            "Epoch 00007: val_loss did not improve from 0.40431\n",
            "Epoch 8/100\n",
            "480/480 [==============================] - 9s 18ms/step - loss: 0.3967 - accuracy: 0.8304 - val_loss: 0.4125 - val_accuracy: 0.8471\n",
            "\n",
            "Epoch 00008: val_loss did not improve from 0.40431\n",
            "Epoch 9/100\n",
            "480/480 [==============================] - 9s 18ms/step - loss: 0.4305 - accuracy: 0.8024 - val_loss: 0.4229 - val_accuracy: 0.8498\n",
            "\n",
            "Epoch 00009: val_loss did not improve from 0.40431\n",
            "Epoch 10/100\n",
            "480/480 [==============================] - 9s 18ms/step - loss: 0.4011 - accuracy: 0.8280 - val_loss: 0.3947 - val_accuracy: 0.8506\n",
            "\n",
            "Epoch 00010: val_loss improved from 0.40431 to 0.39469, saving model to Unet_color.h5\n",
            "Epoch 11/100\n",
            "480/480 [==============================] - 9s 18ms/step - loss: 0.4023 - accuracy: 0.8300 - val_loss: 0.3997 - val_accuracy: 0.8489\n",
            "\n",
            "Epoch 00011: val_loss did not improve from 0.39469\n",
            "Epoch 12/100\n",
            "480/480 [==============================] - 9s 18ms/step - loss: 0.3908 - accuracy: 0.8333 - val_loss: 0.4011 - val_accuracy: 0.8491\n",
            "\n",
            "Epoch 00012: val_loss did not improve from 0.39469\n",
            "Epoch 13/100\n",
            "480/480 [==============================] - 9s 18ms/step - loss: 0.4067 - accuracy: 0.8219 - val_loss: 0.3893 - val_accuracy: 0.8400\n",
            "\n",
            "Epoch 00013: val_loss improved from 0.39469 to 0.38930, saving model to Unet_color.h5\n",
            "Epoch 14/100\n",
            "480/480 [==============================] - 9s 18ms/step - loss: 0.4345 - accuracy: 0.8061 - val_loss: 0.4252 - val_accuracy: 0.8437\n",
            "\n",
            "Epoch 00014: val_loss did not improve from 0.38930\n",
            "Epoch 15/100\n",
            "480/480 [==============================] - 9s 18ms/step - loss: 0.4246 - accuracy: 0.8154 - val_loss: 0.3981 - val_accuracy: 0.8478\n",
            "\n",
            "Epoch 00015: val_loss did not improve from 0.38930\n",
            "Epoch 16/100\n",
            "480/480 [==============================] - 9s 18ms/step - loss: 0.3913 - accuracy: 0.8342 - val_loss: 0.4069 - val_accuracy: 0.8484\n",
            "\n",
            "Epoch 00016: val_loss did not improve from 0.38930\n",
            "Epoch 17/100\n",
            "480/480 [==============================] - 9s 18ms/step - loss: 0.3879 - accuracy: 0.8346 - val_loss: 0.3947 - val_accuracy: 0.8512\n",
            "\n",
            "Epoch 00017: val_loss did not improve from 0.38930\n",
            "Epoch 18/100\n",
            "480/480 [==============================] - 9s 18ms/step - loss: 0.3934 - accuracy: 0.8330 - val_loss: 0.3881 - val_accuracy: 0.8470\n",
            "\n",
            "Epoch 00018: val_loss improved from 0.38930 to 0.38807, saving model to Unet_color.h5\n",
            "Epoch 19/100\n",
            "480/480 [==============================] - 9s 18ms/step - loss: 0.3836 - accuracy: 0.8380 - val_loss: 0.3893 - val_accuracy: 0.8478\n",
            "\n",
            "Epoch 00019: val_loss did not improve from 0.38807\n",
            "Epoch 20/100\n",
            "480/480 [==============================] - 9s 18ms/step - loss: 0.4056 - accuracy: 0.8147 - val_loss: 0.3985 - val_accuracy: 0.8491\n",
            "\n",
            "Epoch 00020: val_loss did not improve from 0.38807\n",
            "Epoch 21/100\n",
            "480/480 [==============================] - 9s 18ms/step - loss: 0.3973 - accuracy: 0.8321 - val_loss: 0.4279 - val_accuracy: 0.8490\n",
            "\n",
            "Epoch 00021: val_loss did not improve from 0.38807\n",
            "Epoch 22/100\n",
            "480/480 [==============================] - 9s 18ms/step - loss: 0.3922 - accuracy: 0.8319 - val_loss: 0.4083 - val_accuracy: 0.8463\n",
            "\n",
            "Epoch 00022: val_loss did not improve from 0.38807\n",
            "Epoch 23/100\n",
            "480/480 [==============================] - 9s 18ms/step - loss: 0.4005 - accuracy: 0.8286 - val_loss: 0.4070 - val_accuracy: 0.8459\n",
            "\n",
            "Epoch 00023: val_loss did not improve from 0.38807\n",
            "Epoch 24/100\n",
            "480/480 [==============================] - 9s 18ms/step - loss: 0.4455 - accuracy: 0.8039 - val_loss: 0.4082 - val_accuracy: 0.8388\n",
            "\n",
            "Epoch 00024: val_loss did not improve from 0.38807\n",
            "Epoch 25/100\n",
            "480/480 [==============================] - 9s 18ms/step - loss: 0.4715 - accuracy: 0.7889 - val_loss: 0.4185 - val_accuracy: 0.8456\n",
            "\n",
            "Epoch 00025: val_loss did not improve from 0.38807\n",
            "Epoch 26/100\n",
            "480/480 [==============================] - 9s 18ms/step - loss: 0.4191 - accuracy: 0.8242 - val_loss: 0.4120 - val_accuracy: 0.8515\n",
            "\n",
            "Epoch 00026: val_loss did not improve from 0.38807\n",
            "Epoch 27/100\n",
            "480/480 [==============================] - 9s 18ms/step - loss: 0.4046 - accuracy: 0.8252 - val_loss: 0.4301 - val_accuracy: 0.8422\n",
            "\n",
            "Epoch 00027: val_loss did not improve from 0.38807\n",
            "Epoch 28/100\n",
            "480/480 [==============================] - 9s 18ms/step - loss: 0.3979 - accuracy: 0.8331 - val_loss: 0.4098 - val_accuracy: 0.8439\n",
            "\n",
            "Epoch 00028: val_loss did not improve from 0.38807\n",
            "Epoch 00028: early stopping\n"
          ],
          "name": "stdout"
        }
      ]
    },
    {
      "cell_type": "code",
      "metadata": {
        "id": "RlwdnWR40SKm",
        "colab_type": "code",
        "outputId": "e1776375-9b46-4ec4-de64-e1388979253e",
        "colab": {
          "base_uri": "https://localhost:8080/",
          "height": 51
        }
      },
      "source": [
        "#evaluation of unet\n",
        "result=model.evaluate(x_test,y_test)\n",
        "print(result)"
      ],
      "execution_count": 0,
      "outputs": [
        {
          "output_type": "stream",
          "text": [
            "150/150 [==============================] - 2s 12ms/step\n",
            "[0.3535413853327433, 0.8602883815765381]\n"
          ],
          "name": "stdout"
        }
      ]
    },
    {
      "cell_type": "code",
      "metadata": {
        "id": "_oz3XqQm1bU_",
        "colab_type": "code",
        "colab": {}
      },
      "source": [
        "#plotting the accuracy and loss graph\n",
        "train_loss=history.history['loss']\n",
        "train_acc=history.history['accuracy']\n",
        "val_loss=history.history['val_loss']\n",
        "val_acc=history.history['val_accuracy']\n",
        "epoch=range(len(train_loss))"
      ],
      "execution_count": 0,
      "outputs": []
    },
    {
      "cell_type": "code",
      "metadata": {
        "id": "92uhPtsp1epk",
        "colab_type": "code",
        "outputId": "a5b418b8-1742-4ade-97fd-3e0ce06bde33",
        "colab": {
          "base_uri": "https://localhost:8080/",
          "height": 296
        }
      },
      "source": [
        "#plotting the garph of loss\n",
        "plt.plot(epoch,train_loss)\n",
        "plt.plot(epoch,val_loss)\n",
        "plt.xlabel('epochs')\n",
        "plt.ylabel('loss')\n",
        "plt.legend(['training','validation'])"
      ],
      "execution_count": 0,
      "outputs": [
        {
          "output_type": "execute_result",
          "data": {
            "text/plain": [
              "<matplotlib.legend.Legend at 0x7f07de17e208>"
            ]
          },
          "metadata": {
            "tags": []
          },
          "execution_count": 24
        },
        {
          "output_type": "display_data",
          "data": {
            "image/png": "[encoded data removed]",
            "text/plain": [
              "<Figure size 432x288 with 1 Axes>"
            ]
          },
          "metadata": {
            "tags": [],
            "needs_background": "light"
          }
        }
      ]
    },
    {
      "cell_type": "code",
      "metadata": {
        "id": "RImFi4_f1kVm",
        "colab_type": "code",
        "outputId": "608798bf-79de-41d4-853f-8cd6a22edc2f",
        "colab": {
          "base_uri": "https://localhost:8080/",
          "height": 296
        }
      },
      "source": [
        "#graph for accuracy\n",
        "plt.plot(epoch,train_acc)\n",
        "plt.plot(epoch,val_acc)\n",
        "plt.xlabel('epochs')\n",
        "plt.ylabel('accuracy')\n",
        "plt.legend(['training','validation'])"
      ],
      "execution_count": 0,
      "outputs": [
        {
          "output_type": "execute_result",
          "data": {
            "text/plain": [
              "<matplotlib.legend.Legend at 0x7f07de1324a8>"
            ]
          },
          "metadata": {
            "tags": []
          },
          "execution_count": 25
        },
        {
          "output_type": "display_data",
          "data": {
            "image/png": "[encoded data removed]",
            "text/plain": [
              "<Figure size 432x288 with 1 Axes>"
            ]
          },
          "metadata": {
            "tags": [],
            "needs_background": "light"
          }
        }
      ]
    },
    {
      "cell_type": "code",
      "metadata": {
        "id": "-C8TC8aQ1t9I",
        "colab_type": "code",
        "colab": {}
      },
      "source": [
        "#plotting best model\n",
        "from keras import models\n",
        "best_model=models.load_model('Unet_color.h5')"
      ],
      "execution_count": 0,
      "outputs": []
    },
    {
      "cell_type": "code",
      "metadata": {
        "id": "Eqn1-kFe2XRV",
        "colab_type": "code",
        "outputId": "861f4ab2-1fb1-4e86-b8d2-c6a67e87b369",
        "colab": {
          "base_uri": "https://localhost:8080/",
          "height": 51
        }
      },
      "source": [
        "result=best_model.evaluate(x_test,y_test)\n",
        "print(result)"
      ],
      "execution_count": 0,
      "outputs": [
        {
          "output_type": "stream",
          "text": [
            "150/150 [==============================] - 1s 6ms/step\n",
            "[0.33692158182462056, 0.8635005950927734]\n"
          ],
          "name": "stdout"
        }
      ]
    },
    {
      "cell_type": "code",
      "metadata": {
        "id": "yHE6Bkfq2hUw",
        "colab_type": "code",
        "colab": {}
      },
      "source": [
        "#predictions\n",
        "predict=model.predict(x_test[100].reshape(1,192,256,3))\n",
        "predict=predict >0.5"
      ],
      "execution_count": 0,
      "outputs": []
    },
    {
      "cell_type": "code",
      "metadata": {
        "id": "-ufZA19O3AYW",
        "colab_type": "code",
        "outputId": "a1530832-a4da-4bf6-bd64-8858f3d585a1",
        "colab": {
          "base_uri": "https://localhost:8080/",
          "height": 206
        }
      },
      "source": [
        "#visualization of results\n",
        "plt.figure(figsize=(10,10))\n",
        "plt.subplot(131).imshow(x_test[100])\n",
        "plt.xlabel('orignal image')\n",
        "plt.subplot(132).imshow(y_test[100].reshape(192,256))\n",
        "plt.xlabel('ground truth image')\n",
        "plt.subplot(133).imshow(predict.reshape(192,256))\n",
        "plt.xlabel('output image')\n",
        "plt.show()"
      ],
      "execution_count": 0,
      "outputs": [
        {
          "output_type": "stream",
          "text": [
            "Clipping input data to the valid range for imshow with RGB data ([0..1] for floats or [0..255] for integers).\n"
          ],
          "name": "stderr"
        },
        {
          "output_type": "display_data",
          "data": {
            "image/png": "[encoded data removed]",
            "text/plain": [
              "<Figure size 720x720 with 3 Axes>"
            ]
          },
          "metadata": {
            "tags": [],
            "needs_background": "light"
          }
        }
      ]
    },
    {
      "cell_type": "code",
      "metadata": {
        "id": "MMwfse4E3ugG",
        "colab_type": "code",
        "colab": {}
      },
      "source": [
        ""
      ],
      "execution_count": 0,
      "outputs": []
    }
  ]
}