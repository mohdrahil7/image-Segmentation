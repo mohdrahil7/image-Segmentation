{
  "nbformat": 4,
  "nbformat_minor": 0,
  "metadata": {
    "colab": {
      "name": "Unet_color.ipynb",
      "provenance": [],
      "authorship_tag": "ABX9TyMsXZn0M8M1R+kwODLpnRmq",
      "include_colab_link": true
    },
    "kernelspec": {
      "name": "python3",
      "display_name": "Python 3"
    },
    "accelerator": "GPU"
  },
  "cells": [
    {
      "cell_type": "markdown",
      "metadata": {
        "id": "view-in-github",
        "colab_type": "text"
      },
      "source": [
        "<a href=\"https://colab.research.google.com/github/mohdrahil7/image-Segmentation/blob/master/Unet_color.ipynb\" target=\"_parent\"><img src=\"https://colab.research.google.com/assets/colab-badge.svg\" alt=\"Open In Colab\"/></a>"
      ]
    },
    {
      "cell_type": "code",
      "metadata": {
        "id": "L3FR0Ohjw3GH",
        "colab_type": "code",
        "outputId": "fcbf55ac-ba15-4b13-c956-9695b9f14d0f",
        "colab": {
          "base_uri": "https://localhost:8080/",
          "height": 122
        }
      },
      "source": [
        "#training and testing on color images of real size\n",
        "from google.colab import drive\n",
        "drive.mount('/content/drive/')"
      ],
      "execution_count": 1,
      "outputs": [
        {
          "output_type": "stream",
          "text": [
            "Go to this URL in a browser: https://accounts.google.com/o/oauth2/auth?client_id=947318989803-6bn6qk8qdgf4n4g3pfee6491hc0brc4i.apps.googleusercontent.com&redirect_uri=urn%3aietf%3awg%3aoauth%3a2.0%3aoob&response_type=code&scope=email%20https%3a%2f%2fwww.googleapis.com%2fauth%2fdocs.test%20https%3a%2f%2fwww.googleapis.com%2fauth%2fdrive%20https%3a%2f%2fwww.googleapis.com%2fauth%2fdrive.photos.readonly%20https%3a%2f%2fwww.googleapis.com%2fauth%2fpeopleapi.readonly\n",
            "\n",
            "Enter your authorization code:\n",
            "··········\n",
            "Mounted at /content/drive/\n"
          ],
          "name": "stdout"
        }
      ]
    },
    {
      "cell_type": "code",
      "metadata": {
        "id": "yH0kD0iQx8h6",
        "colab_type": "code",
        "outputId": "2a19a8f8-14eb-4029-89d4-fb8c0768c5b2",
        "colab": {
          "base_uri": "https://localhost:8080/",
          "height": 34
        }
      },
      "source": [
        "#implementation of fcn-8 code\n",
        "from keras.layers import *\n",
        "from keras import Model\n",
        "from matplotlib import pyplot as plt\n",
        "import cv2\n",
        "import os\n",
        "import numpy as np"
      ],
      "execution_count": 2,
      "outputs": [
        {
          "output_type": "stream",
          "text": [
            "Using TensorFlow backend.\n"
          ],
          "name": "stderr"
        }
      ]
    },
    {
      "cell_type": "code",
      "metadata": {
        "id": "k1L8KZqnyWoN",
        "colab_type": "code",
        "colab": {}
      },
      "source": [
        "os.chdir('/content/drive')"
      ],
      "execution_count": 0,
      "outputs": []
    },
    {
      "cell_type": "code",
      "metadata": {
        "id": "dDLjz-5SyZLc",
        "colab_type": "code",
        "colab": {}
      },
      "source": [
        "os.chdir('My Drive')"
      ],
      "execution_count": 0,
      "outputs": []
    },
    {
      "cell_type": "code",
      "metadata": {
        "id": "35DE_LvLybQo",
        "colab_type": "code",
        "colab": {}
      },
      "source": [
        "os.chdir('dataset')"
      ],
      "execution_count": 0,
      "outputs": []
    },
    {
      "cell_type": "code",
      "metadata": {
        "id": "whf_Bl7pydMw",
        "colab_type": "code",
        "colab": {}
      },
      "source": [
        "#reading the training data \n",
        "#reading x and y data\n",
        "x=np.load('Skin_TestX.npy')\n",
        "y=np.load('Skin_TestY.npy')\n",
        "#reading the test_data\n",
        "x_test=np.load('Skin_ValidX.npy')\n",
        "y_test=np.load('Skin_ValidY.npy')"
      ],
      "execution_count": 0,
      "outputs": []
    },
    {
      "cell_type": "code",
      "metadata": {
        "id": "SAA3TajiyfKJ",
        "colab_type": "code",
        "outputId": "be63a620-2924-40d2-fcbb-b2107af1653c",
        "colab": {
          "base_uri": "https://localhost:8080/",
          "height": 85
        }
      },
      "source": [
        "print(x.shape)\n",
        "print(y.shape)\n",
        "print(x_test.shape)\n",
        "print(y_test.shape)"
      ],
      "execution_count": 7,
      "outputs": [
        {
          "output_type": "stream",
          "text": [
            "(600, 192, 256, 3)\n",
            "(600, 192, 256)\n",
            "(150, 192, 256, 3)\n",
            "(150, 192, 256)\n"
          ],
          "name": "stdout"
        }
      ]
    },
    {
      "cell_type": "code",
      "metadata": {
        "id": "PdFbMqXNyiM2",
        "colab_type": "code",
        "outputId": "3757ee49-71d2-41fd-8a99-b7a7fb0045ad",
        "colab": {
          "base_uri": "https://localhost:8080/",
          "height": 51
        }
      },
      "source": [
        "#reshaping\n",
        "y=y.reshape(-1,192,256,1)\n",
        "y_test=y_test.reshape(-1,192,256,1)\n",
        "print(y.shape)\n",
        "print(y_test.shape)"
      ],
      "execution_count": 8,
      "outputs": [
        {
          "output_type": "stream",
          "text": [
            "(600, 192, 256, 1)\n",
            "(150, 192, 256, 1)\n"
          ],
          "name": "stdout"
        }
      ]
    },
    {
      "cell_type": "code",
      "metadata": {
        "id": "Qmwadf4zy-sz",
        "colab_type": "code",
        "colab": {}
      },
      "source": [
        "#performing the normalization of taking each value between 0 and 1\n",
        "y=y.astype('float32')/255\n",
        "y_test=y_test.astype('float32')/255"
      ],
      "execution_count": 0,
      "outputs": []
    },
    {
      "cell_type": "code",
      "metadata": {
        "id": "HMpVXU0LzCV8",
        "colab_type": "code",
        "colab": {}
      },
      "source": [
        "#normalizing the training data\n",
        "x_mean=np.mean(x)\n",
        "x_std=np.std(x)\n",
        "x=x-x_mean\n",
        "x=x/x_std"
      ],
      "execution_count": 0,
      "outputs": []
    },
    {
      "cell_type": "code",
      "metadata": {
        "id": "nVXV0dfFzMTo",
        "colab_type": "code",
        "colab": {}
      },
      "source": [
        "#normalizing test data\n",
        "x_test=x_test-x_mean\n",
        "x_test=x_test/x_std"
      ],
      "execution_count": 0,
      "outputs": []
    },
    {
      "cell_type": "code",
      "metadata": {
        "id": "hwUhlXe5zOqd",
        "colab_type": "code",
        "outputId": "9209896f-9ce1-46e8-89f0-6f3b15a69dd1",
        "colab": {
          "base_uri": "https://localhost:8080/",
          "height": 833
        }
      },
      "source": [
        "#creating a Unet Network but since we are not creating the sequentail network so we need model API to create model\n",
        "\n",
        "def create_model():\n",
        "  input_img=Input(shape=(192,256,3))\n",
        "  \n",
        "  #block_1\n",
        "  z=Conv2D(32,(3,3),padding='same',input_shape=(128,128,1),activation='relu',name='block1_conv1')(input_img)\n",
        "  conv1=Conv2D(32,(3,3),padding='same',activation='relu',name='block1_conv2')(z)\n",
        "  z=MaxPool2D(pool_size=(2,2),strides=(2,2),name='block1_maxpooling')(conv1)\n",
        "\n",
        "  #block_2\n",
        "  z=Conv2D(64,(3,3),padding='same',activation='relu',name='block2_conv1')(z)\n",
        "  conv2=Conv2D(64,(3,3),padding='same',activation='relu',name='block2_conv2')(z)\n",
        "  z=MaxPool2D(pool_size=(2,2),strides=(2,2),name='block2_maxpooling')(conv2)\n",
        "\n",
        "  #block_3\n",
        "  z=Conv2D(128,(3,3),padding='same',activation='relu',name='block3_conv1')(z)\n",
        "  z=Conv2D(128,(3,3),padding='same',activation='relu',name='block3_conv2')(z)\n",
        "  up1=Conv2DTranspose(128,(2,2),strides=(2,2),activation='relu',padding='same',name='upsampling')(z)\n",
        "\n",
        "  concat1=concatenate([up1,conv2])\n",
        "  #block_4\n",
        "  z=Conv2D(64,(3,3),padding='same',activation='relu',name='block4_conv1')(concat1)\n",
        "  z=Conv2D(64,(3,3),padding='same',activation='relu',name='block4_conv2')(z)\n",
        "  up2=Conv2DTranspose(64,(2,2),strides=(2,2),activation='relu',padding='same',name='upsampling2')(z)\n",
        "  \n",
        "  concat2=concatenate([up2,conv1])\n",
        "  #block_5\n",
        "  z=Conv2D(32,(3,3),padding='same',activation='relu',name='block5_conv1')(concat2)\n",
        "  z=Conv2D(32,(3,3),padding='same',activation='relu',name='block5_conv2')(z)\n",
        "  z=Dropout(0.5)(z)\n",
        "  final=Conv2D(1,(1,1),activation='relu',padding='same' ,name='final')(z)\n",
        "\n",
        "  model1=Model(input_img,final)\n",
        "  return model1\n",
        "\n",
        "model=create_model()\n",
        "model.summary()"
      ],
      "execution_count": 12,
      "outputs": [
        {
          "output_type": "stream",
          "text": [
            "Model: \"model_1\"\n",
            "__________________________________________________________________________________________________\n",
            "Layer (type)                    Output Shape         Param #     Connected to                     \n",
            "==================================================================================================\n",
            "input_1 (InputLayer)            (None, 192, 256, 3)  0                                            \n",
            "__________________________________________________________________________________________________\n",
            "block1_conv1 (Conv2D)           (None, 192, 256, 32) 896         input_1[0][0]                    \n",
            "__________________________________________________________________________________________________\n",
            "block1_conv2 (Conv2D)           (None, 192, 256, 32) 9248        block1_conv1[0][0]               \n",
            "__________________________________________________________________________________________________\n",
            "block1_maxpooling (MaxPooling2D (None, 96, 128, 32)  0           block1_conv2[0][0]               \n",
            "__________________________________________________________________________________________________\n",
            "block2_conv1 (Conv2D)           (None, 96, 128, 64)  18496       block1_maxpooling[0][0]          \n",
            "__________________________________________________________________________________________________\n",
            "block2_conv2 (Conv2D)           (None, 96, 128, 64)  36928       block2_conv1[0][0]               \n",
            "__________________________________________________________________________________________________\n",
            "block2_maxpooling (MaxPooling2D (None, 48, 64, 64)   0           block2_conv2[0][0]               \n",
            "__________________________________________________________________________________________________\n",
            "block3_conv1 (Conv2D)           (None, 48, 64, 128)  73856       block2_maxpooling[0][0]          \n",
            "__________________________________________________________________________________________________\n",
            "block3_conv2 (Conv2D)           (None, 48, 64, 128)  147584      block3_conv1[0][0]               \n",
            "__________________________________________________________________________________________________\n",
            "upsampling (Conv2DTranspose)    (None, 96, 128, 128) 65664       block3_conv2[0][0]               \n",
            "__________________________________________________________________________________________________\n",
            "concatenate_1 (Concatenate)     (None, 96, 128, 192) 0           upsampling[0][0]                 \n",
            "                                                                 block2_conv2[0][0]               \n",
            "__________________________________________________________________________________________________\n",
            "block4_conv1 (Conv2D)           (None, 96, 128, 64)  110656      concatenate_1[0][0]              \n",
            "__________________________________________________________________________________________________\n",
            "block4_conv2 (Conv2D)           (None, 96, 128, 64)  36928       block4_conv1[0][0]               \n",
            "__________________________________________________________________________________________________\n",
            "upsampling2 (Conv2DTranspose)   (None, 192, 256, 64) 16448       block4_conv2[0][0]               \n",
            "__________________________________________________________________________________________________\n",
            "concatenate_2 (Concatenate)     (None, 192, 256, 96) 0           upsampling2[0][0]                \n",
            "                                                                 block1_conv2[0][0]               \n",
            "__________________________________________________________________________________________________\n",
            "block5_conv1 (Conv2D)           (None, 192, 256, 32) 27680       concatenate_2[0][0]              \n",
            "__________________________________________________________________________________________________\n",
            "block5_conv2 (Conv2D)           (None, 192, 256, 32) 9248        block5_conv1[0][0]               \n",
            "__________________________________________________________________________________________________\n",
            "dropout_1 (Dropout)             (None, 192, 256, 32) 0           block5_conv2[0][0]               \n",
            "__________________________________________________________________________________________________\n",
            "final (Conv2D)                  (None, 192, 256, 1)  33          dropout_1[0][0]                  \n",
            "==================================================================================================\n",
            "Total params: 553,665\n",
            "Trainable params: 553,665\n",
            "Non-trainable params: 0\n",
            "__________________________________________________________________________________________________\n"
          ],
          "name": "stdout"
        }
      ]
    },
    {
      "cell_type": "code",
      "metadata": {
        "id": "4qRflQEozVrp",
        "colab_type": "code",
        "colab": {}
      },
      "source": [
        "os.chdir('/content/drive/My Drive')"
      ],
      "execution_count": 0,
      "outputs": []
    },
    {
      "cell_type": "code",
      "metadata": {
        "id": "lxgoy3HTzaHP",
        "colab_type": "code",
        "colab": {}
      },
      "source": [
        "model.compile(optimizer='adam',loss='binary_crossentropy',metrics=['accuracy'])"
      ],
      "execution_count": 0,
      "outputs": []
    },
    {
      "cell_type": "code",
      "metadata": {
        "id": "6VOc9upQ0JZy",
        "colab_type": "code",
        "colab": {}
      },
      "source": [
        "#creating callbacks\n",
        "#creating the callbacks and checkpoints to save best model\n",
        "from keras.callbacks import EarlyStopping,ModelCheckpoint\n",
        "es=EarlyStopping(monitor=\"val_loss\",mode='min',patience=10 ,verbose=1)\n",
        "cp=ModelCheckpoint('Unet_color.h5',monitor=\"val_loss\",mode='min',verbose=1,save_best_only='true')"
      ],
      "execution_count": 0,
      "outputs": []
    },
    {
      "cell_type": "code",
      "metadata": {
        "id": "k6GGfk-v0PAO",
        "colab_type": "code",
        "outputId": "bcb865e0-94be-427f-af90-a15bb165a1a4",
        "colab": {
          "base_uri": "https://localhost:8080/",
          "height": 1000
        }
      },
      "source": [
        "history=model.fit(x,y,verbose=1,batch_size=32,epochs=100,callbacks=([es,cp]),validation_split=(0.2),shuffle='true',class_weight='auto')"
      ],
      "execution_count": 16,
      "outputs": [
        {
          "output_type": "stream",
          "text": [
            "Train on 480 samples, validate on 120 samples\n",
            "Epoch 1/100\n",
            "480/480 [==============================] - 27s 55ms/step - loss: 0.7504 - accuracy: 0.7743 - val_loss: 0.4252 - val_accuracy: 0.8445\n",
            "\n",
            "Epoch 00001: val_loss improved from inf to 0.42524, saving model to Unet_color.h5\n",
            "Epoch 2/100\n",
            "480/480 [==============================] - 13s 28ms/step - loss: 0.4440 - accuracy: 0.8123 - val_loss: 0.4140 - val_accuracy: 0.8471\n",
            "\n",
            "Epoch 00002: val_loss improved from 0.42524 to 0.41401, saving model to Unet_color.h5\n",
            "Epoch 3/100\n",
            "480/480 [==============================] - 13s 27ms/step - loss: 0.4311 - accuracy: 0.8150 - val_loss: 0.4195 - val_accuracy: 0.8484\n",
            "\n",
            "Epoch 00003: val_loss did not improve from 0.41401\n",
            "Epoch 4/100\n",
            "480/480 [==============================] - 13s 27ms/step - loss: 0.4187 - accuracy: 0.8215 - val_loss: 0.4125 - val_accuracy: 0.8501\n",
            "\n",
            "Epoch 00004: val_loss improved from 0.41401 to 0.41252, saving model to Unet_color.h5\n",
            "Epoch 5/100\n",
            "480/480 [==============================] - 13s 27ms/step - loss: 0.4147 - accuracy: 0.8223 - val_loss: 0.4077 - val_accuracy: 0.8491\n",
            "\n",
            "Epoch 00005: val_loss improved from 0.41252 to 0.40774, saving model to Unet_color.h5\n",
            "Epoch 6/100\n",
            "480/480 [==============================] - 13s 27ms/step - loss: 0.4135 - accuracy: 0.8226 - val_loss: 0.4099 - val_accuracy: 0.8502\n",
            "\n",
            "Epoch 00006: val_loss did not improve from 0.40774\n",
            "Epoch 7/100\n",
            "480/480 [==============================] - 13s 27ms/step - loss: 0.4072 - accuracy: 0.8272 - val_loss: 0.4046 - val_accuracy: 0.8494\n",
            "\n",
            "Epoch 00007: val_loss improved from 0.40774 to 0.40462, saving model to Unet_color.h5\n",
            "Epoch 8/100\n",
            "480/480 [==============================] - 13s 27ms/step - loss: 0.4130 - accuracy: 0.8234 - val_loss: 0.4050 - val_accuracy: 0.8474\n",
            "\n",
            "Epoch 00008: val_loss did not improve from 0.40462\n",
            "Epoch 9/100\n",
            "480/480 [==============================] - 13s 27ms/step - loss: 0.4088 - accuracy: 0.8236 - val_loss: 0.4055 - val_accuracy: 0.8499\n",
            "\n",
            "Epoch 00009: val_loss did not improve from 0.40462\n",
            "Epoch 10/100\n",
            "480/480 [==============================] - 13s 27ms/step - loss: 0.4014 - accuracy: 0.8283 - val_loss: 0.4104 - val_accuracy: 0.8476\n",
            "\n",
            "Epoch 00010: val_loss did not improve from 0.40462\n",
            "Epoch 11/100\n",
            "480/480 [==============================] - 13s 27ms/step - loss: 0.4073 - accuracy: 0.8275 - val_loss: 0.3947 - val_accuracy: 0.8494\n",
            "\n",
            "Epoch 00011: val_loss improved from 0.40462 to 0.39468, saving model to Unet_color.h5\n",
            "Epoch 12/100\n",
            "480/480 [==============================] - 13s 27ms/step - loss: 0.4032 - accuracy: 0.8266 - val_loss: 0.3879 - val_accuracy: 0.8468\n",
            "\n",
            "Epoch 00012: val_loss improved from 0.39468 to 0.38789, saving model to Unet_color.h5\n",
            "Epoch 13/100\n",
            "480/480 [==============================] - 13s 27ms/step - loss: 0.3960 - accuracy: 0.8298 - val_loss: 0.3779 - val_accuracy: 0.8510\n",
            "\n",
            "Epoch 00013: val_loss improved from 0.38789 to 0.37790, saving model to Unet_color.h5\n",
            "Epoch 14/100\n",
            "480/480 [==============================] - 13s 27ms/step - loss: 0.3857 - accuracy: 0.8348 - val_loss: 0.3741 - val_accuracy: 0.8489\n",
            "\n",
            "Epoch 00014: val_loss improved from 0.37790 to 0.37408, saving model to Unet_color.h5\n",
            "Epoch 15/100\n",
            "480/480 [==============================] - 13s 27ms/step - loss: 0.3919 - accuracy: 0.8266 - val_loss: 0.3780 - val_accuracy: 0.8484\n",
            "\n",
            "Epoch 00015: val_loss did not improve from 0.37408\n",
            "Epoch 16/100\n",
            "480/480 [==============================] - 13s 27ms/step - loss: 0.4042 - accuracy: 0.8240 - val_loss: 0.3862 - val_accuracy: 0.8506\n",
            "\n",
            "Epoch 00016: val_loss did not improve from 0.37408\n",
            "Epoch 17/100\n",
            "480/480 [==============================] - 13s 27ms/step - loss: 0.3814 - accuracy: 0.8365 - val_loss: 0.3848 - val_accuracy: 0.8501\n",
            "\n",
            "Epoch 00017: val_loss did not improve from 0.37408\n",
            "Epoch 18/100\n",
            "480/480 [==============================] - 13s 27ms/step - loss: 0.3943 - accuracy: 0.8259 - val_loss: 0.3842 - val_accuracy: 0.8519\n",
            "\n",
            "Epoch 00018: val_loss did not improve from 0.37408\n",
            "Epoch 19/100\n",
            "480/480 [==============================] - 13s 27ms/step - loss: 0.3815 - accuracy: 0.8353 - val_loss: 0.3862 - val_accuracy: 0.8531\n",
            "\n",
            "Epoch 00019: val_loss did not improve from 0.37408\n",
            "Epoch 20/100\n",
            "480/480 [==============================] - 13s 27ms/step - loss: 0.3723 - accuracy: 0.8391 - val_loss: 0.3712 - val_accuracy: 0.8539\n",
            "\n",
            "Epoch 00020: val_loss improved from 0.37408 to 0.37123, saving model to Unet_color.h5\n",
            "Epoch 21/100\n",
            "480/480 [==============================] - 13s 27ms/step - loss: 0.3731 - accuracy: 0.8379 - val_loss: 0.3736 - val_accuracy: 0.8511\n",
            "\n",
            "Epoch 00021: val_loss did not improve from 0.37123\n",
            "Epoch 22/100\n",
            "480/480 [==============================] - 13s 27ms/step - loss: 0.3743 - accuracy: 0.8382 - val_loss: 0.3847 - val_accuracy: 0.8497\n",
            "\n",
            "Epoch 00022: val_loss did not improve from 0.37123\n",
            "Epoch 23/100\n",
            "480/480 [==============================] - 13s 27ms/step - loss: 0.3914 - accuracy: 0.8266 - val_loss: 0.3744 - val_accuracy: 0.8494\n",
            "\n",
            "Epoch 00023: val_loss did not improve from 0.37123\n",
            "Epoch 24/100\n",
            "480/480 [==============================] - 13s 27ms/step - loss: 0.3653 - accuracy: 0.8401 - val_loss: 0.3782 - val_accuracy: 0.8547\n",
            "\n",
            "Epoch 00024: val_loss did not improve from 0.37123\n",
            "Epoch 25/100\n",
            "480/480 [==============================] - 13s 27ms/step - loss: 0.3578 - accuracy: 0.8485 - val_loss: 0.3724 - val_accuracy: 0.8553\n",
            "\n",
            "Epoch 00025: val_loss did not improve from 0.37123\n",
            "Epoch 26/100\n",
            "480/480 [==============================] - 13s 27ms/step - loss: 0.3515 - accuracy: 0.8509 - val_loss: 0.3678 - val_accuracy: 0.8546\n",
            "\n",
            "Epoch 00026: val_loss improved from 0.37123 to 0.36785, saving model to Unet_color.h5\n",
            "Epoch 27/100\n",
            "480/480 [==============================] - 13s 27ms/step - loss: 0.3606 - accuracy: 0.8463 - val_loss: 0.3689 - val_accuracy: 0.8557\n",
            "\n",
            "Epoch 00027: val_loss did not improve from 0.36785\n",
            "Epoch 28/100\n",
            "480/480 [==============================] - 13s 27ms/step - loss: 0.3565 - accuracy: 0.8476 - val_loss: 0.3861 - val_accuracy: 0.8495\n",
            "\n",
            "Epoch 00028: val_loss did not improve from 0.36785\n",
            "Epoch 29/100\n",
            "480/480 [==============================] - 13s 27ms/step - loss: 0.3493 - accuracy: 0.8494 - val_loss: 0.3766 - val_accuracy: 0.8505\n",
            "\n",
            "Epoch 00029: val_loss did not improve from 0.36785\n",
            "Epoch 30/100\n",
            "480/480 [==============================] - 13s 27ms/step - loss: 0.3407 - accuracy: 0.8570 - val_loss: 0.3496 - val_accuracy: 0.8562\n",
            "\n",
            "Epoch 00030: val_loss improved from 0.36785 to 0.34958, saving model to Unet_color.h5\n",
            "Epoch 31/100\n",
            "480/480 [==============================] - 13s 27ms/step - loss: 0.3421 - accuracy: 0.8563 - val_loss: 0.3625 - val_accuracy: 0.8558\n",
            "\n",
            "Epoch 00031: val_loss did not improve from 0.34958\n",
            "Epoch 32/100\n",
            "480/480 [==============================] - 13s 27ms/step - loss: 0.3312 - accuracy: 0.8577 - val_loss: 0.3621 - val_accuracy: 0.8594\n",
            "\n",
            "Epoch 00032: val_loss did not improve from 0.34958\n",
            "Epoch 33/100\n",
            "480/480 [==============================] - 13s 27ms/step - loss: 0.3414 - accuracy: 0.8562 - val_loss: 0.3619 - val_accuracy: 0.8601\n",
            "\n",
            "Epoch 00033: val_loss did not improve from 0.34958\n",
            "Epoch 34/100\n",
            "480/480 [==============================] - 13s 27ms/step - loss: 0.3425 - accuracy: 0.8518 - val_loss: 0.3416 - val_accuracy: 0.8602\n",
            "\n",
            "Epoch 00034: val_loss improved from 0.34958 to 0.34156, saving model to Unet_color.h5\n",
            "Epoch 35/100\n",
            "480/480 [==============================] - 13s 27ms/step - loss: 0.3425 - accuracy: 0.8555 - val_loss: 0.3516 - val_accuracy: 0.8582\n",
            "\n",
            "Epoch 00035: val_loss did not improve from 0.34156\n",
            "Epoch 36/100\n",
            "480/480 [==============================] - 13s 27ms/step - loss: 0.3368 - accuracy: 0.8580 - val_loss: 0.3401 - val_accuracy: 0.8569\n",
            "\n",
            "Epoch 00036: val_loss improved from 0.34156 to 0.34015, saving model to Unet_color.h5\n",
            "Epoch 37/100\n",
            "480/480 [==============================] - 13s 27ms/step - loss: 0.3368 - accuracy: 0.8589 - val_loss: 0.3677 - val_accuracy: 0.8593\n",
            "\n",
            "Epoch 00037: val_loss did not improve from 0.34015\n",
            "Epoch 38/100\n",
            "480/480 [==============================] - 13s 27ms/step - loss: 0.3288 - accuracy: 0.8590 - val_loss: 0.3571 - val_accuracy: 0.8613\n",
            "\n",
            "Epoch 00038: val_loss did not improve from 0.34015\n",
            "Epoch 39/100\n",
            "480/480 [==============================] - 13s 27ms/step - loss: 0.3283 - accuracy: 0.8589 - val_loss: 0.3447 - val_accuracy: 0.8619\n",
            "\n",
            "Epoch 00039: val_loss did not improve from 0.34015\n",
            "Epoch 40/100\n",
            "480/480 [==============================] - 13s 27ms/step - loss: 0.3230 - accuracy: 0.8599 - val_loss: 0.3269 - val_accuracy: 0.8621\n",
            "\n",
            "Epoch 00040: val_loss improved from 0.34015 to 0.32690, saving model to Unet_color.h5\n",
            "Epoch 41/100\n",
            "480/480 [==============================] - 13s 27ms/step - loss: 0.3225 - accuracy: 0.8594 - val_loss: 0.3371 - val_accuracy: 0.8661\n",
            "\n",
            "Epoch 00041: val_loss did not improve from 0.32690\n",
            "Epoch 42/100\n",
            "480/480 [==============================] - 13s 27ms/step - loss: 0.3256 - accuracy: 0.8598 - val_loss: 0.3525 - val_accuracy: 0.8586\n",
            "\n",
            "Epoch 00042: val_loss did not improve from 0.32690\n",
            "Epoch 43/100\n",
            "480/480 [==============================] - 13s 27ms/step - loss: 0.3186 - accuracy: 0.8600 - val_loss: 0.3347 - val_accuracy: 0.8667\n",
            "\n",
            "Epoch 00043: val_loss did not improve from 0.32690\n",
            "Epoch 44/100\n",
            "480/480 [==============================] - 13s 27ms/step - loss: 0.3198 - accuracy: 0.8583 - val_loss: 0.3534 - val_accuracy: 0.8543\n",
            "\n",
            "Epoch 00044: val_loss did not improve from 0.32690\n",
            "Epoch 45/100\n",
            "480/480 [==============================] - 13s 27ms/step - loss: 0.3428 - accuracy: 0.8502 - val_loss: 0.3617 - val_accuracy: 0.8566\n",
            "\n",
            "Epoch 00045: val_loss did not improve from 0.32690\n",
            "Epoch 46/100\n",
            "480/480 [==============================] - 13s 27ms/step - loss: 0.3290 - accuracy: 0.8603 - val_loss: 0.3354 - val_accuracy: 0.8589\n",
            "\n",
            "Epoch 00046: val_loss did not improve from 0.32690\n",
            "Epoch 47/100\n",
            "480/480 [==============================] - 13s 27ms/step - loss: 0.3261 - accuracy: 0.8612 - val_loss: 0.3440 - val_accuracy: 0.8650\n",
            "\n",
            "Epoch 00047: val_loss did not improve from 0.32690\n",
            "Epoch 48/100\n",
            "480/480 [==============================] - 13s 27ms/step - loss: 0.3144 - accuracy: 0.8630 - val_loss: 0.3376 - val_accuracy: 0.8664\n",
            "\n",
            "Epoch 00048: val_loss did not improve from 0.32690\n",
            "Epoch 49/100\n",
            "480/480 [==============================] - 13s 27ms/step - loss: 0.3177 - accuracy: 0.8617 - val_loss: 0.3455 - val_accuracy: 0.8644\n",
            "\n",
            "Epoch 00049: val_loss did not improve from 0.32690\n",
            "Epoch 50/100\n",
            "480/480 [==============================] - 13s 27ms/step - loss: 0.3592 - accuracy: 0.8391 - val_loss: 0.4203 - val_accuracy: 0.8332\n",
            "\n",
            "Epoch 00050: val_loss did not improve from 0.32690\n",
            "Epoch 00050: early stopping\n"
          ],
          "name": "stdout"
        }
      ]
    },
    {
      "cell_type": "code",
      "metadata": {
        "id": "RlwdnWR40SKm",
        "colab_type": "code",
        "outputId": "520c01f8-53af-4ccb-e528-121da3ea7766",
        "colab": {
          "base_uri": "https://localhost:8080/",
          "height": 51
        }
      },
      "source": [
        "#evaluation of unet\n",
        "result=model.evaluate(x_test,y_test)\n",
        "print(result)"
      ],
      "execution_count": 17,
      "outputs": [
        {
          "output_type": "stream",
          "text": [
            "150/150 [==============================] - 3s 20ms/step\n",
            "[0.39573981126149493, 0.8658546209335327]\n"
          ],
          "name": "stdout"
        }
      ]
    },
    {
      "cell_type": "code",
      "metadata": {
        "id": "_oz3XqQm1bU_",
        "colab_type": "code",
        "colab": {}
      },
      "source": [
        "#plotting the accuracy and loss graph\n",
        "train_loss=history.history['loss']\n",
        "train_acc=history.history['accuracy']\n",
        "val_loss=history.history['val_loss']\n",
        "val_acc=history.history['val_accuracy']\n",
        "epoch=range(len(train_loss))"
      ],
      "execution_count": 0,
      "outputs": []
    },
    {
      "cell_type": "code",
      "metadata": {
        "id": "92uhPtsp1epk",
        "colab_type": "code",
        "outputId": "bd96acf6-038c-49ce-89a6-12b5cc728460",
        "colab": {
          "base_uri": "https://localhost:8080/",
          "height": 296
        }
      },
      "source": [
        "#plotting the garph of loss\n",
        "plt.plot(epoch,train_loss)\n",
        "plt.plot(epoch,val_loss)\n",
        "plt.xlabel('epochs')\n",
        "plt.ylabel('loss')\n",
        "plt.legend(['training','validation'])"
      ],
      "execution_count": 19,
      "outputs": [
        {
          "output_type": "execute_result",
          "data": {
            "text/plain": [
              "<matplotlib.legend.Legend at 0x7f35a3609898>"
            ]
          },
          "metadata": {
            "tags": []
          },
          "execution_count": 19
        },
        {
          "output_type": "display_data",
          "data": {
            "image/png": "[encoded data removed]",
            "text/plain": [
              "<Figure size 432x288 with 1 Axes>"
            ]
          },
          "metadata": {
            "tags": [],
            "needs_background": "light"
          }
        }
      ]
    },
    {
      "cell_type": "code",
      "metadata": {
        "id": "RImFi4_f1kVm",
        "colab_type": "code",
        "outputId": "481d533b-a904-447a-ae26-2128f3f99df4",
        "colab": {
          "base_uri": "https://localhost:8080/",
          "height": 296
        }
      },
      "source": [
        "#graph for accuracy\n",
        "plt.plot(epoch,train_acc)\n",
        "plt.plot(epoch,val_acc)\n",
        "plt.xlabel('epochs')\n",
        "plt.ylabel('accuracy')\n",
        "plt.legend(['training','validation'])"
      ],
      "execution_count": 20,
      "outputs": [
        {
          "output_type": "execute_result",
          "data": {
            "text/plain": [
              "<matplotlib.legend.Legend at 0x7f3649169320>"
            ]
          },
          "metadata": {
            "tags": []
          },
          "execution_count": 20
        },
        {
          "output_type": "display_data",
          "data": {
            "image/png": "[encoded data removed]",
            "text/plain": [
              "<Figure size 432x288 with 1 Axes>"
            ]
          },
          "metadata": {
            "tags": [],
            "needs_background": "light"
          }
        }
      ]
    },
    {
      "cell_type": "code",
      "metadata": {
        "id": "-C8TC8aQ1t9I",
        "colab_type": "code",
        "colab": {}
      },
      "source": [
        "#plotting best model\n",
        "from keras import models\n",
        "best_model=models.load_model('Unet_color.h5')"
      ],
      "execution_count": 0,
      "outputs": []
    },
    {
      "cell_type": "code",
      "metadata": {
        "id": "Eqn1-kFe2XRV",
        "colab_type": "code",
        "outputId": "832fba35-ea19-4f17-cf99-8c16af0a512f",
        "colab": {
          "base_uri": "https://localhost:8080/",
          "height": 51
        }
      },
      "source": [
        "result=best_model.evaluate(x_test,y_test)\n",
        "print(result)"
      ],
      "execution_count": 22,
      "outputs": [
        {
          "output_type": "stream",
          "text": [
            "150/150 [==============================] - 2s 10ms/step\n",
            "[0.28110724409421284, 0.8917660713195801]\n"
          ],
          "name": "stdout"
        }
      ]
    },
    {
      "cell_type": "code",
      "metadata": {
        "id": "yHE6Bkfq2hUw",
        "colab_type": "code",
        "colab": {}
      },
      "source": [
        "#predictions\n",
        "predict=model.predict(x_test[100].reshape(1,192,256,3))\n",
        "predict=predict >0.5"
      ],
      "execution_count": 0,
      "outputs": []
    },
    {
      "cell_type": "code",
      "metadata": {
        "id": "-ufZA19O3AYW",
        "colab_type": "code",
        "outputId": "27840a9f-7a3e-4866-dfa6-231c961583f6",
        "colab": {
          "base_uri": "https://localhost:8080/",
          "height": 206
        }
      },
      "source": [
        "#visualization of results\n",
        "plt.figure(figsize=(10,10))\n",
        "plt.subplot(131).imshow(x_test[100])\n",
        "plt.xlabel('orignal image')\n",
        "plt.subplot(132).imshow(y_test[100].reshape(192,256))\n",
        "plt.xlabel('ground truth image')\n",
        "plt.subplot(133).imshow(predict.reshape(192,256))\n",
        "plt.xlabel('output image')\n",
        "plt.show()"
      ],
      "execution_count": 24,
      "outputs": [
        {
          "output_type": "stream",
          "text": [
            "Clipping input data to the valid range for imshow with RGB data ([0..1] for floats or [0..255] for integers).\n"
          ],
          "name": "stderr"
        },
        {
          "output_type": "display_data",
          "data": {
            "image/png": "[encoded data removed]",
            "text/plain": [
              "<Figure size 720x720 with 3 Axes>"
            ]
          },
          "metadata": {
            "tags": [],
            "needs_background": "light"
          }
        }
      ]
    },
    {
      "cell_type": "code",
      "metadata": {
        "id": "MMwfse4E3ugG",
        "colab_type": "code",
        "colab": {}
      },
      "source": [
        ""
      ],
      "execution_count": 0,
      "outputs": []
    }
  ]
}