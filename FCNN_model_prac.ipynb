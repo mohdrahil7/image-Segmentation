{
  "nbformat": 4,
  "nbformat_minor": 0,
  "metadata": {
    "colab": {
      "name": "FCNN_model_prac.ipynb",
      "provenance": [],
      "collapsed_sections": [],
      "authorship_tag": "ABX9TyNxKOwAXodCFLOJL4uVMO9u",
      "include_colab_link": true
    },
    "kernelspec": {
      "name": "python3",
      "display_name": "Python 3"
    }
  },
  "cells": [
    {
      "cell_type": "markdown",
      "metadata": {
        "id": "view-in-github",
        "colab_type": "text"
      },
      "source": [
        "<a href=\"https://colab.research.google.com/github/mohdrahil7/image-Segmentation/blob/master/FCNN_model_prac.ipynb\" target=\"_parent\"><img src=\"https://colab.research.google.com/assets/colab-badge.svg\" alt=\"Open In Colab\"/></a>"
      ]
    },
    {
      "cell_type": "code",
      "metadata": {
        "id": "oz4khLlFIbKp",
        "colab_type": "code",
        "outputId": "28565b92-5457-4c8b-b849-67ee8cde68fe",
        "colab": {
          "base_uri": "https://localhost:8080/",
          "height": 122
        }
      },
      "source": [
        "from google.colab import drive\n",
        "drive.mount('/content/drive/')"
      ],
      "execution_count": 5,
      "outputs": [
        {
          "output_type": "stream",
          "text": [
            "Go to this URL in a browser: https://accounts.google.com/o/oauth2/auth?client_id=947318989803-6bn6qk8qdgf4n4g3pfee6491hc0brc4i.apps.googleusercontent.com&redirect_uri=urn%3aietf%3awg%3aoauth%3a2.0%3aoob&response_type=code&scope=email%20https%3a%2f%2fwww.googleapis.com%2fauth%2fdocs.test%20https%3a%2f%2fwww.googleapis.com%2fauth%2fdrive%20https%3a%2f%2fwww.googleapis.com%2fauth%2fdrive.photos.readonly%20https%3a%2f%2fwww.googleapis.com%2fauth%2fpeopleapi.readonly\n",
            "\n",
            "Enter your authorization code:\n",
            "··········\n",
            "Mounted at /content/drive/\n"
          ],
          "name": "stdout"
        }
      ]
    },
    {
      "cell_type": "code",
      "metadata": {
        "id": "sliODZpQI0dL",
        "colab_type": "code",
        "colab": {}
      },
      "source": [
        "from keras.models import Sequential\n",
        "from keras.layers import *\n",
        "from matplotlib import pyplot as plt\n",
        "import os\n",
        "import numpy as np\n",
        "import cv2"
      ],
      "execution_count": 0,
      "outputs": []
    },
    {
      "cell_type": "code",
      "metadata": {
        "id": "nh859gR8JwmI",
        "colab_type": "code",
        "outputId": "0986a808-782a-4a4a-834a-bae710da758c",
        "colab": {
          "base_uri": "https://localhost:8080/",
          "height": 34
        }
      },
      "source": [
        "os.getcwd()"
      ],
      "execution_count": 36,
      "outputs": [
        {
          "output_type": "execute_result",
          "data": {
            "text/plain": [
              "'/content/drive/My Drive'"
            ]
          },
          "metadata": {
            "tags": []
          },
          "execution_count": 36
        }
      ]
    },
    {
      "cell_type": "code",
      "metadata": {
        "id": "CsNafbwGJysu",
        "colab_type": "code",
        "outputId": "b2abe942-c400-4d5f-f51d-31a5af44bd15",
        "colab": {
          "base_uri": "https://localhost:8080/",
          "height": 1000
        }
      },
      "source": [
        "os.listdir()"
      ],
      "execution_count": 37,
      "outputs": [
        {
          "output_type": "execute_result",
          "data": {
            "text/plain": [
              "['Deep Learning Course 2020',\n",
              " 'dataset',\n",
              " '0991313 A.pdf',\n",
              " 'FIBONNAC.txt',\n",
              " 'IMG_20160805_135345.jpg',\n",
              " 'OS BOOKS.rar',\n",
              " 'IMG1.DOC',\n",
              " 'IMG1 (1).DOC.gdoc',\n",
              " 'IMG1.DOC.gdoc',\n",
              " 'IMG-20161021-WA0069.jpg',\n",
              " 'PROJECT TOPIC.gslides',\n",
              " 'SRS for digital library android application.docx.gdoc',\n",
              " 'JNEC BOOK GANGA.gslides',\n",
              " 'OnSocio (1).pptx',\n",
              " 'IMG_20170920_095050.jpg',\n",
              " 'IMG_20170920_095033.jpg',\n",
              " 'IMG_20170920_095020.jpg',\n",
              " 'IMG_20170920_094945.jpg',\n",
              " 'IMG_20170920_094950.jpg',\n",
              " 'Resume (13).gdoc',\n",
              " 'Resume (12).gdoc',\n",
              " 'Resume (11).gdoc',\n",
              " 'Letter.gdoc',\n",
              " 'Resume (10).gdoc',\n",
              " 'Resume (9).gdoc',\n",
              " 'Resume (8).gdoc',\n",
              " 'BE-seminar Report format-22-08-17.doc',\n",
              " 'Seminar PPT Format.ppt',\n",
              " 'Seminar PPT Format.ppt.gslides',\n",
              " 'Untitled presentation (2).gslides',\n",
              " 'BE-seminar Report format-22-08-17.gdoc',\n",
              " 'Bachelor Of Engineering In  Computer Science.gslides',\n",
              " 'DEEP WEB.gdoc',\n",
              " 'DEEP WEB.docx',\n",
              " 'TABLE.gdoc',\n",
              " 'OnSocio (1) (1).pptx.gslides',\n",
              " 'SRS for digital library android application.gdoc',\n",
              " 'Untitled document (3).gdoc',\n",
              " 'krishna.pdf',\n",
              " 'Untitled document (2).gdoc',\n",
              " 'OnSocio (1).pptx.gslides',\n",
              " 'ONSOCIO SRS.gdoc',\n",
              " 'Resume (7).gdoc',\n",
              " 'Resume (6).gdoc',\n",
              " 'Resume (5).gdoc',\n",
              " 'Resume (4).gdoc',\n",
              " 'Resume (3).gdoc',\n",
              " 'Resume (2).gdoc',\n",
              " 'Resume (2).pdf',\n",
              " 'onsociosat.doc.gdoc',\n",
              " 'sign.jpg',\n",
              " 'DSC_2933.jpg',\n",
              " 'Resume.pdf',\n",
              " '1.jpeg',\n",
              " 'index.png',\n",
              " 'Classroom',\n",
              " 'DOCS',\n",
              " 'first.cpp',\n",
              " 'DAXPY.cpp',\n",
              " 'hello.cpp',\n",
              " 'helloworld2.cpp',\n",
              " 'Resume (1).gdoc',\n",
              " 'algo',\n",
              " 'HPLAB',\n",
              " 'Untitled document (1).gdoc',\n",
              " 'computing',\n",
              " 'values.gsheet',\n",
              " 'mergesort.cpp',\n",
              " 'Your big idea.gslides',\n",
              " 'Prototyping presentation (2).gslides',\n",
              " 'Prototyping presentation (1).gslides',\n",
              " 'web',\n",
              " 'Seminar Lab (Recovered).gsheet',\n",
              " 'Copy of SRS for digital library android application.docx',\n",
              " 'Society Management.gdoc',\n",
              " 'deadlines.gdoc',\n",
              " 'deep learning.gdoc',\n",
              " 'stage1:data augmentation.gdoc',\n",
              " 'Sitobionavenae',\n",
              " 'scirpophagaincertulas',\n",
              " 'Oryctesrhinoceros',\n",
              " 'Chilopartellus',\n",
              " 'Amrascabiguttula',\n",
              " 'Muscidae',\n",
              " 'Leptocorisaacuta',\n",
              " 'Grasshopper Photos',\n",
              " 'Colab Notebooks',\n",
              " 'society',\n",
              " 'web document.pdf',\n",
              " 'parallelism.gdoc',\n",
              " 'Copy of maths project.gdoc',\n",
              " 'mathfront.pdf',\n",
              " 'maths project.gdoc',\n",
              " 'fresher',\n",
              " 'insect detection.gdoc',\n",
              " 'seminar final.gdoc',\n",
              " 'society1.zip',\n",
              " 'IMG_20191130_184310.jpg',\n",
              " 'Resume.gdoc',\n",
              " 'Untitled document.gdoc',\n",
              " 'Copy of 01s_Introduction_to_Google Colab',\n",
              " 'class02a.pdf',\n",
              " 'minor project.gdoc',\n",
              " 'NN_Tutorial.zip',\n",
              " 'NN_Tutorial.zip (Unzipped Files)',\n",
              " 'DL_Practical_MLP.zip',\n",
              " 'DL_Practical_MLP.zip (Unzipped Files)',\n",
              " 'A.png',\n",
              " 'CNN-Practicals_unzipped',\n",
              " '.ipynb_checkpoints',\n",
              " 'primaindia',\n",
              " 'Prototyping presentation.gslides',\n",
              " 'Untitled presentation (1).gslides',\n",
              " 'DDM PAPERS.gdoc',\n",
              " 'Part_4_Augmentation_1.ipynb',\n",
              " 'Part_5_Augmentation_2.ipynb',\n",
              " 'DDM REPORT.gdoc',\n",
              " 'health report.pdf',\n",
              " 'HSTCP.gdoc',\n",
              " 'Untitled presentation.gslides',\n",
              " 'health report.gdoc',\n",
              " 'Experiment Results.gdoc',\n",
              " 'README.gdoc',\n",
              " 'best_model_FCNN1.h5',\n",
              " 'best_model_FCNN2.h5',\n",
              " 'best_model_Usample.h5']"
            ]
          },
          "metadata": {
            "tags": []
          },
          "execution_count": 37
        }
      ]
    },
    {
      "cell_type": "code",
      "metadata": {
        "id": "lJTHddaQJ1nW",
        "colab_type": "code",
        "colab": {}
      },
      "source": [
        "os.chdir('/content/drive')"
      ],
      "execution_count": 0,
      "outputs": []
    },
    {
      "cell_type": "code",
      "metadata": {
        "id": "-STMeaZ-J7hM",
        "colab_type": "code",
        "outputId": "da40a502-fa65-48bc-a904-60b36900b24c",
        "colab": {
          "base_uri": "https://localhost:8080/",
          "height": 34
        }
      },
      "source": [
        "os.listdir()"
      ],
      "execution_count": 39,
      "outputs": [
        {
          "output_type": "execute_result",
          "data": {
            "text/plain": [
              "['.shortcut-targets-by-id', 'My Drive', '.Trash']"
            ]
          },
          "metadata": {
            "tags": []
          },
          "execution_count": 39
        }
      ]
    },
    {
      "cell_type": "code",
      "metadata": {
        "id": "UeCkCcvlJ9pE",
        "colab_type": "code",
        "colab": {}
      },
      "source": [
        "os.chdir('My Drive')"
      ],
      "execution_count": 0,
      "outputs": []
    },
    {
      "cell_type": "code",
      "metadata": {
        "id": "rhkyFZXAKC3A",
        "colab_type": "code",
        "outputId": "b45666c2-716f-4af7-f843-5bf5e76c1e8e",
        "colab": {
          "base_uri": "https://localhost:8080/",
          "height": 1000
        }
      },
      "source": [
        "os.listdir()"
      ],
      "execution_count": 41,
      "outputs": [
        {
          "output_type": "execute_result",
          "data": {
            "text/plain": [
              "['Deep Learning Course 2020',\n",
              " 'dataset',\n",
              " '0991313 A.pdf',\n",
              " 'FIBONNAC.txt',\n",
              " 'IMG_20160805_135345.jpg',\n",
              " 'OS BOOKS.rar',\n",
              " 'IMG1.DOC',\n",
              " 'IMG1 (1).DOC.gdoc',\n",
              " 'IMG1.DOC.gdoc',\n",
              " 'IMG-20161021-WA0069.jpg',\n",
              " 'PROJECT TOPIC.gslides',\n",
              " 'SRS for digital library android application.docx.gdoc',\n",
              " 'JNEC BOOK GANGA.gslides',\n",
              " 'OnSocio (1).pptx',\n",
              " 'IMG_20170920_095050.jpg',\n",
              " 'IMG_20170920_095033.jpg',\n",
              " 'IMG_20170920_095020.jpg',\n",
              " 'IMG_20170920_094945.jpg',\n",
              " 'IMG_20170920_094950.jpg',\n",
              " 'Resume (13).gdoc',\n",
              " 'Resume (12).gdoc',\n",
              " 'Resume (11).gdoc',\n",
              " 'Letter.gdoc',\n",
              " 'Resume (10).gdoc',\n",
              " 'Resume (9).gdoc',\n",
              " 'Resume (8).gdoc',\n",
              " 'BE-seminar Report format-22-08-17.doc',\n",
              " 'Seminar PPT Format.ppt',\n",
              " 'Seminar PPT Format.ppt.gslides',\n",
              " 'Untitled presentation (2).gslides',\n",
              " 'BE-seminar Report format-22-08-17.gdoc',\n",
              " 'Bachelor Of Engineering In  Computer Science.gslides',\n",
              " 'DEEP WEB.gdoc',\n",
              " 'DEEP WEB.docx',\n",
              " 'TABLE.gdoc',\n",
              " 'OnSocio (1) (1).pptx.gslides',\n",
              " 'SRS for digital library android application.gdoc',\n",
              " 'Untitled document (3).gdoc',\n",
              " 'krishna.pdf',\n",
              " 'Untitled document (2).gdoc',\n",
              " 'OnSocio (1).pptx.gslides',\n",
              " 'ONSOCIO SRS.gdoc',\n",
              " 'Resume (7).gdoc',\n",
              " 'Resume (6).gdoc',\n",
              " 'Resume (5).gdoc',\n",
              " 'Resume (4).gdoc',\n",
              " 'Resume (3).gdoc',\n",
              " 'Resume (2).gdoc',\n",
              " 'Resume (2).pdf',\n",
              " 'onsociosat.doc.gdoc',\n",
              " 'sign.jpg',\n",
              " 'DSC_2933.jpg',\n",
              " 'Resume.pdf',\n",
              " '1.jpeg',\n",
              " 'index.png',\n",
              " 'Classroom',\n",
              " 'DOCS',\n",
              " 'first.cpp',\n",
              " 'DAXPY.cpp',\n",
              " 'hello.cpp',\n",
              " 'helloworld2.cpp',\n",
              " 'Resume (1).gdoc',\n",
              " 'algo',\n",
              " 'HPLAB',\n",
              " 'Untitled document (1).gdoc',\n",
              " 'computing',\n",
              " 'values.gsheet',\n",
              " 'mergesort.cpp',\n",
              " 'Your big idea.gslides',\n",
              " 'Prototyping presentation (2).gslides',\n",
              " 'Prototyping presentation (1).gslides',\n",
              " 'web',\n",
              " 'Seminar Lab (Recovered).gsheet',\n",
              " 'Copy of SRS for digital library android application.docx',\n",
              " 'Society Management.gdoc',\n",
              " 'deadlines.gdoc',\n",
              " 'deep learning.gdoc',\n",
              " 'stage1:data augmentation.gdoc',\n",
              " 'Sitobionavenae',\n",
              " 'scirpophagaincertulas',\n",
              " 'Oryctesrhinoceros',\n",
              " 'Chilopartellus',\n",
              " 'Amrascabiguttula',\n",
              " 'Muscidae',\n",
              " 'Leptocorisaacuta',\n",
              " 'Grasshopper Photos',\n",
              " 'Colab Notebooks',\n",
              " 'society',\n",
              " 'web document.pdf',\n",
              " 'parallelism.gdoc',\n",
              " 'Copy of maths project.gdoc',\n",
              " 'mathfront.pdf',\n",
              " 'maths project.gdoc',\n",
              " 'fresher',\n",
              " 'insect detection.gdoc',\n",
              " 'seminar final.gdoc',\n",
              " 'society1.zip',\n",
              " 'IMG_20191130_184310.jpg',\n",
              " 'Resume.gdoc',\n",
              " 'Untitled document.gdoc',\n",
              " 'Copy of 01s_Introduction_to_Google Colab',\n",
              " 'class02a.pdf',\n",
              " 'minor project.gdoc',\n",
              " 'NN_Tutorial.zip',\n",
              " 'NN_Tutorial.zip (Unzipped Files)',\n",
              " 'DL_Practical_MLP.zip',\n",
              " 'DL_Practical_MLP.zip (Unzipped Files)',\n",
              " 'A.png',\n",
              " 'CNN-Practicals_unzipped',\n",
              " '.ipynb_checkpoints',\n",
              " 'primaindia',\n",
              " 'Prototyping presentation.gslides',\n",
              " 'Untitled presentation (1).gslides',\n",
              " 'DDM PAPERS.gdoc',\n",
              " 'Part_4_Augmentation_1.ipynb',\n",
              " 'Part_5_Augmentation_2.ipynb',\n",
              " 'DDM REPORT.gdoc',\n",
              " 'health report.pdf',\n",
              " 'HSTCP.gdoc',\n",
              " 'Untitled presentation.gslides',\n",
              " 'health report.gdoc',\n",
              " 'Experiment Results.gdoc',\n",
              " 'README.gdoc',\n",
              " 'best_model_FCNN1.h5',\n",
              " 'best_model_FCNN2.h5',\n",
              " 'best_model_Usample.h5']"
            ]
          },
          "metadata": {
            "tags": []
          },
          "execution_count": 41
        }
      ]
    },
    {
      "cell_type": "code",
      "metadata": {
        "id": "hk4B5-5uKNFt",
        "colab_type": "code",
        "colab": {}
      },
      "source": [
        "os.chdir('dataset')"
      ],
      "execution_count": 0,
      "outputs": []
    },
    {
      "cell_type": "code",
      "metadata": {
        "id": "wPIjSkqfKZQT",
        "colab_type": "code",
        "outputId": "6af0b05c-d9e9-4736-bdb8-076f379f6d31",
        "colab": {
          "base_uri": "https://localhost:8080/",
          "height": 34
        }
      },
      "source": [
        "os.listdir()"
      ],
      "execution_count": 43,
      "outputs": [
        {
          "output_type": "execute_result",
          "data": {
            "text/plain": [
              "['Skin_TestY.npy', 'Skin_ValidY.npy', 'Skin_ValidX.npy', 'Skin_TestX.npy']"
            ]
          },
          "metadata": {
            "tags": []
          },
          "execution_count": 43
        }
      ]
    },
    {
      "cell_type": "code",
      "metadata": {
        "id": "PlCpNIp7Kb3e",
        "colab_type": "code",
        "colab": {}
      },
      "source": [
        "#reading the training data \n",
        "#reading x and y data\n",
        "x=np.load('Skin_TestX.npy')\n",
        "y=np.load('Skin_TestY.npy')\n",
        "#reading the test_data\n",
        "x_test=np.load('Skin_ValidX.npy')\n",
        "y_test=np.load('Skin_ValidY.npy')"
      ],
      "execution_count": 0,
      "outputs": []
    },
    {
      "cell_type": "code",
      "metadata": {
        "id": "28pQ1KLTLSk1",
        "colab_type": "code",
        "outputId": "4f2ce5b2-e0e1-446c-b69b-c3c8a7c80f41",
        "colab": {
          "base_uri": "https://localhost:8080/",
          "height": 85
        }
      },
      "source": [
        "print(x.shape)\n",
        "print(y.shape)\n",
        "print(x_test.shape)\n",
        "print(y_test.shape)"
      ],
      "execution_count": 45,
      "outputs": [
        {
          "output_type": "stream",
          "text": [
            "(600, 192, 256, 3)\n",
            "(600, 192, 256)\n",
            "(150, 192, 256, 3)\n",
            "(150, 192, 256)\n"
          ],
          "name": "stdout"
        }
      ]
    },
    {
      "cell_type": "code",
      "metadata": {
        "id": "n7LZHgWaLc23",
        "colab_type": "code",
        "outputId": "c8d1e1bb-372c-46c2-e741-0300846c1de6",
        "colab": {
          "base_uri": "https://localhost:8080/",
          "height": 119
        }
      },
      "source": [
        "#preprocessing of data\n",
        "#converting the data into first gray scale and then reducing dimensions\n",
        "x_gray=[]\n",
        "for i in range(0,len(x)):\n",
        "    x_gray.append(cv2.cvtColor(x[i],cv2.COLOR_BGR2GRAY))\n",
        "x=np.array(x_gray)\n",
        "x_test_gray=[]\n",
        "for i in range(0,len(x_test)):\n",
        "    x_test_gray.append(cv2.cvtColor(x_test[i],cv2.COLOR_BGR2GRAY))\n",
        "x_test=np.array(x_test_gray)\n",
        "\n",
        "del x_gray\n",
        "del x_test_gray\n",
        "\n",
        "#resizing of the array into size of 128, 128 using cv2\n",
        "x_resize=[]\n",
        "for i in range(0,len(x)):\n",
        "    x_resize.append(cv2.resize(x[i],(128,128)))\n",
        "print(len(x_resize))\n",
        "x_tresize=[]\n",
        "for i in range(0,len(x_test)):\n",
        "    x_tresize.append(cv2.resize(x_test[i],(128,128)))\n",
        "print(len(x_tresize))\n",
        "\n",
        "x=np.array(x_resize)\n",
        "print(x.shape)\n",
        "x_test=np.array(x_tresize)\n",
        "print(x_test.shape)\n",
        "\n",
        "#now converting each element into 3 dimension\n",
        "x=x.reshape(-1,128,128,1)\n",
        "print(x.shape)\n",
        "x_test=x_test.reshape(-1,128,128,1)\n",
        "print(x_test.shape)"
      ],
      "execution_count": 46,
      "outputs": [
        {
          "output_type": "stream",
          "text": [
            "600\n",
            "150\n",
            "(600, 128, 128)\n",
            "(150, 128, 128)\n",
            "(600, 128, 128, 1)\n",
            "(150, 128, 128, 1)\n"
          ],
          "name": "stdout"
        }
      ]
    },
    {
      "cell_type": "code",
      "metadata": {
        "id": "A4AKSKlbLgkQ",
        "colab_type": "code",
        "outputId": "33881191-1a88-4e1e-a08b-7bb69cfeeba6",
        "colab": {
          "base_uri": "https://localhost:8080/",
          "height": 85
        }
      },
      "source": [
        "#now performing the same operations for the y data\n",
        "y_resize=[]\n",
        "y_tresize=[]\n",
        "for i in range(0,len(y)):\n",
        "    y_resize.append(cv2.resize(y[i],(128,128)))\n",
        "len(y_resize)\n",
        "y=np.array(y_resize)\n",
        "print(y.shape)\n",
        "y=y.reshape(-1,128,128,1)\n",
        "print(y.shape)\n",
        "\n",
        "for i in range(0,len(y_test)):\n",
        "    y_tresize.append(cv2.resize(y_test[i],(128,128)))\n",
        "len(y_tresize)\n",
        "y_test=np.array(y_tresize)\n",
        "print(y_test.shape)\n",
        "y_test=y_test.reshape(-1,128,128,1)\n",
        "print(y_test.shape)\n",
        "\n",
        "del y_resize\n",
        "del y_tresize\n",
        "del x_resize\n",
        "del x_tresize"
      ],
      "execution_count": 47,
      "outputs": [
        {
          "output_type": "stream",
          "text": [
            "(600, 128, 128)\n",
            "(600, 128, 128, 1)\n",
            "(150, 128, 128)\n",
            "(150, 128, 128, 1)\n"
          ],
          "name": "stdout"
        }
      ]
    },
    {
      "cell_type": "code",
      "metadata": {
        "id": "ijORJOyILuXI",
        "colab_type": "code",
        "outputId": "61ee345a-cca5-4d91-fca6-cbf6ff47437c",
        "colab": {
          "base_uri": "https://localhost:8080/",
          "height": 85
        }
      },
      "source": [
        "#finally after performing the all transformation\n",
        "print(x.shape)\n",
        "print(y.shape)\n",
        "print(x_test.shape)\n",
        "print(y_test.shape)"
      ],
      "execution_count": 48,
      "outputs": [
        {
          "output_type": "stream",
          "text": [
            "(600, 128, 128, 1)\n",
            "(600, 128, 128, 1)\n",
            "(150, 128, 128, 1)\n",
            "(150, 128, 128, 1)\n"
          ],
          "name": "stdout"
        }
      ]
    },
    {
      "cell_type": "code",
      "metadata": {
        "id": "CWhH24VYLzLl",
        "colab_type": "code",
        "colab": {}
      },
      "source": [
        "#performing the normalization of taking each value between 0 and 1\n",
        "x=x.astype('float32')/255\n",
        "y=y.astype('float32')/255\n",
        "x_test=x_test.astype('float32')/255\n",
        "y_test=y_test.astype('float32')/255"
      ],
      "execution_count": 0,
      "outputs": []
    },
    {
      "cell_type": "code",
      "metadata": {
        "id": "b485ALlsMNIF",
        "colab_type": "code",
        "colab": {}
      },
      "source": [
        "#normalizing the training data\n",
        "x_mean=np.mean(x)\n",
        "x_std=np.std(x)\n",
        "x=x-x_mean\n",
        "x=x/x_std"
      ],
      "execution_count": 0,
      "outputs": []
    },
    {
      "cell_type": "code",
      "metadata": {
        "id": "k1rZMZZhVLpw",
        "colab_type": "code",
        "colab": {}
      },
      "source": [
        "#normalizing test data\n",
        "x_test=x_test-x_mean\n",
        "x_test=x_test/x_std"
      ],
      "execution_count": 0,
      "outputs": []
    },
    {
      "cell_type": "code",
      "metadata": {
        "id": "ZbrBn3KnMQ6A",
        "colab_type": "code",
        "outputId": "0c9462a2-a858-4208-b128-ed0888a44436",
        "colab": {
          "base_uri": "https://localhost:8080/",
          "height": 357
        }
      },
      "source": [
        "#creating a FCNN Model with constant kernel size results\n",
        "model1 =Sequential()\n",
        "model1.add(Conv2D(16, (3,3), activation='relu',   padding='same',input_shape=(128,128,1)))\n",
        "model1.add(Conv2D(32, (3,3), activation='relu',   padding='same'))\n",
        "model1.add(Conv2D(64, (3,3), activation='relu',   padding='same'))\n",
        "model1.add(Conv2D(128,(3,3),activation='relu', padding='same'))\n",
        "model1.add(Dropout(0.5))\n",
        "model1.add(Conv2D(1,  (1,1), activation='sigmoid',   padding='same'))\n",
        "model1.summary()"
      ],
      "execution_count": 51,
      "outputs": [
        {
          "output_type": "stream",
          "text": [
            "Model: \"sequential_3\"\n",
            "_________________________________________________________________\n",
            "Layer (type)                 Output Shape              Param #   \n",
            "=================================================================\n",
            "conv2d_10 (Conv2D)           (None, 128, 128, 16)      160       \n",
            "_________________________________________________________________\n",
            "conv2d_11 (Conv2D)           (None, 128, 128, 32)      4640      \n",
            "_________________________________________________________________\n",
            "conv2d_12 (Conv2D)           (None, 128, 128, 64)      18496     \n",
            "_________________________________________________________________\n",
            "conv2d_13 (Conv2D)           (None, 128, 128, 128)     73856     \n",
            "_________________________________________________________________\n",
            "dropout_3 (Dropout)          (None, 128, 128, 128)     0         \n",
            "_________________________________________________________________\n",
            "conv2d_14 (Conv2D)           (None, 128, 128, 1)       129       \n",
            "=================================================================\n",
            "Total params: 97,281\n",
            "Trainable params: 97,281\n",
            "Non-trainable params: 0\n",
            "_________________________________________________________________\n"
          ],
          "name": "stdout"
        }
      ]
    },
    {
      "cell_type": "code",
      "metadata": {
        "id": "1zSfmM1BMXR8",
        "colab_type": "code",
        "colab": {}
      },
      "source": [
        "model1.compile(optimizer='adam',loss='mse',metrics=['accuracy'])"
      ],
      "execution_count": 0,
      "outputs": []
    },
    {
      "cell_type": "code",
      "metadata": {
        "id": "KkP6XAKUMuJR",
        "colab_type": "code",
        "colab": {}
      },
      "source": [
        "#moving into main directory\n",
        "os.chdir('/content/drive/My Drive')"
      ],
      "execution_count": 0,
      "outputs": []
    },
    {
      "cell_type": "code",
      "metadata": {
        "id": "9djiyeO3Oqej",
        "colab_type": "code",
        "outputId": "07446479-0ab2-4ae7-c827-4052feeaf33b",
        "colab": {
          "base_uri": "https://localhost:8080/",
          "height": 34
        }
      },
      "source": [
        "os.getcwd()"
      ],
      "execution_count": 54,
      "outputs": [
        {
          "output_type": "execute_result",
          "data": {
            "text/plain": [
              "'/content/drive/My Drive'"
            ]
          },
          "metadata": {
            "tags": []
          },
          "execution_count": 54
        }
      ]
    },
    {
      "cell_type": "code",
      "metadata": {
        "id": "lNAxjV4vO2Td",
        "colab_type": "code",
        "colab": {}
      },
      "source": [
        "#creating callbacks\n",
        "#creating the callbacks and checkpoints to save best model\n",
        "from keras.callbacks import EarlyStopping,ModelCheckpoint\n",
        "es=EarlyStopping(monitor=\"val_loss\",mode='min',patience=10 ,verbose=1)\n",
        "cp=ModelCheckpoint('best_model_FCNN1.h5',monitor=\"val_loss\",mode='min',verbose=1,save_best_only='true')"
      ],
      "execution_count": 0,
      "outputs": []
    },
    {
      "cell_type": "code",
      "metadata": {
        "id": "7C3IkliiMdX1",
        "colab_type": "code",
        "outputId": "775d49bd-f502-4f11-edf3-bb8e54b9b047",
        "colab": {
          "base_uri": "https://localhost:8080/",
          "height": 1000
        }
      },
      "source": [
        "#fitting the model\n",
        "history=model1.fit(x,y,batch_size=32,epochs=50,validation_split=0.2,callbacks=[es,cp],verbose=1,shuffle='true',class_weight='auto')"
      ],
      "execution_count": 0,
      "outputs": [
        {
          "output_type": "stream",
          "text": [
            "Train on 480 samples, validate on 120 samples\n",
            "Epoch 1/50\n",
            "480/480 [==============================] - 123s 255ms/step - loss: 0.1673 - accuracy: 0.7487 - val_loss: 0.1695 - val_accuracy: 0.8113\n",
            "\n",
            "Epoch 00001: val_loss improved from inf to 0.16950, saving model to best_model_FCNN1.h5\n",
            "Epoch 2/50\n",
            "480/480 [==============================] - 121s 252ms/step - loss: 0.1424 - accuracy: 0.8028 - val_loss: 0.1672 - val_accuracy: 0.7832\n",
            "\n",
            "Epoch 00002: val_loss improved from 0.16950 to 0.16722, saving model to best_model_FCNN1.h5\n",
            "Epoch 3/50\n",
            "480/480 [==============================] - 121s 252ms/step - loss: 0.1351 - accuracy: 0.8139 - val_loss: 0.1421 - val_accuracy: 0.8359\n",
            "\n",
            "Epoch 00003: val_loss improved from 0.16722 to 0.14212, saving model to best_model_FCNN1.h5\n",
            "Epoch 4/50\n",
            "480/480 [==============================] - 125s 261ms/step - loss: 0.1299 - accuracy: 0.8204 - val_loss: 0.1433 - val_accuracy: 0.8264\n",
            "\n",
            "Epoch 00004: val_loss did not improve from 0.14212\n",
            "Epoch 5/50\n",
            "480/480 [==============================] - 121s 251ms/step - loss: 0.1265 - accuracy: 0.8258 - val_loss: 0.1540 - val_accuracy: 0.7933\n",
            "\n",
            "Epoch 00005: val_loss did not improve from 0.14212\n",
            "Epoch 6/50\n",
            "480/480 [==============================] - 120s 251ms/step - loss: 0.1258 - accuracy: 0.8234 - val_loss: 0.1612 - val_accuracy: 0.7548\n",
            "\n",
            "Epoch 00006: val_loss did not improve from 0.14212\n",
            "Epoch 7/50\n",
            "480/480 [==============================] - 120s 251ms/step - loss: 0.1251 - accuracy: 0.8250 - val_loss: 0.1438 - val_accuracy: 0.8126\n",
            "\n",
            "Epoch 00007: val_loss did not improve from 0.14212\n",
            "Epoch 8/50\n",
            "480/480 [==============================] - 120s 251ms/step - loss: 0.1217 - accuracy: 0.8302 - val_loss: 0.1603 - val_accuracy: 0.7625\n",
            "\n",
            "Epoch 00008: val_loss did not improve from 0.14212\n",
            "Epoch 9/50\n",
            "480/480 [==============================] - 125s 260ms/step - loss: 0.1229 - accuracy: 0.8253 - val_loss: 0.1530 - val_accuracy: 0.7823\n",
            "\n",
            "Epoch 00009: val_loss did not improve from 0.14212\n",
            "Epoch 10/50\n",
            "480/480 [==============================] - 120s 250ms/step - loss: 0.1174 - accuracy: 0.8373 - val_loss: 0.1553 - val_accuracy: 0.7745\n",
            "\n",
            "Epoch 00010: val_loss did not improve from 0.14212\n",
            "Epoch 11/50\n",
            "480/480 [==============================] - 120s 250ms/step - loss: 0.1179 - accuracy: 0.8359 - val_loss: 0.1373 - val_accuracy: 0.8180\n",
            "\n",
            "Epoch 00011: val_loss improved from 0.14212 to 0.13728, saving model to best_model_FCNN1.h5\n",
            "Epoch 12/50\n",
            "480/480 [==============================] - 120s 250ms/step - loss: 0.1207 - accuracy: 0.8269 - val_loss: 0.1411 - val_accuracy: 0.8063\n",
            "\n",
            "Epoch 00012: val_loss did not improve from 0.13728\n",
            "Epoch 13/50\n",
            "480/480 [==============================] - 120s 250ms/step - loss: 0.1143 - accuracy: 0.8412 - val_loss: 0.1441 - val_accuracy: 0.8003\n",
            "\n",
            "Epoch 00013: val_loss did not improve from 0.13728\n",
            "Epoch 14/50\n",
            "480/480 [==============================] - 124s 258ms/step - loss: 0.1110 - accuracy: 0.8464 - val_loss: 0.1325 - val_accuracy: 0.8278\n",
            "\n",
            "Epoch 00014: val_loss improved from 0.13728 to 0.13247, saving model to best_model_FCNN1.h5\n",
            "Epoch 15/50\n",
            "480/480 [==============================] - 120s 250ms/step - loss: 0.1101 - accuracy: 0.8468 - val_loss: 0.1336 - val_accuracy: 0.8218\n",
            "\n",
            "Epoch 00015: val_loss did not improve from 0.13247\n",
            "Epoch 16/50\n",
            "480/480 [==============================] - 120s 251ms/step - loss: 0.1085 - accuracy: 0.8486 - val_loss: 0.1359 - val_accuracy: 0.8144\n",
            "\n",
            "Epoch 00016: val_loss did not improve from 0.13247\n",
            "Epoch 17/50\n",
            "480/480 [==============================] - 120s 251ms/step - loss: 0.1088 - accuracy: 0.8480 - val_loss: 0.1264 - val_accuracy: 0.8297\n",
            "\n",
            "Epoch 00017: val_loss improved from 0.13247 to 0.12643, saving model to best_model_FCNN1.h5\n",
            "Epoch 18/50\n",
            "480/480 [==============================] - 120s 250ms/step - loss: 0.1081 - accuracy: 0.8488 - val_loss: 0.1275 - val_accuracy: 0.8291\n",
            "\n",
            "Epoch 00018: val_loss did not improve from 0.12643\n",
            "Epoch 19/50\n",
            "480/480 [==============================] - 125s 260ms/step - loss: 0.1069 - accuracy: 0.8506 - val_loss: 0.1299 - val_accuracy: 0.8266\n",
            "\n",
            "Epoch 00019: val_loss did not improve from 0.12643\n",
            "Epoch 20/50\n",
            "480/480 [==============================] - 120s 251ms/step - loss: 0.1086 - accuracy: 0.8477 - val_loss: 0.1290 - val_accuracy: 0.8241\n",
            "\n",
            "Epoch 00020: val_loss did not improve from 0.12643\n",
            "Epoch 21/50\n",
            "480/480 [==============================] - 120s 250ms/step - loss: 0.1081 - accuracy: 0.8499 - val_loss: 0.1395 - val_accuracy: 0.8072\n",
            "\n",
            "Epoch 00021: val_loss did not improve from 0.12643\n",
            "Epoch 22/50\n",
            "480/480 [==============================] - 121s 251ms/step - loss: 0.1069 - accuracy: 0.8501 - val_loss: 0.1246 - val_accuracy: 0.8345\n",
            "\n",
            "Epoch 00022: val_loss improved from 0.12643 to 0.12462, saving model to best_model_FCNN1.h5\n",
            "Epoch 23/50\n",
            "480/480 [==============================] - 120s 250ms/step - loss: 0.1051 - accuracy: 0.8522 - val_loss: 0.1311 - val_accuracy: 0.8212\n",
            "\n",
            "Epoch 00023: val_loss did not improve from 0.12462\n",
            "Epoch 24/50\n",
            "480/480 [==============================] - 125s 260ms/step - loss: 0.1055 - accuracy: 0.8515 - val_loss: 0.1226 - val_accuracy: 0.8369\n",
            "\n",
            "Epoch 00024: val_loss improved from 0.12462 to 0.12257, saving model to best_model_FCNN1.h5\n",
            "Epoch 25/50\n",
            "480/480 [==============================] - 121s 252ms/step - loss: 0.1053 - accuracy: 0.8518 - val_loss: 0.1229 - val_accuracy: 0.8370\n",
            "\n",
            "Epoch 00025: val_loss did not improve from 0.12257\n",
            "Epoch 26/50\n",
            "480/480 [==============================] - 121s 251ms/step - loss: 0.1065 - accuracy: 0.8498 - val_loss: 0.1289 - val_accuracy: 0.8276\n",
            "\n",
            "Epoch 00026: val_loss did not improve from 0.12257\n",
            "Epoch 27/50\n",
            "480/480 [==============================] - 121s 252ms/step - loss: 0.1051 - accuracy: 0.8531 - val_loss: 0.1266 - val_accuracy: 0.8332\n",
            "\n",
            "Epoch 00027: val_loss did not improve from 0.12257\n",
            "Epoch 28/50\n",
            "480/480 [==============================] - 120s 250ms/step - loss: 0.1050 - accuracy: 0.8518 - val_loss: 0.1250 - val_accuracy: 0.8367\n",
            "\n",
            "Epoch 00028: val_loss did not improve from 0.12257\n",
            "Epoch 29/50\n",
            "480/480 [==============================] - 124s 259ms/step - loss: 0.1042 - accuracy: 0.8527 - val_loss: 0.1364 - val_accuracy: 0.8136\n",
            "\n",
            "Epoch 00029: val_loss did not improve from 0.12257\n",
            "Epoch 30/50\n",
            "480/480 [==============================] - 121s 251ms/step - loss: 0.1078 - accuracy: 0.8468 - val_loss: 0.1313 - val_accuracy: 0.8226\n",
            "\n",
            "Epoch 00030: val_loss did not improve from 0.12257\n",
            "Epoch 31/50\n",
            "480/480 [==============================] - 120s 250ms/step - loss: 0.1051 - accuracy: 0.8520 - val_loss: 0.1234 - val_accuracy: 0.8352\n",
            "\n",
            "Epoch 00031: val_loss did not improve from 0.12257\n",
            "Epoch 32/50\n",
            "480/480 [==============================] - 121s 252ms/step - loss: 0.1043 - accuracy: 0.8530 - val_loss: 0.1226 - val_accuracy: 0.8378\n",
            "\n",
            "Epoch 00032: val_loss did not improve from 0.12257\n",
            "Epoch 33/50\n",
            "480/480 [==============================] - 120s 251ms/step - loss: 0.1045 - accuracy: 0.8515 - val_loss: 0.1244 - val_accuracy: 0.8327\n",
            "\n",
            "Epoch 00033: val_loss did not improve from 0.12257\n",
            "Epoch 34/50\n",
            "480/480 [==============================] - 124s 258ms/step - loss: 0.1060 - accuracy: 0.8511 - val_loss: 0.1397 - val_accuracy: 0.8082\n",
            "\n",
            "Epoch 00034: val_loss did not improve from 0.12257\n",
            "Epoch 00034: early stopping\n"
          ],
          "name": "stdout"
        }
      ]
    },
    {
      "cell_type": "code",
      "metadata": {
        "id": "DnLVqBchO613",
        "colab_type": "code",
        "outputId": "97707b50-e95e-4615-f6a7-e91da1279c84",
        "colab": {
          "base_uri": "https://localhost:8080/",
          "height": 51
        }
      },
      "source": [
        "model1.evaluate(x_test,y_test)"
      ],
      "execution_count": 0,
      "outputs": [
        {
          "output_type": "stream",
          "text": [
            "150/150 [==============================] - 9s 59ms/step\n"
          ],
          "name": "stdout"
        },
        {
          "output_type": "execute_result",
          "data": {
            "text/plain": [
              "[0.1625791632135709, 0.8236612677574158]"
            ]
          },
          "metadata": {
            "tags": []
          },
          "execution_count": 24
        }
      ]
    },
    {
      "cell_type": "code",
      "metadata": {
        "id": "iPV9rXkZrclG",
        "colab_type": "code",
        "outputId": "14fa5697-2978-4a3b-e816-4067b20a3263",
        "colab": {
          "base_uri": "https://localhost:8080/",
          "height": 51
        }
      },
      "source": [
        "#evaluting the best model\n",
        "from keras.models import load_model\n",
        "model_best=load_model('best_model_FCNN1.h5')\n",
        "model_best.evaluate(x_test,y_test)"
      ],
      "execution_count": 0,
      "outputs": [
        {
          "output_type": "stream",
          "text": [
            "150/150 [==============================] - 9s 60ms/step\n"
          ],
          "name": "stdout"
        },
        {
          "output_type": "execute_result",
          "data": {
            "text/plain": [
              "[0.1599790315826734, 0.8236629366874695]"
            ]
          },
          "metadata": {
            "tags": []
          },
          "execution_count": 29
        }
      ]
    },
    {
      "cell_type": "code",
      "metadata": {
        "id": "wP0ikXxSrzwj",
        "colab_type": "code",
        "outputId": "c37dba77-a0f8-4a02-b5e3-3092654cb1de",
        "colab": {
          "base_uri": "https://localhost:8080/",
          "height": 323
        }
      },
      "source": [
        "#model with variable kernel size\n",
        "model2 =Sequential()\n",
        "model2.add(Conv2D(16, (3,3), activation='relu',   padding='same',input_shape=(128,128,1)))\n",
        "model2.add(Conv2D(32, (5,5), activation='relu',   padding='same'))\n",
        "model2.add(Conv2D(64, (7,7), activation='relu',   padding='same'))\n",
        "model2.add(Dropout(0.5))\n",
        "model2.add(Conv2D(1,  (1,1), activation='sigmoid',   padding='same'))\n",
        "model2.summary()"
      ],
      "execution_count": 0,
      "outputs": [
        {
          "output_type": "stream",
          "text": [
            "Model: \"sequential_2\"\n",
            "_________________________________________________________________\n",
            "Layer (type)                 Output Shape              Param #   \n",
            "=================================================================\n",
            "conv2d_6 (Conv2D)            (None, 128, 128, 16)      160       \n",
            "_________________________________________________________________\n",
            "conv2d_7 (Conv2D)            (None, 128, 128, 32)      12832     \n",
            "_________________________________________________________________\n",
            "conv2d_8 (Conv2D)            (None, 128, 128, 64)      100416    \n",
            "_________________________________________________________________\n",
            "dropout_2 (Dropout)          (None, 128, 128, 64)      0         \n",
            "_________________________________________________________________\n",
            "conv2d_9 (Conv2D)            (None, 128, 128, 1)       65        \n",
            "=================================================================\n",
            "Total params: 113,473\n",
            "Trainable params: 113,473\n",
            "Non-trainable params: 0\n",
            "_________________________________________________________________\n"
          ],
          "name": "stdout"
        }
      ]
    },
    {
      "cell_type": "code",
      "metadata": {
        "id": "6Jj1gYQjxHBB",
        "colab_type": "code",
        "colab": {}
      },
      "source": [
        "model2.compile(optimizer='adam',loss='mse',metrics=['accuracy'])"
      ],
      "execution_count": 0,
      "outputs": []
    },
    {
      "cell_type": "code",
      "metadata": {
        "id": "T-WI3IMPxNRH",
        "colab_type": "code",
        "colab": {}
      },
      "source": [
        "#creating callbacks\n",
        "#creating the callbacks and checkpoints to save best model\n",
        "from keras.callbacks import EarlyStopping,ModelCheckpoint\n",
        "es=EarlyStopping(monitor=\"val_loss\",mode='min',patience=10 ,verbose=1)\n",
        "cp=ModelCheckpoint('best_model_FCNN2.h5',monitor=\"val_loss\",mode='min',verbose=1,save_best_only='true')"
      ],
      "execution_count": 0,
      "outputs": []
    },
    {
      "cell_type": "code",
      "metadata": {
        "id": "w85Q3SFnxVtj",
        "colab_type": "code",
        "outputId": "b47e960e-5cae-41b3-d611-d24d863384ac",
        "colab": {
          "base_uri": "https://localhost:8080/",
          "height": 68
        }
      },
      "source": [
        "#fitting the model\n",
        "history=model2.fit(x,y,batch_size=32,epochs=50,validation_split=0.2,callbacks=[es,cp],verbose=1,shuffle='true',class_weight='auto')"
      ],
      "execution_count": 0,
      "outputs": [
        {
          "output_type": "stream",
          "text": [
            "Train on 480 samples, validate on 120 samples\n",
            "Epoch 1/50\n",
            "192/480 [===========>..................] - ETA: 1:25 - loss: 0.2195 - accuracy: 0.6375"
          ],
          "name": "stdout"
        }
      ]
    },
    {
      "cell_type": "code",
      "metadata": {
        "id": "1SfWmanqxchA",
        "colab_type": "code",
        "colab": {
          "base_uri": "https://localhost:8080/",
          "height": 391
        },
        "outputId": "9110fbd9-845c-4784-eeb9-ed8015fa370d"
      },
      "source": [
        "#use of upsampling layer this layer is used to perform nearest neighbour operation on the input image and it upsample the imge for example\n",
        "model3 =Sequential()\n",
        "model3.add(Conv2D(16, (3,3), activation='relu',   padding='same',input_shape=(128,128,1)))\n",
        "model3.add(MaxPooling2D(pool_size=(2,2)))\n",
        "model3.add(Conv2D(32, (5,5), activation='relu',   padding='same'))\n",
        "model3.add(Conv2D(64, (7,7), activation='relu',   padding='same'))\n",
        "model3.add(UpSampling2D(size=(2,2)))\n",
        "model3.add(Dropout(0.5))\n",
        "model3.add(Conv2D(1,  (1,1), activation='sigmoid',   padding='same'))\n",
        "model3.summary()\n"
      ],
      "execution_count": 57,
      "outputs": [
        {
          "output_type": "stream",
          "text": [
            "Model: \"sequential_4\"\n",
            "_________________________________________________________________\n",
            "Layer (type)                 Output Shape              Param #   \n",
            "=================================================================\n",
            "conv2d_15 (Conv2D)           (None, 128, 128, 16)      160       \n",
            "_________________________________________________________________\n",
            "max_pooling2d_2 (MaxPooling2 (None, 64, 64, 16)        0         \n",
            "_________________________________________________________________\n",
            "conv2d_16 (Conv2D)           (None, 64, 64, 32)        12832     \n",
            "_________________________________________________________________\n",
            "conv2d_17 (Conv2D)           (None, 64, 64, 64)        100416    \n",
            "_________________________________________________________________\n",
            "up_sampling2d_2 (UpSampling2 (None, 128, 128, 64)      0         \n",
            "_________________________________________________________________\n",
            "dropout_4 (Dropout)          (None, 128, 128, 64)      0         \n",
            "_________________________________________________________________\n",
            "conv2d_18 (Conv2D)           (None, 128, 128, 1)       65        \n",
            "=================================================================\n",
            "Total params: 113,473\n",
            "Trainable params: 113,473\n",
            "Non-trainable params: 0\n",
            "_________________________________________________________________\n"
          ],
          "name": "stdout"
        }
      ]
    },
    {
      "cell_type": "code",
      "metadata": {
        "id": "J-x1fdWbAdvb",
        "colab_type": "code",
        "colab": {}
      },
      "source": [
        "model3.compile(optimizer='adam',loss='mse',metrics=['accuracy'])"
      ],
      "execution_count": 0,
      "outputs": []
    },
    {
      "cell_type": "code",
      "metadata": {
        "id": "4PXY4qAGAjnT",
        "colab_type": "code",
        "colab": {}
      },
      "source": [
        "#creating callbacks\n",
        "#creating the callbacks and checkpoints to save best model\n",
        "from keras.callbacks import EarlyStopping,ModelCheckpoint\n",
        "es=EarlyStopping(monitor=\"val_loss\",mode='min',patience=10 ,verbose=1)\n",
        "cp=ModelCheckpoint('best_model_Usample.h5',monitor=\"val_loss\",mode='min',verbose=1,save_best_only='true')"
      ],
      "execution_count": 0,
      "outputs": []
    },
    {
      "cell_type": "code",
      "metadata": {
        "id": "ztpHHjZaAslC",
        "colab_type": "code",
        "colab": {
          "base_uri": "https://localhost:8080/",
          "height": 1000
        },
        "outputId": "866b6ad2-a3cc-4546-d7de-89264d5386b5"
      },
      "source": [
        "#fitting the model\n",
        "history=model3.fit(x,y,batch_size=32,epochs=50,validation_split=0.2,callbacks=[es,cp],verbose=1,shuffle='true',class_weight='auto')"
      ],
      "execution_count": 60,
      "outputs": [
        {
          "output_type": "stream",
          "text": [
            "Train on 480 samples, validate on 120 samples\n",
            "Epoch 1/50\n",
            "480/480 [==============================] - 47s 97ms/step - loss: 0.1681 - accuracy: 0.7446 - val_loss: 0.1876 - val_accuracy: 0.7100\n",
            "\n",
            "Epoch 00001: val_loss improved from inf to 0.18764, saving model to best_model_Usample.h5\n",
            "Epoch 2/50\n",
            "480/480 [==============================] - 46s 96ms/step - loss: 0.1409 - accuracy: 0.7851 - val_loss: 0.1582 - val_accuracy: 0.7900\n",
            "\n",
            "Epoch 00002: val_loss improved from 0.18764 to 0.15819, saving model to best_model_Usample.h5\n",
            "Epoch 3/50\n",
            "480/480 [==============================] - 46s 97ms/step - loss: 0.1286 - accuracy: 0.8184 - val_loss: 0.1593 - val_accuracy: 0.7488\n",
            "\n",
            "Epoch 00003: val_loss did not improve from 0.15819\n",
            "Epoch 4/50\n",
            "480/480 [==============================] - 46s 97ms/step - loss: 0.1174 - accuracy: 0.8315 - val_loss: 0.1377 - val_accuracy: 0.7977\n",
            "\n",
            "Epoch 00004: val_loss improved from 0.15819 to 0.13773, saving model to best_model_Usample.h5\n",
            "Epoch 5/50\n",
            "480/480 [==============================] - 46s 96ms/step - loss: 0.1106 - accuracy: 0.8449 - val_loss: 0.1302 - val_accuracy: 0.8368\n",
            "\n",
            "Epoch 00005: val_loss improved from 0.13773 to 0.13024, saving model to best_model_Usample.h5\n",
            "Epoch 6/50\n",
            "480/480 [==============================] - 46s 96ms/step - loss: 0.1123 - accuracy: 0.8429 - val_loss: 0.1254 - val_accuracy: 0.8436\n",
            "\n",
            "Epoch 00006: val_loss improved from 0.13024 to 0.12544, saving model to best_model_Usample.h5\n",
            "Epoch 7/50\n",
            "480/480 [==============================] - 46s 96ms/step - loss: 0.1111 - accuracy: 0.8477 - val_loss: 0.1376 - val_accuracy: 0.8109\n",
            "\n",
            "Epoch 00007: val_loss did not improve from 0.12544\n",
            "Epoch 8/50\n",
            "480/480 [==============================] - 46s 97ms/step - loss: 0.1075 - accuracy: 0.8529 - val_loss: 0.1397 - val_accuracy: 0.7999\n",
            "\n",
            "Epoch 00008: val_loss did not improve from 0.12544\n",
            "Epoch 9/50\n",
            "480/480 [==============================] - 46s 96ms/step - loss: 0.1052 - accuracy: 0.8535 - val_loss: 0.1313 - val_accuracy: 0.8305\n",
            "\n",
            "Epoch 00009: val_loss did not improve from 0.12544\n",
            "Epoch 10/50\n",
            "480/480 [==============================] - 46s 96ms/step - loss: 0.1043 - accuracy: 0.8561 - val_loss: 0.1305 - val_accuracy: 0.8204\n",
            "\n",
            "Epoch 00010: val_loss did not improve from 0.12544\n",
            "Epoch 11/50\n",
            "480/480 [==============================] - 46s 96ms/step - loss: 0.1023 - accuracy: 0.8554 - val_loss: 0.1297 - val_accuracy: 0.8282\n",
            "\n",
            "Epoch 00011: val_loss did not improve from 0.12544\n",
            "Epoch 12/50\n",
            "480/480 [==============================] - 46s 96ms/step - loss: 0.1016 - accuracy: 0.8599 - val_loss: 0.1278 - val_accuracy: 0.8265\n",
            "\n",
            "Epoch 00012: val_loss did not improve from 0.12544\n",
            "Epoch 13/50\n",
            "480/480 [==============================] - 46s 96ms/step - loss: 0.1030 - accuracy: 0.8523 - val_loss: 0.1383 - val_accuracy: 0.7944\n",
            "\n",
            "Epoch 00013: val_loss did not improve from 0.12544\n",
            "Epoch 14/50\n",
            "480/480 [==============================] - 46s 96ms/step - loss: 0.1038 - accuracy: 0.8536 - val_loss: 0.1273 - val_accuracy: 0.8381\n",
            "\n",
            "Epoch 00014: val_loss did not improve from 0.12544\n",
            "Epoch 15/50\n",
            "480/480 [==============================] - 46s 96ms/step - loss: 0.0999 - accuracy: 0.8619 - val_loss: 0.1337 - val_accuracy: 0.8112\n",
            "\n",
            "Epoch 00015: val_loss did not improve from 0.12544\n",
            "Epoch 16/50\n",
            "480/480 [==============================] - 46s 96ms/step - loss: 0.0988 - accuracy: 0.8620 - val_loss: 0.1208 - val_accuracy: 0.8356\n",
            "\n",
            "Epoch 00016: val_loss improved from 0.12544 to 0.12080, saving model to best_model_Usample.h5\n",
            "Epoch 17/50\n",
            "480/480 [==============================] - 46s 96ms/step - loss: 0.1023 - accuracy: 0.8573 - val_loss: 0.1137 - val_accuracy: 0.8438\n",
            "\n",
            "Epoch 00017: val_loss improved from 0.12080 to 0.11370, saving model to best_model_Usample.h5\n",
            "Epoch 18/50\n",
            "480/480 [==============================] - 46s 96ms/step - loss: 0.1006 - accuracy: 0.8628 - val_loss: 0.1255 - val_accuracy: 0.8337\n",
            "\n",
            "Epoch 00018: val_loss did not improve from 0.11370\n",
            "Epoch 19/50\n",
            "480/480 [==============================] - 46s 96ms/step - loss: 0.0992 - accuracy: 0.8627 - val_loss: 0.1225 - val_accuracy: 0.8339\n",
            "\n",
            "Epoch 00019: val_loss did not improve from 0.11370\n",
            "Epoch 20/50\n",
            "480/480 [==============================] - 46s 96ms/step - loss: 0.0976 - accuracy: 0.8629 - val_loss: 0.1407 - val_accuracy: 0.7931\n",
            "\n",
            "Epoch 00020: val_loss did not improve from 0.11370\n",
            "Epoch 21/50\n",
            "480/480 [==============================] - 46s 96ms/step - loss: 0.0979 - accuracy: 0.8635 - val_loss: 0.1245 - val_accuracy: 0.8224\n",
            "\n",
            "Epoch 00021: val_loss did not improve from 0.11370\n",
            "Epoch 22/50\n",
            "480/480 [==============================] - 46s 96ms/step - loss: 0.0940 - accuracy: 0.8670 - val_loss: 0.1174 - val_accuracy: 0.8426\n",
            "\n",
            "Epoch 00022: val_loss did not improve from 0.11370\n",
            "Epoch 23/50\n",
            "480/480 [==============================] - 46s 96ms/step - loss: 0.0948 - accuracy: 0.8668 - val_loss: 0.1137 - val_accuracy: 0.8476\n",
            "\n",
            "Epoch 00023: val_loss did not improve from 0.11370\n",
            "Epoch 24/50\n",
            "480/480 [==============================] - 46s 96ms/step - loss: 0.0965 - accuracy: 0.8631 - val_loss: 0.1145 - val_accuracy: 0.8415\n",
            "\n",
            "Epoch 00024: val_loss did not improve from 0.11370\n",
            "Epoch 25/50\n",
            "480/480 [==============================] - 46s 96ms/step - loss: 0.0949 - accuracy: 0.8659 - val_loss: 0.1137 - val_accuracy: 0.8463\n",
            "\n",
            "Epoch 00025: val_loss did not improve from 0.11370\n",
            "Epoch 26/50\n",
            "480/480 [==============================] - 46s 96ms/step - loss: 0.0947 - accuracy: 0.8688 - val_loss: 0.1276 - val_accuracy: 0.8280\n",
            "\n",
            "Epoch 00026: val_loss did not improve from 0.11370\n",
            "Epoch 27/50\n",
            "480/480 [==============================] - 46s 96ms/step - loss: 0.0947 - accuracy: 0.8661 - val_loss: 0.1279 - val_accuracy: 0.8190\n",
            "\n",
            "Epoch 00027: val_loss did not improve from 0.11370\n",
            "Epoch 00027: early stopping\n"
          ],
          "name": "stdout"
        }
      ]
    },
    {
      "cell_type": "code",
      "metadata": {
        "id": "mNMJeZnPAwwJ",
        "colab_type": "code",
        "colab": {
          "base_uri": "https://localhost:8080/",
          "height": 51
        },
        "outputId": "48b899eb-a67a-41d8-ead1-664f2f908a2b"
      },
      "source": [
        "model3.evaluate(x_test,y_test)"
      ],
      "execution_count": 61,
      "outputs": [
        {
          "output_type": "stream",
          "text": [
            "150/150 [==============================] - 3s 21ms/step\n"
          ],
          "name": "stdout"
        },
        {
          "output_type": "execute_result",
          "data": {
            "text/plain": [
              "[0.15860943019390106, 0.8237442970275879]"
            ]
          },
          "metadata": {
            "tags": []
          },
          "execution_count": 61
        }
      ]
    },
    {
      "cell_type": "code",
      "metadata": {
        "id": "u5WK_2YuS-88",
        "colab_type": "code",
        "colab": {}
      },
      "source": [
        "#prediction\n",
        "predict=model3.predict(x_test[100].reshape(1,128,128,1))\n",
        "predict=predict > 0.5"
      ],
      "execution_count": 0,
      "outputs": []
    },
    {
      "cell_type": "code",
      "metadata": {
        "id": "xOwmExRVTWV2",
        "colab_type": "code",
        "colab": {
          "base_uri": "https://localhost:8080/",
          "height": 246
        },
        "outputId": "748a603e-ed3d-44e7-f713-06be4e77c02d"
      },
      "source": [
        "#plotting images\n",
        "plt.figure(figsize=(10,10))\n",
        "plt.subplot(131).imshow(x_test[100].reshape(128,128),'gray')\n",
        "plt.xlabel('orignal image')\n",
        "plt.subplot(132).imshow(y_test[100].reshape(128,128),'gray')\n",
        "plt.xlabel('ground truth')\n",
        "plt.subplot(133).imshow(predict.reshape(128,128),'gray')\n",
        "plt.xlabel('predicted image')"
      ],
      "execution_count": 81,
      "outputs": [
        {
          "output_type": "execute_result",
          "data": {
            "text/plain": [
              "Text(0.5, 0, 'predicted image')"
            ]
          },
          "metadata": {
            "tags": []
          },
          "execution_count": 81
        },
        {
          "output_type": "display_data",
          "data": {
            "image/png": "[encoded data removed]",
            "text/plain": [
              "<Figure size 720x720 with 3 Axes>"
            ]
          },
          "metadata": {
            "tags": [],
            "needs_background": "light"
          }
        }
      ]
    },
    {
      "cell_type": "code",
      "metadata": {
        "id": "Tc-G5VnbUSfd",
        "colab_type": "code",
        "colab": {}
      },
      "source": [
        ""
      ],
      "execution_count": 0,
      "outputs": []
    }
  ]
}