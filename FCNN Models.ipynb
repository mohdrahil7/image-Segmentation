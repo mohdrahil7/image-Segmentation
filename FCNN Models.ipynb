{
 "cells": [
  {
   "cell_type": "code",
   "execution_count": 1,
   "metadata": {},
   "outputs": [
    {
     "name": "stderr",
     "output_type": "stream",
     "text": [
      "Using TensorFlow backend.\n",
      "/home/rahil/anaconda3/envs/tenserflow/lib/python3.6/site-packages/tensorflow/python/framework/dtypes.py:516: FutureWarning: Passing (type, 1) or '1type' as a synonym of type is deprecated; in a future version of numpy, it will be understood as (type, (1,)) / '(1,)type'.\n",
      "  _np_qint8 = np.dtype([(\"qint8\", np.int8, 1)])\n",
      "/home/rahil/anaconda3/envs/tenserflow/lib/python3.6/site-packages/tensorflow/python/framework/dtypes.py:517: FutureWarning: Passing (type, 1) or '1type' as a synonym of type is deprecated; in a future version of numpy, it will be understood as (type, (1,)) / '(1,)type'.\n",
      "  _np_quint8 = np.dtype([(\"quint8\", np.uint8, 1)])\n",
      "/home/rahil/anaconda3/envs/tenserflow/lib/python3.6/site-packages/tensorflow/python/framework/dtypes.py:518: FutureWarning: Passing (type, 1) or '1type' as a synonym of type is deprecated; in a future version of numpy, it will be understood as (type, (1,)) / '(1,)type'.\n",
      "  _np_qint16 = np.dtype([(\"qint16\", np.int16, 1)])\n",
      "/home/rahil/anaconda3/envs/tenserflow/lib/python3.6/site-packages/tensorflow/python/framework/dtypes.py:519: FutureWarning: Passing (type, 1) or '1type' as a synonym of type is deprecated; in a future version of numpy, it will be understood as (type, (1,)) / '(1,)type'.\n",
      "  _np_quint16 = np.dtype([(\"quint16\", np.uint16, 1)])\n",
      "/home/rahil/anaconda3/envs/tenserflow/lib/python3.6/site-packages/tensorflow/python/framework/dtypes.py:520: FutureWarning: Passing (type, 1) or '1type' as a synonym of type is deprecated; in a future version of numpy, it will be understood as (type, (1,)) / '(1,)type'.\n",
      "  _np_qint32 = np.dtype([(\"qint32\", np.int32, 1)])\n",
      "/home/rahil/anaconda3/envs/tenserflow/lib/python3.6/site-packages/tensorflow/python/framework/dtypes.py:525: FutureWarning: Passing (type, 1) or '1type' as a synonym of type is deprecated; in a future version of numpy, it will be understood as (type, (1,)) / '(1,)type'.\n",
      "  np_resource = np.dtype([(\"resource\", np.ubyte, 1)])\n",
      "/home/rahil/anaconda3/envs/tenserflow/lib/python3.6/site-packages/tensorboard/compat/tensorflow_stub/dtypes.py:541: FutureWarning: Passing (type, 1) or '1type' as a synonym of type is deprecated; in a future version of numpy, it will be understood as (type, (1,)) / '(1,)type'.\n",
      "  _np_qint8 = np.dtype([(\"qint8\", np.int8, 1)])\n",
      "/home/rahil/anaconda3/envs/tenserflow/lib/python3.6/site-packages/tensorboard/compat/tensorflow_stub/dtypes.py:542: FutureWarning: Passing (type, 1) or '1type' as a synonym of type is deprecated; in a future version of numpy, it will be understood as (type, (1,)) / '(1,)type'.\n",
      "  _np_quint8 = np.dtype([(\"quint8\", np.uint8, 1)])\n",
      "/home/rahil/anaconda3/envs/tenserflow/lib/python3.6/site-packages/tensorboard/compat/tensorflow_stub/dtypes.py:543: FutureWarning: Passing (type, 1) or '1type' as a synonym of type is deprecated; in a future version of numpy, it will be understood as (type, (1,)) / '(1,)type'.\n",
      "  _np_qint16 = np.dtype([(\"qint16\", np.int16, 1)])\n",
      "/home/rahil/anaconda3/envs/tenserflow/lib/python3.6/site-packages/tensorboard/compat/tensorflow_stub/dtypes.py:544: FutureWarning: Passing (type, 1) or '1type' as a synonym of type is deprecated; in a future version of numpy, it will be understood as (type, (1,)) / '(1,)type'.\n",
      "  _np_quint16 = np.dtype([(\"quint16\", np.uint16, 1)])\n",
      "/home/rahil/anaconda3/envs/tenserflow/lib/python3.6/site-packages/tensorboard/compat/tensorflow_stub/dtypes.py:545: FutureWarning: Passing (type, 1) or '1type' as a synonym of type is deprecated; in a future version of numpy, it will be understood as (type, (1,)) / '(1,)type'.\n",
      "  _np_qint32 = np.dtype([(\"qint32\", np.int32, 1)])\n",
      "/home/rahil/anaconda3/envs/tenserflow/lib/python3.6/site-packages/tensorboard/compat/tensorflow_stub/dtypes.py:550: FutureWarning: Passing (type, 1) or '1type' as a synonym of type is deprecated; in a future version of numpy, it will be understood as (type, (1,)) / '(1,)type'.\n",
      "  np_resource = np.dtype([(\"resource\", np.ubyte, 1)])\n"
     ]
    }
   ],
   "source": [
    "from keras import models\n",
    "from keras.layers import *\n",
    "import os\n",
    "import cv2\n",
    "from matplotlib import pyplot as plt"
   ]
  },
  {
   "cell_type": "code",
   "execution_count": 2,
   "metadata": {},
   "outputs": [],
   "source": [
    "#reading and preprocessing input\n",
    "os.chdir('/home/rahil/image-Segmentation/Datasets')\n",
    "#reading x and y data\n",
    "x=np.load('Skin_TestX.npy')\n",
    "y=np.load('Skin_TestY.npy')\n",
    "#reading the test_data\n",
    "x_test=np.load('Skin_ValidX.npy')\n",
    "y_test=np.load('Skin_ValidY.npy')"
   ]
  },
  {
   "cell_type": "code",
   "execution_count": 3,
   "metadata": {},
   "outputs": [
    {
     "name": "stdout",
     "output_type": "stream",
     "text": [
      "(600, 192, 256, 3)\n",
      "(600, 192, 256)\n",
      "(150, 192, 256, 3)\n",
      "(150, 192, 256)\n"
     ]
    }
   ],
   "source": [
    "print(x.shape)\n",
    "print(y.shape)\n",
    "print(x_test.shape)\n",
    "print(y_test.shape)"
   ]
  },
  {
   "cell_type": "code",
   "execution_count": 4,
   "metadata": {},
   "outputs": [
    {
     "name": "stdout",
     "output_type": "stream",
     "text": [
      "600\n",
      "150\n",
      "(600, 128, 128)\n",
      "(150, 128, 128)\n",
      "(600, 128, 128, 1)\n",
      "(150, 128, 128, 1)\n"
     ]
    }
   ],
   "source": [
    "#preprocessing of data\n",
    "#converting the data into first gray scale and then reducing dimensions\n",
    "x_gray=[]\n",
    "for i in range(0,len(x)):\n",
    "    x_gray.append(cv2.cvtColor(x[i],cv2.COLOR_BGR2GRAY))\n",
    "x=np.array(x_gray)\n",
    "x_test_gray=[]\n",
    "for i in range(0,len(x_test)):\n",
    "    x_test_gray.append(cv2.cvtColor(x_test[i],cv2.COLOR_BGR2GRAY))\n",
    "x_test=np.array(x_test_gray)\n",
    "\n",
    "del x_gray\n",
    "del x_test_gray\n",
    "\n",
    "#resizing of the array into size of 128, 128 using cv2\n",
    "x_resize=[]\n",
    "for i in range(0,len(x)):\n",
    "    x_resize.append(cv2.resize(x[i],(128,128)))\n",
    "print(len(x_resize))\n",
    "x_tresize=[]\n",
    "for i in range(0,len(x_test)):\n",
    "    x_tresize.append(cv2.resize(x_test[i],(128,128)))\n",
    "print(len(x_tresize))\n",
    "\n",
    "x=np.array(x_resize)\n",
    "print(x.shape)\n",
    "x_test=np.array(x_tresize)\n",
    "print(x_test.shape)\n",
    "\n",
    "#now converting each element into 3 dimension\n",
    "x=x.reshape(-1,128,128,1)\n",
    "print(x.shape)\n",
    "x_test=x_test.reshape(-1,128,128,1)\n",
    "print(x_test.shape)"
   ]
  },
  {
   "cell_type": "code",
   "execution_count": 5,
   "metadata": {},
   "outputs": [
    {
     "name": "stdout",
     "output_type": "stream",
     "text": [
      "(600, 128, 128)\n",
      "(600, 128, 128, 1)\n",
      "(150, 128, 128)\n",
      "(150, 128, 128, 1)\n"
     ]
    }
   ],
   "source": [
    "#now performing the same operations for the y data\n",
    "y_resize=[]\n",
    "y_tresize=[]\n",
    "for i in range(0,len(y)):\n",
    "    y_resize.append(cv2.resize(y[i],(128,128)))\n",
    "len(y_resize)\n",
    "y=np.array(y_resize)\n",
    "print(y.shape)\n",
    "y=y.reshape(-1,128,128,1)\n",
    "print(y.shape)\n",
    "\n",
    "for i in range(0,len(y_test)):\n",
    "    y_tresize.append(cv2.resize(y_test[i],(128,128)))\n",
    "len(y_tresize)\n",
    "y_test=np.array(y_tresize)\n",
    "print(y_test.shape)\n",
    "y_test=y_test.reshape(-1,128,128,1)\n",
    "print(y_test.shape)\n",
    "\n",
    "del y_resize\n",
    "del y_tresize\n",
    "del x_resize\n",
    "del x_tresize"
   ]
  },
  {
   "cell_type": "code",
   "execution_count": 6,
   "metadata": {},
   "outputs": [
    {
     "name": "stdout",
     "output_type": "stream",
     "text": [
      "(600, 128, 128, 1)\n",
      "(600, 128, 128, 1)\n",
      "(150, 128, 128, 1)\n",
      "(150, 128, 128, 1)\n"
     ]
    }
   ],
   "source": [
    "#finally after performing the all transformation\n",
    "print(x.shape)\n",
    "print(y.shape)\n",
    "print(x_test.shape)\n",
    "print(y_test.shape)"
   ]
  },
  {
   "cell_type": "code",
   "execution_count": 7,
   "metadata": {},
   "outputs": [],
   "source": [
    "#performing the normalization of taking each value between 0 and 1\n",
    "x=x.astype('float32')/255\n",
    "y=y.astype('float32')/255\n",
    "x_test=x_test.astype('float32')/255\n",
    "y_test=y_test.astype('float32')/255"
   ]
  },
  {
   "cell_type": "code",
   "execution_count": 8,
   "metadata": {},
   "outputs": [],
   "source": [
    "#normalizing the training data\n",
    "x_mean=np.mean(x)\n",
    "x_std=np.std(x)\n",
    "x=x-x_mean\n",
    "x=x/x_std\n",
    "#normalizing the testing data \n",
    "#x_test=x_test-x_mean\n",
    "#x_test=x_test/x_std"
   ]
  },
  {
   "cell_type": "code",
   "execution_count": 13,
   "metadata": {},
   "outputs": [
    {
     "name": "stdout",
     "output_type": "stream",
     "text": [
      "_________________________________________________________________\n",
      "Layer (type)                 Output Shape              Param #   \n",
      "=================================================================\n",
      "conv2d_5 (Conv2D)            (None, 128, 128, 16)      160       \n",
      "_________________________________________________________________\n",
      "conv2d_6 (Conv2D)            (None, 128, 128, 32)      4640      \n",
      "_________________________________________________________________\n",
      "conv2d_7 (Conv2D)            (None, 128, 128, 64)      18496     \n",
      "_________________________________________________________________\n",
      "conv2d_8 (Conv2D)            (None, 128, 128, 128)     73856     \n",
      "_________________________________________________________________\n",
      "dropout_2 (Dropout)          (None, 128, 128, 128)     0         \n",
      "_________________________________________________________________\n",
      "conv2d_9 (Conv2D)            (None, 128, 128, 1)       129       \n",
      "=================================================================\n",
      "Total params: 97,281\n",
      "Trainable params: 97,281\n",
      "Non-trainable params: 0\n",
      "_________________________________________________________________\n"
     ]
    }
   ],
   "source": [
    "#creating a FCNN Model with constant kernel size results\n",
    "model1 =models.Sequential()\n",
    "model1.add(Conv2D(16, (3,3), activation='relu',   padding='same',input_shape=(128,128,1)))\n",
    "model1.add(Conv2D(32, (3,3), activation='relu',   padding='same'))\n",
    "model1.add(Conv2D(64, (3,3), activation='relu',   padding='same'))\n",
    "model1.add(Conv2D(128,(3,3),activation='relu', padding='same'))\n",
    "model1.add(Dropout(0.5))\n",
    "model1.add(Conv2D(1,  (1,1), activation='sigmoid',   padding='same'))\n",
    "model1.summary()"
   ]
  },
  {
   "cell_type": "code",
   "execution_count": 14,
   "metadata": {},
   "outputs": [],
   "source": [
    "model1.compile(optimizer='adam',loss='mse',metrics=['accuracy'])"
   ]
  },
  {
   "cell_type": "code",
   "execution_count": 15,
   "metadata": {},
   "outputs": [],
   "source": [
    "#creating callbacks\n",
    "#creating the callbacks and checkpoints to save best model\n",
    "from keras.callbacks import EarlyStopping,ModelCheckpoint\n",
    "es=EarlyStopping(monitor=\"val_loss\",mode='min',patience=10 ,verbose=1)\n",
    "cp=ModelCheckpoint('best_model_FCNN1.h5',monitor=\"val_loss\",mode='min',verbose=1,save_best_only='true')"
   ]
  },
  {
   "cell_type": "code",
   "execution_count": null,
   "metadata": {},
   "outputs": [
    {
     "name": "stdout",
     "output_type": "stream",
     "text": [
      "Train on 480 samples, validate on 120 samples\n",
      "Epoch 1/50\n",
      " 32/480 [=>............................] - ETA: 15:47 - loss: 0.2474 - acc: 0.5127"
     ]
    }
   ],
   "source": [
    "#fitting the model\n",
    "history=model1.fit(x,y,batch_size=32,epochs=50,validation_split=0.2,callbacks=[es,cp],verbose=1,shuffle='true',class_weight='auto')"
   ]
  },
  {
   "cell_type": "code",
   "execution_count": null,
   "metadata": {},
   "outputs": [],
   "source": []
  }
 ],
 "metadata": {
  "kernelspec": {
   "display_name": "Python 3",
   "language": "python",
   "name": "python3"
  },
  "language_info": {
   "codemirror_mode": {
    "name": "ipython",
    "version": 3
   },
   "file_extension": ".py",
   "mimetype": "text/x-python",
   "name": "python",
   "nbconvert_exporter": "python",
   "pygments_lexer": "ipython3",
   "version": "3.6.10"
  }
 },
 "nbformat": 4,
 "nbformat_minor": 4
}
