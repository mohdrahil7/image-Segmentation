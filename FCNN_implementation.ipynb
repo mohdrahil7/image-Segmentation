{
  "nbformat": 4,
  "nbformat_minor": 0,
  "metadata": {
    "colab": {
      "name": "FCNN_implementation.ipynb",
      "provenance": [],
      "authorship_tag": "ABX9TyOyJyEyvgSgu117UQBvAFrI",
      "include_colab_link": true
    },
    "kernelspec": {
      "name": "python3",
      "display_name": "Python 3"
    },
    "accelerator": "GPU"
  },
  "cells": [
    {
      "cell_type": "markdown",
      "metadata": {
        "id": "view-in-github",
        "colab_type": "text"
      },
      "source": [
        "<a href=\"https://colab.research.google.com/github/mohdrahil7/image-Segmentation/blob/master/FCNN_implementation.ipynb\" target=\"_parent\"><img src=\"https://colab.research.google.com/assets/colab-badge.svg\" alt=\"Open In Colab\"/></a>"
      ]
    },
    {
      "cell_type": "code",
      "metadata": {
        "id": "QZlMaxv6ZGyf",
        "colab_type": "code",
        "outputId": "bec48361-100e-45a2-9903-d54f0f7e7b17",
        "colab": {
          "base_uri": "https://localhost:8080/",
          "height": 122
        }
      },
      "source": [
        "from google.colab import drive\n",
        "drive.mount('/content/drive/')"
      ],
      "execution_count": 1,
      "outputs": [
        {
          "output_type": "stream",
          "text": [
            "Go to this URL in a browser: https://accounts.google.com/o/oauth2/auth?client_id=947318989803-6bn6qk8qdgf4n4g3pfee6491hc0brc4i.apps.googleusercontent.com&redirect_uri=urn%3aietf%3awg%3aoauth%3a2.0%3aoob&response_type=code&scope=email%20https%3a%2f%2fwww.googleapis.com%2fauth%2fdocs.test%20https%3a%2f%2fwww.googleapis.com%2fauth%2fdrive%20https%3a%2f%2fwww.googleapis.com%2fauth%2fdrive.photos.readonly%20https%3a%2f%2fwww.googleapis.com%2fauth%2fpeopleapi.readonly\n",
            "\n",
            "Enter your authorization code:\n",
            "··········\n",
            "Mounted at /content/drive/\n"
          ],
          "name": "stdout"
        }
      ]
    },
    {
      "cell_type": "code",
      "metadata": {
        "id": "_hLtdqYJXqvt",
        "colab_type": "code",
        "outputId": "dca4ed42-f97b-453a-ebbb-030fc71f1474",
        "colab": {
          "base_uri": "https://localhost:8080/",
          "height": 34
        }
      },
      "source": [
        "#implementation of fcn-8 code\n",
        "from keras.layers import *\n",
        "from keras import Model\n",
        "from matplotlib import pyplot as plt\n",
        "import cv2\n",
        "import os\n",
        "import numpy as np"
      ],
      "execution_count": 2,
      "outputs": [
        {
          "output_type": "stream",
          "text": [
            "Using TensorFlow backend.\n"
          ],
          "name": "stderr"
        }
      ]
    },
    {
      "cell_type": "code",
      "metadata": {
        "id": "eGPq3fbaYMwq",
        "colab_type": "code",
        "outputId": "3a654968-3c1e-4875-b504-95bfbcb31b8d",
        "colab": {
          "base_uri": "https://localhost:8080/",
          "height": 34
        }
      },
      "source": [
        "os.getcwd()"
      ],
      "execution_count": 3,
      "outputs": [
        {
          "output_type": "execute_result",
          "data": {
            "text/plain": [
              "'/content'"
            ]
          },
          "metadata": {
            "tags": []
          },
          "execution_count": 3
        }
      ]
    },
    {
      "cell_type": "code",
      "metadata": {
        "id": "y59QelbpY6j4",
        "colab_type": "code",
        "outputId": "1b10eb50-ef63-42cb-f7e1-75d683ee57bb",
        "colab": {
          "base_uri": "https://localhost:8080/",
          "height": 34
        }
      },
      "source": [
        "os.listdir()"
      ],
      "execution_count": 4,
      "outputs": [
        {
          "output_type": "execute_result",
          "data": {
            "text/plain": [
              "['.config', 'drive', 'sample_data']"
            ]
          },
          "metadata": {
            "tags": []
          },
          "execution_count": 4
        }
      ]
    },
    {
      "cell_type": "code",
      "metadata": {
        "id": "znBc00YTY9UT",
        "colab_type": "code",
        "colab": {}
      },
      "source": [
        "os.chdir('/content/drive')"
      ],
      "execution_count": 0,
      "outputs": []
    },
    {
      "cell_type": "code",
      "metadata": {
        "id": "NyUuGY60ZAdL",
        "colab_type": "code",
        "colab": {}
      },
      "source": [
        "os.chdir('My Drive')"
      ],
      "execution_count": 0,
      "outputs": []
    },
    {
      "cell_type": "code",
      "metadata": {
        "id": "cn0GZMyJZjMh",
        "colab_type": "code",
        "colab": {}
      },
      "source": [
        "os.chdir('dataset')"
      ],
      "execution_count": 0,
      "outputs": []
    },
    {
      "cell_type": "code",
      "metadata": {
        "id": "-fOtnRVJZopj",
        "colab_type": "code",
        "colab": {}
      },
      "source": [
        "#reading the training data \n",
        "#reading x and y data\n",
        "x=np.load('Skin_TestX.npy')\n",
        "y=np.load('Skin_TestY.npy')\n",
        "#reading the test_data\n",
        "x_test=np.load('Skin_ValidX.npy')\n",
        "y_test=np.load('Skin_ValidY.npy')"
      ],
      "execution_count": 0,
      "outputs": []
    },
    {
      "cell_type": "code",
      "metadata": {
        "id": "eK7nTYjbZr9E",
        "colab_type": "code",
        "outputId": "b8a8495f-55b7-4799-c692-d2f09ca8f99c",
        "colab": {
          "base_uri": "https://localhost:8080/",
          "height": 85
        }
      },
      "source": [
        "print(x.shape)\n",
        "print(y.shape)\n",
        "print(x_test.shape)\n",
        "print(y_test.shape)"
      ],
      "execution_count": 9,
      "outputs": [
        {
          "output_type": "stream",
          "text": [
            "(600, 192, 256, 3)\n",
            "(600, 192, 256)\n",
            "(150, 192, 256, 3)\n",
            "(150, 192, 256)\n"
          ],
          "name": "stdout"
        }
      ]
    },
    {
      "cell_type": "code",
      "metadata": {
        "id": "csAJdyNSZ0a7",
        "colab_type": "code",
        "outputId": "f852d36f-3dc3-465d-a749-445a80ec39fe",
        "colab": {
          "base_uri": "https://localhost:8080/",
          "height": 119
        }
      },
      "source": [
        "#preprocessing of data\n",
        "#converting the data into first gray scale and then reducing dimensions\n",
        "x_gray=[]\n",
        "for i in range(0,len(x)):\n",
        "    x_gray.append(cv2.cvtColor(x[i],cv2.COLOR_BGR2GRAY))\n",
        "x=np.array(x_gray)\n",
        "x_test_gray=[]\n",
        "for i in range(0,len(x_test)):\n",
        "    x_test_gray.append(cv2.cvtColor(x_test[i],cv2.COLOR_BGR2GRAY))\n",
        "x_test=np.array(x_test_gray)\n",
        "\n",
        "del x_gray\n",
        "del x_test_gray\n",
        "\n",
        "#resizing of the array into size of 128, 128 using cv2\n",
        "x_resize=[]\n",
        "for i in range(0,len(x)):\n",
        "    x_resize.append(cv2.resize(x[i],(128,128)))\n",
        "print(len(x_resize))\n",
        "x_tresize=[]\n",
        "for i in range(0,len(x_test)):\n",
        "    x_tresize.append(cv2.resize(x_test[i],(128,128)))\n",
        "print(len(x_tresize))\n",
        "\n",
        "x=np.array(x_resize)\n",
        "print(x.shape)\n",
        "x_test=np.array(x_tresize)\n",
        "print(x_test.shape)\n",
        "\n",
        "#now converting each element into 3 dimension\n",
        "x=x.reshape(-1,128,128,1)\n",
        "print(x.shape)\n",
        "x_test=x_test.reshape(-1,128,128,1)\n",
        "print(x_test.shape)"
      ],
      "execution_count": 10,
      "outputs": [
        {
          "output_type": "stream",
          "text": [
            "600\n",
            "150\n",
            "(600, 128, 128)\n",
            "(150, 128, 128)\n",
            "(600, 128, 128, 1)\n",
            "(150, 128, 128, 1)\n"
          ],
          "name": "stdout"
        }
      ]
    },
    {
      "cell_type": "code",
      "metadata": {
        "id": "2Y5eGC2lZ24B",
        "colab_type": "code",
        "outputId": "479ddb45-55dd-4be0-ed73-14dc024effd5",
        "colab": {
          "base_uri": "https://localhost:8080/",
          "height": 85
        }
      },
      "source": [
        "#now performing the same operations for the y data\n",
        "y_resize=[]\n",
        "y_tresize=[]\n",
        "for i in range(0,len(y)):\n",
        "    y_resize.append(cv2.resize(y[i],(128,128)))\n",
        "len(y_resize)\n",
        "y=np.array(y_resize)\n",
        "print(y.shape)\n",
        "y=y.reshape(-1,128,128,1)\n",
        "print(y.shape)\n",
        "\n",
        "for i in range(0,len(y_test)):\n",
        "    y_tresize.append(cv2.resize(y_test[i],(128,128)))\n",
        "len(y_tresize)\n",
        "y_test=np.array(y_tresize)\n",
        "print(y_test.shape)\n",
        "y_test=y_test.reshape(-1,128,128,1)\n",
        "print(y_test.shape)\n",
        "\n",
        "del y_resize\n",
        "del y_tresize\n",
        "del x_resize\n",
        "del x_tresize"
      ],
      "execution_count": 11,
      "outputs": [
        {
          "output_type": "stream",
          "text": [
            "(600, 128, 128)\n",
            "(600, 128, 128, 1)\n",
            "(150, 128, 128)\n",
            "(150, 128, 128, 1)\n"
          ],
          "name": "stdout"
        }
      ]
    },
    {
      "cell_type": "code",
      "metadata": {
        "id": "jD7DIv2lZ6d6",
        "colab_type": "code",
        "outputId": "4b1921d9-c682-4652-e05c-cc09089796ef",
        "colab": {
          "base_uri": "https://localhost:8080/",
          "height": 85
        }
      },
      "source": [
        "#finally after performing the all transformation\n",
        "print(x.shape)\n",
        "print(y.shape)\n",
        "print(x_test.shape)\n",
        "print(y_test.shape)"
      ],
      "execution_count": 12,
      "outputs": [
        {
          "output_type": "stream",
          "text": [
            "(600, 128, 128, 1)\n",
            "(600, 128, 128, 1)\n",
            "(150, 128, 128, 1)\n",
            "(150, 128, 128, 1)\n"
          ],
          "name": "stdout"
        }
      ]
    },
    {
      "cell_type": "code",
      "metadata": {
        "id": "EwtqTwGdZ-Mm",
        "colab_type": "code",
        "colab": {}
      },
      "source": [
        "#performing the normalization of taking each value between 0 and 1\n",
        "x=x.astype('float32')/255\n",
        "y=y.astype('float32')/255\n",
        "x_test=x_test.astype('float32')/255\n",
        "y_test=y_test.astype('float32')/255"
      ],
      "execution_count": 0,
      "outputs": []
    },
    {
      "cell_type": "code",
      "metadata": {
        "id": "lv6H-YOqaAng",
        "colab_type": "code",
        "colab": {}
      },
      "source": [
        "#normalizing the training data\n",
        "x_mean=np.mean(x)\n",
        "x_std=np.std(x)\n",
        "x=x-x_mean\n",
        "x=x/x_std"
      ],
      "execution_count": 0,
      "outputs": []
    },
    {
      "cell_type": "code",
      "metadata": {
        "id": "ac6_0G3raCh3",
        "colab_type": "code",
        "colab": {}
      },
      "source": [
        "#normalizing test data\n",
        "x_test=x_test-x_mean\n",
        "x_test=x_test/x_std"
      ],
      "execution_count": 0,
      "outputs": []
    },
    {
      "cell_type": "code",
      "metadata": {
        "id": "JERwR3u5aFKf",
        "colab_type": "code",
        "outputId": "f62f1b42-418c-4b82-b134-0660cab7d1ae",
        "colab": {
          "base_uri": "https://localhost:8080/",
          "height": 1000
        }
      },
      "source": [
        "#creating a FCNN 8 Network but since we are not creating the sequentail network so we need model API to create model\n",
        "\n",
        "def create_model():\n",
        "  input_img=Input(shape=(128,128,1))\n",
        "  #block_1\n",
        "  z=Conv2D(64,(3,3),padding='same',input_shape=(128,128,1),activation='relu',name='block1_conv1')(input_img)\n",
        "  z=Conv2D(64,(3,3),padding='same',activation='relu',name='block1_conv2')(z)\n",
        "  z=MaxPool2D(pool_size=(2,2),strides=(2,2),name='block1_maxpooling')(z)\n",
        "\n",
        "  #block_2\n",
        "  z=Conv2D(128,(3,3),padding='same',activation='relu',name='block2_conv1')(z)\n",
        "  z=Conv2D(128,(3,3),padding='same',activation='relu',name='block2_conv2')(z)\n",
        "  z=MaxPool2D(pool_size=(2,2),strides=(2,2),name='block2_maxpooling')(z)\n",
        "\n",
        "  #block_3\n",
        "  z=Conv2D(256,(3,3),padding='same',activation='relu',name='block3_conv1')(z)\n",
        "  z=Conv2D(256,(3,3),padding='same',activation='relu',name='block3_conv2')(z)\n",
        "  z=Conv2D(256,(3,3),padding='same',activation='relu',name='block3_conv3')(z)\n",
        "  z=MaxPool2D(pool_size=(2,2),strides=(2,2),name='block3_maxpooling')(z)\n",
        "  \n",
        "  block_3=Conv2D(1,(3,3),padding='same',activation='relu',name='block3_direct')(z)\n",
        "\n",
        "  #block_4\n",
        "  z=Conv2D(512,(3,3),padding='same',activation='relu',name='block4_conv1')(z)\n",
        "  z=Conv2D(512,(3,3),padding='same',activation='relu',name='block4_conv2')(z)\n",
        "  z=Conv2D(512,(3,3),padding='same',activation='relu',name='block4_conv3')(z)\n",
        "  z=MaxPool2D(pool_size=(2,2),strides=(2,2),name='block4_maxpooling')(z)\n",
        "\n",
        "  block_4=Conv2D(1,(3,3),padding='same',activation='relu',name='block4_direct')(z)\n",
        "\n",
        "  #block_5\n",
        "  z=Conv2D(512,(3,3),padding='same',activation='relu',name='block5_conv1')(z)\n",
        "  z=Conv2D(512,(3,3),padding='same',activation='relu',name='block5_conv2')(z)\n",
        "  z=Conv2D(512,(3,3),padding='same',activation='relu',name='block5_conv3')(z)\n",
        "  z=MaxPool2D(pool_size=(2,2),strides=(2,2),name='block5_maxpooling')(z)\n",
        "\n",
        "  z=Conv2D(1,(3,3),padding='same',activation='relu',name='block5_direct')(z)\n",
        "\n",
        "  block_5=Conv2DTranspose(1,(4,4),strides=(2,2),activation='relu',padding='same',name=\"first_trans\")(z)\n",
        "  sum_1=add([block_5,block_4])\n",
        "  sum_1=Conv2DTranspose(1,(4,4),strides=(2,2),activation='relu',padding='same' ,name='second_trans')(sum_1)\n",
        "  sum_2=add([sum_1,block_3])\n",
        "  \n",
        "  final=Conv2DTranspose(1,(16,16),strides=(8,8),activation='relu',padding='same' ,name='third_trans')(sum_2)\n",
        "\n",
        "  model1=Model(input_img,final)\n",
        "  return model1\n",
        "\n",
        "model=create_model()\n",
        "model.summary()"
      ],
      "execution_count": 16,
      "outputs": [
        {
          "output_type": "stream",
          "text": [
            "Model: \"model_1\"\n",
            "__________________________________________________________________________________________________\n",
            "Layer (type)                    Output Shape         Param #     Connected to                     \n",
            "==================================================================================================\n",
            "input_1 (InputLayer)            (None, 128, 128, 1)  0                                            \n",
            "__________________________________________________________________________________________________\n",
            "block1_conv1 (Conv2D)           (None, 128, 128, 64) 640         input_1[0][0]                    \n",
            "__________________________________________________________________________________________________\n",
            "block1_conv2 (Conv2D)           (None, 128, 128, 64) 36928       block1_conv1[0][0]               \n",
            "__________________________________________________________________________________________________\n",
            "block1_maxpooling (MaxPooling2D (None, 64, 64, 64)   0           block1_conv2[0][0]               \n",
            "__________________________________________________________________________________________________\n",
            "block2_conv1 (Conv2D)           (None, 64, 64, 128)  73856       block1_maxpooling[0][0]          \n",
            "__________________________________________________________________________________________________\n",
            "block2_conv2 (Conv2D)           (None, 64, 64, 128)  147584      block2_conv1[0][0]               \n",
            "__________________________________________________________________________________________________\n",
            "block2_maxpooling (MaxPooling2D (None, 32, 32, 128)  0           block2_conv2[0][0]               \n",
            "__________________________________________________________________________________________________\n",
            "block3_conv1 (Conv2D)           (None, 32, 32, 256)  295168      block2_maxpooling[0][0]          \n",
            "__________________________________________________________________________________________________\n",
            "block3_conv2 (Conv2D)           (None, 32, 32, 256)  590080      block3_conv1[0][0]               \n",
            "__________________________________________________________________________________________________\n",
            "block3_conv3 (Conv2D)           (None, 32, 32, 256)  590080      block3_conv2[0][0]               \n",
            "__________________________________________________________________________________________________\n",
            "block3_maxpooling (MaxPooling2D (None, 16, 16, 256)  0           block3_conv3[0][0]               \n",
            "__________________________________________________________________________________________________\n",
            "block4_conv1 (Conv2D)           (None, 16, 16, 512)  1180160     block3_maxpooling[0][0]          \n",
            "__________________________________________________________________________________________________\n",
            "block4_conv2 (Conv2D)           (None, 16, 16, 512)  2359808     block4_conv1[0][0]               \n",
            "__________________________________________________________________________________________________\n",
            "block4_conv3 (Conv2D)           (None, 16, 16, 512)  2359808     block4_conv2[0][0]               \n",
            "__________________________________________________________________________________________________\n",
            "block4_maxpooling (MaxPooling2D (None, 8, 8, 512)    0           block4_conv3[0][0]               \n",
            "__________________________________________________________________________________________________\n",
            "block5_conv1 (Conv2D)           (None, 8, 8, 512)    2359808     block4_maxpooling[0][0]          \n",
            "__________________________________________________________________________________________________\n",
            "block5_conv2 (Conv2D)           (None, 8, 8, 512)    2359808     block5_conv1[0][0]               \n",
            "__________________________________________________________________________________________________\n",
            "block5_conv3 (Conv2D)           (None, 8, 8, 512)    2359808     block5_conv2[0][0]               \n",
            "__________________________________________________________________________________________________\n",
            "block5_maxpooling (MaxPooling2D (None, 4, 4, 512)    0           block5_conv3[0][0]               \n",
            "__________________________________________________________________________________________________\n",
            "block5_direct (Conv2D)          (None, 4, 4, 1)      4609        block5_maxpooling[0][0]          \n",
            "__________________________________________________________________________________________________\n",
            "first_trans (Conv2DTranspose)   (None, 8, 8, 1)      17          block5_direct[0][0]              \n",
            "__________________________________________________________________________________________________\n",
            "block4_direct (Conv2D)          (None, 8, 8, 1)      4609        block4_maxpooling[0][0]          \n",
            "__________________________________________________________________________________________________\n",
            "add_1 (Add)                     (None, 8, 8, 1)      0           first_trans[0][0]                \n",
            "                                                                 block4_direct[0][0]              \n",
            "__________________________________________________________________________________________________\n",
            "second_trans (Conv2DTranspose)  (None, 16, 16, 1)    17          add_1[0][0]                      \n",
            "__________________________________________________________________________________________________\n",
            "block3_direct (Conv2D)          (None, 16, 16, 1)    2305        block3_maxpooling[0][0]          \n",
            "__________________________________________________________________________________________________\n",
            "add_2 (Add)                     (None, 16, 16, 1)    0           second_trans[0][0]               \n",
            "                                                                 block3_direct[0][0]              \n",
            "__________________________________________________________________________________________________\n",
            "third_trans (Conv2DTranspose)   (None, 128, 128, 1)  257         add_2[0][0]                      \n",
            "==================================================================================================\n",
            "Total params: 14,725,350\n",
            "Trainable params: 14,725,350\n",
            "Non-trainable params: 0\n",
            "__________________________________________________________________________________________________\n"
          ],
          "name": "stdout"
        }
      ]
    },
    {
      "cell_type": "code",
      "metadata": {
        "id": "Ho16GtpwkRZD",
        "colab_type": "code",
        "colab": {}
      },
      "source": [
        "os.chdir('/content/drive/My Drive')"
      ],
      "execution_count": 0,
      "outputs": []
    },
    {
      "cell_type": "code",
      "metadata": {
        "id": "gIlae0Cec_Dg",
        "colab_type": "code",
        "colab": {}
      },
      "source": [
        "model.compile(optimizer='adam',loss='mse',metrics=['accuracy'])"
      ],
      "execution_count": 0,
      "outputs": []
    },
    {
      "cell_type": "code",
      "metadata": {
        "id": "z6ZH0TUtkH8A",
        "colab_type": "code",
        "colab": {}
      },
      "source": [
        "#creating callbacks\n",
        "#creating the callbacks and checkpoints to save best model\n",
        "from keras.callbacks import EarlyStopping,ModelCheckpoint\n",
        "es=EarlyStopping(monitor=\"val_loss\",mode='min',patience=10 ,verbose=1)\n",
        "cp=ModelCheckpoint('best_model_FCNN8.h5',monitor=\"val_loss\",mode='min',verbose=1,save_best_only='true')"
      ],
      "execution_count": 0,
      "outputs": []
    },
    {
      "cell_type": "code",
      "metadata": {
        "id": "K-VdJOvBkK2P",
        "colab_type": "code",
        "outputId": "6bd6a921-d467-4224-b346-c38edb37f300",
        "colab": {
          "base_uri": "https://localhost:8080/",
          "height": 1000
        }
      },
      "source": [
        "history=model.fit(x,y,batch_size=32,epochs=50,validation_split=0.2,callbacks=[es,cp],verbose=1,shuffle='true',class_weight='auto')"
      ],
      "execution_count": 20,
      "outputs": [
        {
          "output_type": "stream",
          "text": [
            "Train on 480 samples, validate on 120 samples\n",
            "Epoch 1/50\n",
            "480/480 [==============================] - 16s 34ms/step - loss: 0.2495 - accuracy: 0.7334 - val_loss: 0.1498 - val_accuracy: 0.8347\n",
            "\n",
            "Epoch 00001: val_loss improved from inf to 0.14978, saving model to best_model_FCNN8.h5\n",
            "Epoch 2/50\n",
            "480/480 [==============================] - 5s 10ms/step - loss: 0.2003 - accuracy: 0.7568 - val_loss: 0.1407 - val_accuracy: 0.8325\n",
            "\n",
            "Epoch 00002: val_loss improved from 0.14978 to 0.14074, saving model to best_model_FCNN8.h5\n",
            "Epoch 3/50\n",
            "480/480 [==============================] - 5s 10ms/step - loss: 0.1635 - accuracy: 0.7856 - val_loss: 0.1340 - val_accuracy: 0.8337\n",
            "\n",
            "Epoch 00003: val_loss improved from 0.14074 to 0.13401, saving model to best_model_FCNN8.h5\n",
            "Epoch 4/50\n",
            "480/480 [==============================] - 5s 10ms/step - loss: 0.1382 - accuracy: 0.8088 - val_loss: 0.1341 - val_accuracy: 0.8312\n",
            "\n",
            "Epoch 00004: val_loss did not improve from 0.13401\n",
            "Epoch 5/50\n",
            "480/480 [==============================] - 5s 10ms/step - loss: 0.1303 - accuracy: 0.8142 - val_loss: 0.1277 - val_accuracy: 0.8358\n",
            "\n",
            "Epoch 00005: val_loss improved from 0.13401 to 0.12766, saving model to best_model_FCNN8.h5\n",
            "Epoch 6/50\n",
            "480/480 [==============================] - 5s 10ms/step - loss: 0.1520 - accuracy: 0.7704 - val_loss: 0.1247 - val_accuracy: 0.8366\n",
            "\n",
            "Epoch 00006: val_loss improved from 0.12766 to 0.12470, saving model to best_model_FCNN8.h5\n",
            "Epoch 7/50\n",
            "480/480 [==============================] - 5s 10ms/step - loss: 0.1198 - accuracy: 0.8314 - val_loss: 0.1241 - val_accuracy: 0.8369\n",
            "\n",
            "Epoch 00007: val_loss improved from 0.12470 to 0.12415, saving model to best_model_FCNN8.h5\n",
            "Epoch 8/50\n",
            "480/480 [==============================] - 5s 10ms/step - loss: 0.1108 - accuracy: 0.8446 - val_loss: 0.1245 - val_accuracy: 0.8314\n",
            "\n",
            "Epoch 00008: val_loss did not improve from 0.12415\n",
            "Epoch 9/50\n",
            "480/480 [==============================] - 5s 10ms/step - loss: 0.1043 - accuracy: 0.8533 - val_loss: 0.1174 - val_accuracy: 0.8438\n",
            "\n",
            "Epoch 00009: val_loss improved from 0.12415 to 0.11736, saving model to best_model_FCNN8.h5\n",
            "Epoch 10/50\n",
            "480/480 [==============================] - 5s 10ms/step - loss: 0.1012 - accuracy: 0.8550 - val_loss: 0.1078 - val_accuracy: 0.8527\n",
            "\n",
            "Epoch 00010: val_loss improved from 0.11736 to 0.10780, saving model to best_model_FCNN8.h5\n",
            "Epoch 11/50\n",
            "480/480 [==============================] - 5s 10ms/step - loss: 0.0968 - accuracy: 0.8621 - val_loss: 0.1088 - val_accuracy: 0.8529\n",
            "\n",
            "Epoch 00011: val_loss did not improve from 0.10780\n",
            "Epoch 12/50\n",
            "480/480 [==============================] - 5s 10ms/step - loss: 0.0983 - accuracy: 0.8588 - val_loss: 0.1138 - val_accuracy: 0.8396\n",
            "\n",
            "Epoch 00012: val_loss did not improve from 0.10780\n",
            "Epoch 13/50\n",
            "480/480 [==============================] - 5s 10ms/step - loss: 0.0968 - accuracy: 0.8633 - val_loss: 0.1031 - val_accuracy: 0.8588\n",
            "\n",
            "Epoch 00013: val_loss improved from 0.10780 to 0.10312, saving model to best_model_FCNN8.h5\n",
            "Epoch 14/50\n",
            "480/480 [==============================] - 5s 10ms/step - loss: 0.0925 - accuracy: 0.8671 - val_loss: 0.1035 - val_accuracy: 0.8648\n",
            "\n",
            "Epoch 00014: val_loss did not improve from 0.10312\n",
            "Epoch 15/50\n",
            "480/480 [==============================] - 5s 10ms/step - loss: 0.0903 - accuracy: 0.8705 - val_loss: 0.0978 - val_accuracy: 0.8663\n",
            "\n",
            "Epoch 00015: val_loss improved from 0.10312 to 0.09781, saving model to best_model_FCNN8.h5\n",
            "Epoch 16/50\n",
            "480/480 [==============================] - 5s 10ms/step - loss: 0.0849 - accuracy: 0.8808 - val_loss: 0.0949 - val_accuracy: 0.8671\n",
            "\n",
            "Epoch 00016: val_loss improved from 0.09781 to 0.09492, saving model to best_model_FCNN8.h5\n",
            "Epoch 17/50\n",
            "480/480 [==============================] - 5s 10ms/step - loss: 0.0890 - accuracy: 0.8733 - val_loss: 0.1009 - val_accuracy: 0.8634\n",
            "\n",
            "Epoch 00017: val_loss did not improve from 0.09492\n",
            "Epoch 18/50\n",
            "480/480 [==============================] - 5s 10ms/step - loss: 0.0859 - accuracy: 0.8772 - val_loss: 0.0980 - val_accuracy: 0.8643\n",
            "\n",
            "Epoch 00018: val_loss did not improve from 0.09492\n",
            "Epoch 19/50\n",
            "480/480 [==============================] - 5s 10ms/step - loss: 0.0832 - accuracy: 0.8803 - val_loss: 0.0979 - val_accuracy: 0.8656\n",
            "\n",
            "Epoch 00019: val_loss did not improve from 0.09492\n",
            "Epoch 20/50\n",
            "480/480 [==============================] - 5s 10ms/step - loss: 0.0796 - accuracy: 0.8869 - val_loss: 0.0948 - val_accuracy: 0.8679\n",
            "\n",
            "Epoch 00020: val_loss improved from 0.09492 to 0.09476, saving model to best_model_FCNN8.h5\n",
            "Epoch 21/50\n",
            "480/480 [==============================] - 5s 10ms/step - loss: 0.0803 - accuracy: 0.8845 - val_loss: 0.0937 - val_accuracy: 0.8712\n",
            "\n",
            "Epoch 00021: val_loss improved from 0.09476 to 0.09373, saving model to best_model_FCNN8.h5\n",
            "Epoch 22/50\n",
            "480/480 [==============================] - 5s 10ms/step - loss: 0.0800 - accuracy: 0.8871 - val_loss: 0.0952 - val_accuracy: 0.8692\n",
            "\n",
            "Epoch 00022: val_loss did not improve from 0.09373\n",
            "Epoch 23/50\n",
            "480/480 [==============================] - 5s 10ms/step - loss: 0.0783 - accuracy: 0.8883 - val_loss: 0.0962 - val_accuracy: 0.8683\n",
            "\n",
            "Epoch 00023: val_loss did not improve from 0.09373\n",
            "Epoch 24/50\n",
            "480/480 [==============================] - 5s 10ms/step - loss: 0.0739 - accuracy: 0.8940 - val_loss: 0.0905 - val_accuracy: 0.8754\n",
            "\n",
            "Epoch 00024: val_loss improved from 0.09373 to 0.09050, saving model to best_model_FCNN8.h5\n",
            "Epoch 25/50\n",
            "480/480 [==============================] - 5s 10ms/step - loss: 0.0714 - accuracy: 0.8982 - val_loss: 0.0894 - val_accuracy: 0.8730\n",
            "\n",
            "Epoch 00025: val_loss improved from 0.09050 to 0.08944, saving model to best_model_FCNN8.h5\n",
            "Epoch 26/50\n",
            "480/480 [==============================] - 5s 10ms/step - loss: 0.0724 - accuracy: 0.8956 - val_loss: 0.0880 - val_accuracy: 0.8778\n",
            "\n",
            "Epoch 00026: val_loss improved from 0.08944 to 0.08797, saving model to best_model_FCNN8.h5\n",
            "Epoch 27/50\n",
            "480/480 [==============================] - 5s 10ms/step - loss: 0.0689 - accuracy: 0.9013 - val_loss: 0.0879 - val_accuracy: 0.8774\n",
            "\n",
            "Epoch 00027: val_loss improved from 0.08797 to 0.08790, saving model to best_model_FCNN8.h5\n",
            "Epoch 28/50\n",
            "480/480 [==============================] - 5s 10ms/step - loss: 0.0658 - accuracy: 0.9053 - val_loss: 0.0849 - val_accuracy: 0.8812\n",
            "\n",
            "Epoch 00028: val_loss improved from 0.08790 to 0.08491, saving model to best_model_FCNN8.h5\n",
            "Epoch 29/50\n",
            "480/480 [==============================] - 5s 10ms/step - loss: 0.0691 - accuracy: 0.9015 - val_loss: 0.0855 - val_accuracy: 0.8780\n",
            "\n",
            "Epoch 00029: val_loss did not improve from 0.08491\n",
            "Epoch 30/50\n",
            "480/480 [==============================] - 5s 10ms/step - loss: 0.0668 - accuracy: 0.9040 - val_loss: 0.0885 - val_accuracy: 0.8726\n",
            "\n",
            "Epoch 00030: val_loss did not improve from 0.08491\n",
            "Epoch 31/50\n",
            "480/480 [==============================] - 5s 10ms/step - loss: 0.0632 - accuracy: 0.9090 - val_loss: 0.0801 - val_accuracy: 0.8877\n",
            "\n",
            "Epoch 00031: val_loss improved from 0.08491 to 0.08008, saving model to best_model_FCNN8.h5\n",
            "Epoch 32/50\n",
            "480/480 [==============================] - 5s 10ms/step - loss: 0.0655 - accuracy: 0.9070 - val_loss: 0.0913 - val_accuracy: 0.8732\n",
            "\n",
            "Epoch 00032: val_loss did not improve from 0.08008\n",
            "Epoch 33/50\n",
            "480/480 [==============================] - 5s 10ms/step - loss: 0.0627 - accuracy: 0.9100 - val_loss: 0.0840 - val_accuracy: 0.8823\n",
            "\n",
            "Epoch 00033: val_loss did not improve from 0.08008\n",
            "Epoch 34/50\n",
            "480/480 [==============================] - 5s 10ms/step - loss: 0.0616 - accuracy: 0.9113 - val_loss: 0.0821 - val_accuracy: 0.8842\n",
            "\n",
            "Epoch 00034: val_loss did not improve from 0.08008\n",
            "Epoch 35/50\n",
            "480/480 [==============================] - 5s 10ms/step - loss: 0.0587 - accuracy: 0.9162 - val_loss: 0.0795 - val_accuracy: 0.8890\n",
            "\n",
            "Epoch 00035: val_loss improved from 0.08008 to 0.07951, saving model to best_model_FCNN8.h5\n",
            "Epoch 36/50\n",
            "480/480 [==============================] - 5s 10ms/step - loss: 0.0573 - accuracy: 0.9175 - val_loss: 0.0795 - val_accuracy: 0.8877\n",
            "\n",
            "Epoch 00036: val_loss improved from 0.07951 to 0.07951, saving model to best_model_FCNN8.h5\n",
            "Epoch 37/50\n",
            "480/480 [==============================] - 5s 10ms/step - loss: 0.0534 - accuracy: 0.9225 - val_loss: 0.0818 - val_accuracy: 0.8852\n",
            "\n",
            "Epoch 00037: val_loss did not improve from 0.07951\n",
            "Epoch 38/50\n",
            "480/480 [==============================] - 5s 10ms/step - loss: 0.0531 - accuracy: 0.9223 - val_loss: 0.0835 - val_accuracy: 0.8835\n",
            "\n",
            "Epoch 00038: val_loss did not improve from 0.07951\n",
            "Epoch 39/50\n",
            "480/480 [==============================] - 5s 10ms/step - loss: 0.0512 - accuracy: 0.9254 - val_loss: 0.0830 - val_accuracy: 0.8836\n",
            "\n",
            "Epoch 00039: val_loss did not improve from 0.07951\n",
            "Epoch 40/50\n",
            "480/480 [==============================] - 5s 10ms/step - loss: 0.0517 - accuracy: 0.9245 - val_loss: 0.0829 - val_accuracy: 0.8839\n",
            "\n",
            "Epoch 00040: val_loss did not improve from 0.07951\n",
            "Epoch 41/50\n",
            "480/480 [==============================] - 5s 10ms/step - loss: 0.0499 - accuracy: 0.9269 - val_loss: 0.0837 - val_accuracy: 0.8814\n",
            "\n",
            "Epoch 00041: val_loss did not improve from 0.07951\n",
            "Epoch 42/50\n",
            "480/480 [==============================] - 5s 10ms/step - loss: 0.0519 - accuracy: 0.9240 - val_loss: 0.0835 - val_accuracy: 0.8815\n",
            "\n",
            "Epoch 00042: val_loss did not improve from 0.07951\n",
            "Epoch 43/50\n",
            "480/480 [==============================] - 5s 10ms/step - loss: 0.0471 - accuracy: 0.9324 - val_loss: 0.0812 - val_accuracy: 0.8889\n",
            "\n",
            "Epoch 00043: val_loss did not improve from 0.07951\n",
            "Epoch 44/50\n",
            "480/480 [==============================] - 5s 10ms/step - loss: 0.0457 - accuracy: 0.9340 - val_loss: 0.0844 - val_accuracy: 0.8795\n",
            "\n",
            "Epoch 00044: val_loss did not improve from 0.07951\n",
            "Epoch 45/50\n",
            "480/480 [==============================] - 5s 10ms/step - loss: 0.0475 - accuracy: 0.9306 - val_loss: 0.0839 - val_accuracy: 0.8831\n",
            "\n",
            "Epoch 00045: val_loss did not improve from 0.07951\n",
            "Epoch 46/50\n",
            "480/480 [==============================] - 5s 10ms/step - loss: 0.0464 - accuracy: 0.9327 - val_loss: 0.0788 - val_accuracy: 0.8899\n",
            "\n",
            "Epoch 00046: val_loss improved from 0.07951 to 0.07885, saving model to best_model_FCNN8.h5\n",
            "Epoch 47/50\n",
            "480/480 [==============================] - 5s 10ms/step - loss: 0.0426 - accuracy: 0.9373 - val_loss: 0.0842 - val_accuracy: 0.8832\n",
            "\n",
            "Epoch 00047: val_loss did not improve from 0.07885\n",
            "Epoch 48/50\n",
            "480/480 [==============================] - 5s 10ms/step - loss: 0.0404 - accuracy: 0.9411 - val_loss: 0.0812 - val_accuracy: 0.8899\n",
            "\n",
            "Epoch 00048: val_loss did not improve from 0.07885\n",
            "Epoch 49/50\n",
            "480/480 [==============================] - 5s 10ms/step - loss: 0.0407 - accuracy: 0.9406 - val_loss: 0.0799 - val_accuracy: 0.8881\n",
            "\n",
            "Epoch 00049: val_loss did not improve from 0.07885\n",
            "Epoch 50/50\n",
            "480/480 [==============================] - 5s 10ms/step - loss: 0.0372 - accuracy: 0.9455 - val_loss: 0.0803 - val_accuracy: 0.8859\n",
            "\n",
            "Epoch 00050: val_loss did not improve from 0.07885\n"
          ],
          "name": "stdout"
        }
      ]
    },
    {
      "cell_type": "code",
      "metadata": {
        "id": "qJXkNuJ-keh7",
        "colab_type": "code",
        "colab": {
          "base_uri": "https://localhost:8080/",
          "height": 51
        },
        "outputId": "24829ffa-33c8-4cdd-84ec-9c121e61a2bf"
      },
      "source": [
        "#evaluating the model\n",
        "results=model.evaluate(x_test,y_test)\n",
        "print(results)"
      ],
      "execution_count": 21,
      "outputs": [
        {
          "output_type": "stream",
          "text": [
            "150/150 [==============================] - 2s 12ms/step\n",
            "[0.05881959065794945, 0.9181554913520813]\n"
          ],
          "name": "stdout"
        }
      ]
    },
    {
      "cell_type": "code",
      "metadata": {
        "id": "W5xDVVwqQ00b",
        "colab_type": "code",
        "colab": {
          "base_uri": "https://localhost:8080/",
          "height": 51
        },
        "outputId": "a15bf08b-4be4-429e-ed7d-3505456a76b6"
      },
      "source": [
        "#evaluating the best model resutls\n",
        "from keras.models import load_model\n",
        "best_model=load_model('best_model_FCNN8.h5')\n",
        "result1=best_model.evaluate(x_test,y_test)\n",
        "print(result1)"
      ],
      "execution_count": 22,
      "outputs": [
        {
          "output_type": "stream",
          "text": [
            "150/150 [==============================] - 1s 4ms/step\n",
            "[0.05650322258472443, 0.9217329621315002]\n"
          ],
          "name": "stdout"
        }
      ]
    },
    {
      "cell_type": "code",
      "metadata": {
        "id": "SD6FVgV-RxoZ",
        "colab_type": "code",
        "colab": {}
      },
      "source": [
        "#vasuailization of the results\n",
        "predict=model.predict(x_test[105].reshape(1,128,128,1))\n",
        "predict=predict> 0.5"
      ],
      "execution_count": 0,
      "outputs": []
    },
    {
      "cell_type": "code",
      "metadata": {
        "id": "E3CUisFfSMCE",
        "colab_type": "code",
        "colab": {
          "base_uri": "https://localhost:8080/",
          "height": 229
        },
        "outputId": "756aa14c-42df-42b5-872c-bdf170be91ca"
      },
      "source": [
        "#outputs\n",
        "plt.figure(figsize=(10,10))\n",
        "plt.subplot(131).imshow(x_test[105].reshape(128,128),'gray')\n",
        "plt.xlabel('orignal image')\n",
        "plt.subplot(132).imshow(y_test[105].reshape(128,128),'gray')\n",
        "plt.xlabel('ground image')\n",
        "plt.subplot(133).imshow(predict.reshape(128,128),'gray')\n",
        "plt.xlabel('output image')\n",
        "plt.show()"
      ],
      "execution_count": 27,
      "outputs": [
        {
          "output_type": "display_data",
          "data": {
            "image/png": "[encoded data removed]",
            "text/plain": [
              "<Figure size 720x720 with 3 Axes>"
            ]
          },
          "metadata": {
            "tags": [],
            "needs_background": "light"
          }
        }
      ]
    },
    {
      "cell_type": "code",
      "metadata": {
        "id": "-qKZXLbQSzS4",
        "colab_type": "code",
        "colab": {}
      },
      "source": [
        ""
      ],
      "execution_count": 0,
      "outputs": []
    }
  ]
}